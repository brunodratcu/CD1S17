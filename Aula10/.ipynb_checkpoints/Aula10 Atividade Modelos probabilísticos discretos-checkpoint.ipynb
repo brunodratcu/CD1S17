{
 "cells": [
  {
   "cell_type": "markdown",
   "metadata": {},
   "source": [
    "___\n",
    "# Atividade: Modelos probabilísticos discretos e Dados\n",
    "___\n",
    "\n",
    "## Aula 10\n",
    "\n",
    "**Referência de Leitura:**\n",
    "1. Magalhães e Lima (7ª. Edição): Seções 3.2 e 3.3\n",
    "\n",
    "**Hoje:**\n",
    "1.\tDescrever modelos discretos quanto aos resultados teóricos.\n",
    "2.\tExplicar a utilização de modelos probabilísticos no contexto da literatura estatística.\n",
    "3.\tContrastar resultados teóricos e empíricos.\n",
    "4.\tFechamento do conteúdo.\n",
    "\n",
    "**Próxima aula:**\n",
    "1. Leitura prévia necessária: Magalhães e Lima (7ª. Edição): Seção 5.1 (pág. 137) e Seção 5.2 (pág. 146).\n",
    "___"
   ]
  },
  {
   "cell_type": "code",
   "execution_count": 52,
   "metadata": {
    "collapsed": true
   },
   "outputs": [],
   "source": [
    "%matplotlib inline\n",
    "import pandas as pd\n",
    "import matplotlib.pyplot as plt\n",
    "\n",
    "from scipy import stats #importa apenas as funções de estatísticas da biblioteca SciPy.\n",
    "from scipy.stats import binom\n",
    "import itertools #importante para gerar todos os resultados possíveis!!\n",
    "from math import factorial"
   ]
  },
  {
   "cell_type": "markdown",
   "metadata": {},
   "source": [
    "___\n",
    "## <font color='blue'>Exercício 1</font>\n",
    "\n",
    "Um resistor de 100K Ohms comprado na Santa Efigênia tem probabilidade de falha de 5%, segundo um fabricante ruim.\n",
    "\n",
    "Ainda, por suposição, admita que os resistores falhem de forma independente entre si.\n",
    "\n",
    "Um aluno de engenharia compra um pacote contendo $n$ resistores.\n",
    "\n",
    "1. Assuma $n=3$ e faça os itens a seguir.\n",
    "  1. Monte o espaço amostral que combine todos os resultados possíveis de Falha e não Falha desses $n$ resistores. Ainda, calcule a probabilidade de cada resultado do espaço amostral acontecer.\n",
    "  2. Se $Y$ representa o número de resistores que falham em um pacotinho com $n$ resistores, então construa a distribuição de probabilidades de $Y$.\n",
    "  3. Calcule a média e o desvio padrão de $Y$. Interprete os resultados.\n",
    "  4. Utilizando o modelo probabilístico da distribuição Binomial, encontre a distribuição de probabilidades de cada possível valor de $Y$. Calcule também $E(X)$ e $Var(X)$. Compare com as distribuições de probabilidades obtidas nos itens anteriores e discuta porque esses valores são iguais ou diferentes!\n",
    "   \n",
    "2. Assuma $n=7$ e repita os itens A) a D) anteriores. No caso de $n=7$ ou maiores quantidades de resistores em um pacotinho, qual a viabilidade de construir a distribuição de probabilidades do número de resistores com defeitos quando $n$ não é pequeno seguindo os itens de A) a C)?\n",
    "    \n",
    "> \n",
    "\n",
    "> **DISTRIBUIÇÃO BINOMIAL - TEORIA:**\n",
    "\n",
    "> É responsável por modelar uma variável $Y$ definida pelo Número de sucessos em $n$ tentativas, cuja probabilidade de sucesso é dada por $p$. Assim, dizemos que $Y$~$Bin(n,p)$ e lê-se: $Y$ segue uma distribuição binomial com $n$ tentativas e $p$ como probabilidade de sucesso. \n",
    "\n",
    "> A função de probabilidade nesse caso é dada por:\n",
    "$P(Y=y)=\\left(\n",
    "\\begin{array}{c}\n",
    "    n \\\\\n",
    "    y\n",
    "\\end{array}\\right) p^y (1-p)^{(n-y)}$\n",
    "\n",
    "> Para um experimento ter as probabilidade dos números de sucessos modeladas por uma distribuição Binomial, o mesmo precisa ter as seguintes propriedades:\n",
    "* é uma contagem de $n$ repetições (ou tentativas ou ensaios) idênticas;\n",
    "* cada repetição tem apenas 2 resultados possíveis: um é denominado sucesso e o outro, fracasso;\n",
    "* a probabilidade de sucesso para cada ensaio é denominada $p$ e será constante em cada repetição. Então, a probabilidade de fracasso $(1-p)$ também não varia de tentativa para tentativa;\n",
    "* As tentativas são independentes.\n",
    "\n",
    "\n",
    "> **DISTRIBUIÇÃO BINOMIAL - PYTHON:** <sup> [https://en.wikipedia.org/wiki/SciPy]\n",
    "\n",
    "> Algumas funções úteis para desenvolver seu código: <sup> [http://docs.scipy.org/doc/scipy-0.16.1/reference/generated/scipy.stats.binom.html]\n",
    "* $P(Y=y)$: `stats.binom.pmf(y, n, p)`\n",
    "* $P(Y\\leq y)$: `stats.binom.cdf(y, n, p)`\n",
    "* $E(Y)$ e $Var(Y)$: `stats.binom.stats(n, p, moments='mv')`\n"
   ]
  },
  {
   "cell_type": "code",
   "execution_count": 2,
   "metadata": {
    "collapsed": true
   },
   "outputs": [],
   "source": [
    "possi = [\"F\", \"N\"]"
   ]
  },
  {
   "cell_type": "code",
   "execution_count": 3,
   "metadata": {
    "collapsed": true
   },
   "outputs": [],
   "source": [
    "prob = {\"F\": 0.05, \"N\": 0.95}"
   ]
  },
  {
   "cell_type": "code",
   "execution_count": 4,
   "metadata": {
    "collapsed": true
   },
   "outputs": [],
   "source": [
    "#item 1\n",
    "#n=3\n",
    "#item 2\n",
    "n=7"
   ]
  },
  {
   "cell_type": "code",
   "execution_count": 5,
   "metadata": {
    "collapsed": false
   },
   "outputs": [
    {
     "data": {
      "text/plain": [
       "[('F', 'F', 'F', 'F', 'F', 'F', 'F'),\n",
       " ('F', 'F', 'F', 'F', 'F', 'F', 'N'),\n",
       " ('F', 'F', 'F', 'F', 'F', 'N', 'F'),\n",
       " ('F', 'F', 'F', 'F', 'F', 'N', 'N'),\n",
       " ('F', 'F', 'F', 'F', 'N', 'F', 'F'),\n",
       " ('F', 'F', 'F', 'F', 'N', 'F', 'N'),\n",
       " ('F', 'F', 'F', 'F', 'N', 'N', 'F'),\n",
       " ('F', 'F', 'F', 'F', 'N', 'N', 'N'),\n",
       " ('F', 'F', 'F', 'N', 'F', 'F', 'F'),\n",
       " ('F', 'F', 'F', 'N', 'F', 'F', 'N'),\n",
       " ('F', 'F', 'F', 'N', 'F', 'N', 'F'),\n",
       " ('F', 'F', 'F', 'N', 'F', 'N', 'N'),\n",
       " ('F', 'F', 'F', 'N', 'N', 'F', 'F'),\n",
       " ('F', 'F', 'F', 'N', 'N', 'F', 'N'),\n",
       " ('F', 'F', 'F', 'N', 'N', 'N', 'F'),\n",
       " ('F', 'F', 'F', 'N', 'N', 'N', 'N'),\n",
       " ('F', 'F', 'N', 'F', 'F', 'F', 'F'),\n",
       " ('F', 'F', 'N', 'F', 'F', 'F', 'N'),\n",
       " ('F', 'F', 'N', 'F', 'F', 'N', 'F'),\n",
       " ('F', 'F', 'N', 'F', 'F', 'N', 'N'),\n",
       " ('F', 'F', 'N', 'F', 'N', 'F', 'F'),\n",
       " ('F', 'F', 'N', 'F', 'N', 'F', 'N'),\n",
       " ('F', 'F', 'N', 'F', 'N', 'N', 'F'),\n",
       " ('F', 'F', 'N', 'F', 'N', 'N', 'N'),\n",
       " ('F', 'F', 'N', 'N', 'F', 'F', 'F'),\n",
       " ('F', 'F', 'N', 'N', 'F', 'F', 'N'),\n",
       " ('F', 'F', 'N', 'N', 'F', 'N', 'F'),\n",
       " ('F', 'F', 'N', 'N', 'F', 'N', 'N'),\n",
       " ('F', 'F', 'N', 'N', 'N', 'F', 'F'),\n",
       " ('F', 'F', 'N', 'N', 'N', 'F', 'N'),\n",
       " ('F', 'F', 'N', 'N', 'N', 'N', 'F'),\n",
       " ('F', 'F', 'N', 'N', 'N', 'N', 'N'),\n",
       " ('F', 'N', 'F', 'F', 'F', 'F', 'F'),\n",
       " ('F', 'N', 'F', 'F', 'F', 'F', 'N'),\n",
       " ('F', 'N', 'F', 'F', 'F', 'N', 'F'),\n",
       " ('F', 'N', 'F', 'F', 'F', 'N', 'N'),\n",
       " ('F', 'N', 'F', 'F', 'N', 'F', 'F'),\n",
       " ('F', 'N', 'F', 'F', 'N', 'F', 'N'),\n",
       " ('F', 'N', 'F', 'F', 'N', 'N', 'F'),\n",
       " ('F', 'N', 'F', 'F', 'N', 'N', 'N'),\n",
       " ('F', 'N', 'F', 'N', 'F', 'F', 'F'),\n",
       " ('F', 'N', 'F', 'N', 'F', 'F', 'N'),\n",
       " ('F', 'N', 'F', 'N', 'F', 'N', 'F'),\n",
       " ('F', 'N', 'F', 'N', 'F', 'N', 'N'),\n",
       " ('F', 'N', 'F', 'N', 'N', 'F', 'F'),\n",
       " ('F', 'N', 'F', 'N', 'N', 'F', 'N'),\n",
       " ('F', 'N', 'F', 'N', 'N', 'N', 'F'),\n",
       " ('F', 'N', 'F', 'N', 'N', 'N', 'N'),\n",
       " ('F', 'N', 'N', 'F', 'F', 'F', 'F'),\n",
       " ('F', 'N', 'N', 'F', 'F', 'F', 'N'),\n",
       " ('F', 'N', 'N', 'F', 'F', 'N', 'F'),\n",
       " ('F', 'N', 'N', 'F', 'F', 'N', 'N'),\n",
       " ('F', 'N', 'N', 'F', 'N', 'F', 'F'),\n",
       " ('F', 'N', 'N', 'F', 'N', 'F', 'N'),\n",
       " ('F', 'N', 'N', 'F', 'N', 'N', 'F'),\n",
       " ('F', 'N', 'N', 'F', 'N', 'N', 'N'),\n",
       " ('F', 'N', 'N', 'N', 'F', 'F', 'F'),\n",
       " ('F', 'N', 'N', 'N', 'F', 'F', 'N'),\n",
       " ('F', 'N', 'N', 'N', 'F', 'N', 'F'),\n",
       " ('F', 'N', 'N', 'N', 'F', 'N', 'N'),\n",
       " ('F', 'N', 'N', 'N', 'N', 'F', 'F'),\n",
       " ('F', 'N', 'N', 'N', 'N', 'F', 'N'),\n",
       " ('F', 'N', 'N', 'N', 'N', 'N', 'F'),\n",
       " ('F', 'N', 'N', 'N', 'N', 'N', 'N'),\n",
       " ('N', 'F', 'F', 'F', 'F', 'F', 'F'),\n",
       " ('N', 'F', 'F', 'F', 'F', 'F', 'N'),\n",
       " ('N', 'F', 'F', 'F', 'F', 'N', 'F'),\n",
       " ('N', 'F', 'F', 'F', 'F', 'N', 'N'),\n",
       " ('N', 'F', 'F', 'F', 'N', 'F', 'F'),\n",
       " ('N', 'F', 'F', 'F', 'N', 'F', 'N'),\n",
       " ('N', 'F', 'F', 'F', 'N', 'N', 'F'),\n",
       " ('N', 'F', 'F', 'F', 'N', 'N', 'N'),\n",
       " ('N', 'F', 'F', 'N', 'F', 'F', 'F'),\n",
       " ('N', 'F', 'F', 'N', 'F', 'F', 'N'),\n",
       " ('N', 'F', 'F', 'N', 'F', 'N', 'F'),\n",
       " ('N', 'F', 'F', 'N', 'F', 'N', 'N'),\n",
       " ('N', 'F', 'F', 'N', 'N', 'F', 'F'),\n",
       " ('N', 'F', 'F', 'N', 'N', 'F', 'N'),\n",
       " ('N', 'F', 'F', 'N', 'N', 'N', 'F'),\n",
       " ('N', 'F', 'F', 'N', 'N', 'N', 'N'),\n",
       " ('N', 'F', 'N', 'F', 'F', 'F', 'F'),\n",
       " ('N', 'F', 'N', 'F', 'F', 'F', 'N'),\n",
       " ('N', 'F', 'N', 'F', 'F', 'N', 'F'),\n",
       " ('N', 'F', 'N', 'F', 'F', 'N', 'N'),\n",
       " ('N', 'F', 'N', 'F', 'N', 'F', 'F'),\n",
       " ('N', 'F', 'N', 'F', 'N', 'F', 'N'),\n",
       " ('N', 'F', 'N', 'F', 'N', 'N', 'F'),\n",
       " ('N', 'F', 'N', 'F', 'N', 'N', 'N'),\n",
       " ('N', 'F', 'N', 'N', 'F', 'F', 'F'),\n",
       " ('N', 'F', 'N', 'N', 'F', 'F', 'N'),\n",
       " ('N', 'F', 'N', 'N', 'F', 'N', 'F'),\n",
       " ('N', 'F', 'N', 'N', 'F', 'N', 'N'),\n",
       " ('N', 'F', 'N', 'N', 'N', 'F', 'F'),\n",
       " ('N', 'F', 'N', 'N', 'N', 'F', 'N'),\n",
       " ('N', 'F', 'N', 'N', 'N', 'N', 'F'),\n",
       " ('N', 'F', 'N', 'N', 'N', 'N', 'N'),\n",
       " ('N', 'N', 'F', 'F', 'F', 'F', 'F'),\n",
       " ('N', 'N', 'F', 'F', 'F', 'F', 'N'),\n",
       " ('N', 'N', 'F', 'F', 'F', 'N', 'F'),\n",
       " ('N', 'N', 'F', 'F', 'F', 'N', 'N'),\n",
       " ('N', 'N', 'F', 'F', 'N', 'F', 'F'),\n",
       " ('N', 'N', 'F', 'F', 'N', 'F', 'N'),\n",
       " ('N', 'N', 'F', 'F', 'N', 'N', 'F'),\n",
       " ('N', 'N', 'F', 'F', 'N', 'N', 'N'),\n",
       " ('N', 'N', 'F', 'N', 'F', 'F', 'F'),\n",
       " ('N', 'N', 'F', 'N', 'F', 'F', 'N'),\n",
       " ('N', 'N', 'F', 'N', 'F', 'N', 'F'),\n",
       " ('N', 'N', 'F', 'N', 'F', 'N', 'N'),\n",
       " ('N', 'N', 'F', 'N', 'N', 'F', 'F'),\n",
       " ('N', 'N', 'F', 'N', 'N', 'F', 'N'),\n",
       " ('N', 'N', 'F', 'N', 'N', 'N', 'F'),\n",
       " ('N', 'N', 'F', 'N', 'N', 'N', 'N'),\n",
       " ('N', 'N', 'N', 'F', 'F', 'F', 'F'),\n",
       " ('N', 'N', 'N', 'F', 'F', 'F', 'N'),\n",
       " ('N', 'N', 'N', 'F', 'F', 'N', 'F'),\n",
       " ('N', 'N', 'N', 'F', 'F', 'N', 'N'),\n",
       " ('N', 'N', 'N', 'F', 'N', 'F', 'F'),\n",
       " ('N', 'N', 'N', 'F', 'N', 'F', 'N'),\n",
       " ('N', 'N', 'N', 'F', 'N', 'N', 'F'),\n",
       " ('N', 'N', 'N', 'F', 'N', 'N', 'N'),\n",
       " ('N', 'N', 'N', 'N', 'F', 'F', 'F'),\n",
       " ('N', 'N', 'N', 'N', 'F', 'F', 'N'),\n",
       " ('N', 'N', 'N', 'N', 'F', 'N', 'F'),\n",
       " ('N', 'N', 'N', 'N', 'F', 'N', 'N'),\n",
       " ('N', 'N', 'N', 'N', 'N', 'F', 'F'),\n",
       " ('N', 'N', 'N', 'N', 'N', 'F', 'N'),\n",
       " ('N', 'N', 'N', 'N', 'N', 'N', 'F'),\n",
       " ('N', 'N', 'N', 'N', 'N', 'N', 'N')]"
      ]
     },
     "execution_count": 5,
     "metadata": {},
     "output_type": "execute_result"
    }
   ],
   "source": [
    "arranjo = itertools.product(possi, repeat=n)\n",
    "esp_amost = list(arranjo)\n",
    "esp_amost"
   ]
  },
  {
   "cell_type": "code",
   "execution_count": 6,
   "metadata": {
    "collapsed": false,
    "scrolled": false
   },
   "outputs": [
    {
     "name": "stdout",
     "output_type": "stream",
     "text": [
      "Probabilidade da amostra  ('F', 'F', 'F', 'F', 'F', 'F', 'F') é:  0.00000\n",
      "Probabilidade da amostra  ('F', 'F', 'F', 'F', 'F', 'F', 'N') é:  0.00000\n",
      "Probabilidade da amostra  ('F', 'F', 'F', 'F', 'F', 'N', 'F') é:  0.00000\n",
      "Probabilidade da amostra  ('F', 'F', 'F', 'F', 'F', 'N', 'N') é:  0.00000\n",
      "Probabilidade da amostra  ('F', 'F', 'F', 'F', 'N', 'F', 'F') é:  0.00000\n",
      "Probabilidade da amostra  ('F', 'F', 'F', 'F', 'N', 'F', 'N') é:  0.00000\n",
      "Probabilidade da amostra  ('F', 'F', 'F', 'F', 'N', 'N', 'F') é:  0.00000\n",
      "Probabilidade da amostra  ('F', 'F', 'F', 'F', 'N', 'N', 'N') é:  0.00001\n",
      "Probabilidade da amostra  ('F', 'F', 'F', 'N', 'F', 'F', 'F') é:  0.00000\n",
      "Probabilidade da amostra  ('F', 'F', 'F', 'N', 'F', 'F', 'N') é:  0.00000\n",
      "Probabilidade da amostra  ('F', 'F', 'F', 'N', 'F', 'N', 'F') é:  0.00000\n",
      "Probabilidade da amostra  ('F', 'F', 'F', 'N', 'F', 'N', 'N') é:  0.00001\n",
      "Probabilidade da amostra  ('F', 'F', 'F', 'N', 'N', 'F', 'F') é:  0.00000\n",
      "Probabilidade da amostra  ('F', 'F', 'F', 'N', 'N', 'F', 'N') é:  0.00001\n",
      "Probabilidade da amostra  ('F', 'F', 'F', 'N', 'N', 'N', 'F') é:  0.00001\n",
      "Probabilidade da amostra  ('F', 'F', 'F', 'N', 'N', 'N', 'N') é:  0.00010\n",
      "Probabilidade da amostra  ('F', 'F', 'N', 'F', 'F', 'F', 'F') é:  0.00000\n",
      "Probabilidade da amostra  ('F', 'F', 'N', 'F', 'F', 'F', 'N') é:  0.00000\n",
      "Probabilidade da amostra  ('F', 'F', 'N', 'F', 'F', 'N', 'F') é:  0.00000\n",
      "Probabilidade da amostra  ('F', 'F', 'N', 'F', 'F', 'N', 'N') é:  0.00001\n",
      "Probabilidade da amostra  ('F', 'F', 'N', 'F', 'N', 'F', 'F') é:  0.00000\n",
      "Probabilidade da amostra  ('F', 'F', 'N', 'F', 'N', 'F', 'N') é:  0.00001\n",
      "Probabilidade da amostra  ('F', 'F', 'N', 'F', 'N', 'N', 'F') é:  0.00001\n",
      "Probabilidade da amostra  ('F', 'F', 'N', 'F', 'N', 'N', 'N') é:  0.00010\n",
      "Probabilidade da amostra  ('F', 'F', 'N', 'N', 'F', 'F', 'F') é:  0.00000\n",
      "Probabilidade da amostra  ('F', 'F', 'N', 'N', 'F', 'F', 'N') é:  0.00001\n",
      "Probabilidade da amostra  ('F', 'F', 'N', 'N', 'F', 'N', 'F') é:  0.00001\n",
      "Probabilidade da amostra  ('F', 'F', 'N', 'N', 'F', 'N', 'N') é:  0.00010\n",
      "Probabilidade da amostra  ('F', 'F', 'N', 'N', 'N', 'F', 'F') é:  0.00001\n",
      "Probabilidade da amostra  ('F', 'F', 'N', 'N', 'N', 'F', 'N') é:  0.00010\n",
      "Probabilidade da amostra  ('F', 'F', 'N', 'N', 'N', 'N', 'F') é:  0.00010\n",
      "Probabilidade da amostra  ('F', 'F', 'N', 'N', 'N', 'N', 'N') é:  0.00193\n",
      "Probabilidade da amostra  ('F', 'N', 'F', 'F', 'F', 'F', 'F') é:  0.00000\n",
      "Probabilidade da amostra  ('F', 'N', 'F', 'F', 'F', 'F', 'N') é:  0.00000\n",
      "Probabilidade da amostra  ('F', 'N', 'F', 'F', 'F', 'N', 'F') é:  0.00000\n",
      "Probabilidade da amostra  ('F', 'N', 'F', 'F', 'F', 'N', 'N') é:  0.00001\n",
      "Probabilidade da amostra  ('F', 'N', 'F', 'F', 'N', 'F', 'F') é:  0.00000\n",
      "Probabilidade da amostra  ('F', 'N', 'F', 'F', 'N', 'F', 'N') é:  0.00001\n",
      "Probabilidade da amostra  ('F', 'N', 'F', 'F', 'N', 'N', 'F') é:  0.00001\n",
      "Probabilidade da amostra  ('F', 'N', 'F', 'F', 'N', 'N', 'N') é:  0.00010\n",
      "Probabilidade da amostra  ('F', 'N', 'F', 'N', 'F', 'F', 'F') é:  0.00000\n",
      "Probabilidade da amostra  ('F', 'N', 'F', 'N', 'F', 'F', 'N') é:  0.00001\n",
      "Probabilidade da amostra  ('F', 'N', 'F', 'N', 'F', 'N', 'F') é:  0.00001\n",
      "Probabilidade da amostra  ('F', 'N', 'F', 'N', 'F', 'N', 'N') é:  0.00010\n",
      "Probabilidade da amostra  ('F', 'N', 'F', 'N', 'N', 'F', 'F') é:  0.00001\n",
      "Probabilidade da amostra  ('F', 'N', 'F', 'N', 'N', 'F', 'N') é:  0.00010\n",
      "Probabilidade da amostra  ('F', 'N', 'F', 'N', 'N', 'N', 'F') é:  0.00010\n",
      "Probabilidade da amostra  ('F', 'N', 'F', 'N', 'N', 'N', 'N') é:  0.00193\n",
      "Probabilidade da amostra  ('F', 'N', 'N', 'F', 'F', 'F', 'F') é:  0.00000\n",
      "Probabilidade da amostra  ('F', 'N', 'N', 'F', 'F', 'F', 'N') é:  0.00001\n",
      "Probabilidade da amostra  ('F', 'N', 'N', 'F', 'F', 'N', 'F') é:  0.00001\n",
      "Probabilidade da amostra  ('F', 'N', 'N', 'F', 'F', 'N', 'N') é:  0.00010\n",
      "Probabilidade da amostra  ('F', 'N', 'N', 'F', 'N', 'F', 'F') é:  0.00001\n",
      "Probabilidade da amostra  ('F', 'N', 'N', 'F', 'N', 'F', 'N') é:  0.00010\n",
      "Probabilidade da amostra  ('F', 'N', 'N', 'F', 'N', 'N', 'F') é:  0.00010\n",
      "Probabilidade da amostra  ('F', 'N', 'N', 'F', 'N', 'N', 'N') é:  0.00193\n",
      "Probabilidade da amostra  ('F', 'N', 'N', 'N', 'F', 'F', 'F') é:  0.00001\n",
      "Probabilidade da amostra  ('F', 'N', 'N', 'N', 'F', 'F', 'N') é:  0.00010\n",
      "Probabilidade da amostra  ('F', 'N', 'N', 'N', 'F', 'N', 'F') é:  0.00010\n",
      "Probabilidade da amostra  ('F', 'N', 'N', 'N', 'F', 'N', 'N') é:  0.00193\n",
      "Probabilidade da amostra  ('F', 'N', 'N', 'N', 'N', 'F', 'F') é:  0.00010\n",
      "Probabilidade da amostra  ('F', 'N', 'N', 'N', 'N', 'F', 'N') é:  0.00193\n",
      "Probabilidade da amostra  ('F', 'N', 'N', 'N', 'N', 'N', 'F') é:  0.00193\n",
      "Probabilidade da amostra  ('F', 'N', 'N', 'N', 'N', 'N', 'N') é:  0.03675\n",
      "Probabilidade da amostra  ('N', 'F', 'F', 'F', 'F', 'F', 'F') é:  0.00000\n",
      "Probabilidade da amostra  ('N', 'F', 'F', 'F', 'F', 'F', 'N') é:  0.00000\n",
      "Probabilidade da amostra  ('N', 'F', 'F', 'F', 'F', 'N', 'F') é:  0.00000\n",
      "Probabilidade da amostra  ('N', 'F', 'F', 'F', 'F', 'N', 'N') é:  0.00001\n",
      "Probabilidade da amostra  ('N', 'F', 'F', 'F', 'N', 'F', 'F') é:  0.00000\n",
      "Probabilidade da amostra  ('N', 'F', 'F', 'F', 'N', 'F', 'N') é:  0.00001\n",
      "Probabilidade da amostra  ('N', 'F', 'F', 'F', 'N', 'N', 'F') é:  0.00001\n",
      "Probabilidade da amostra  ('N', 'F', 'F', 'F', 'N', 'N', 'N') é:  0.00010\n",
      "Probabilidade da amostra  ('N', 'F', 'F', 'N', 'F', 'F', 'F') é:  0.00000\n",
      "Probabilidade da amostra  ('N', 'F', 'F', 'N', 'F', 'F', 'N') é:  0.00001\n",
      "Probabilidade da amostra  ('N', 'F', 'F', 'N', 'F', 'N', 'F') é:  0.00001\n",
      "Probabilidade da amostra  ('N', 'F', 'F', 'N', 'F', 'N', 'N') é:  0.00010\n",
      "Probabilidade da amostra  ('N', 'F', 'F', 'N', 'N', 'F', 'F') é:  0.00001\n",
      "Probabilidade da amostra  ('N', 'F', 'F', 'N', 'N', 'F', 'N') é:  0.00010\n",
      "Probabilidade da amostra  ('N', 'F', 'F', 'N', 'N', 'N', 'F') é:  0.00010\n",
      "Probabilidade da amostra  ('N', 'F', 'F', 'N', 'N', 'N', 'N') é:  0.00193\n",
      "Probabilidade da amostra  ('N', 'F', 'N', 'F', 'F', 'F', 'F') é:  0.00000\n",
      "Probabilidade da amostra  ('N', 'F', 'N', 'F', 'F', 'F', 'N') é:  0.00001\n",
      "Probabilidade da amostra  ('N', 'F', 'N', 'F', 'F', 'N', 'F') é:  0.00001\n",
      "Probabilidade da amostra  ('N', 'F', 'N', 'F', 'F', 'N', 'N') é:  0.00010\n",
      "Probabilidade da amostra  ('N', 'F', 'N', 'F', 'N', 'F', 'F') é:  0.00001\n",
      "Probabilidade da amostra  ('N', 'F', 'N', 'F', 'N', 'F', 'N') é:  0.00010\n",
      "Probabilidade da amostra  ('N', 'F', 'N', 'F', 'N', 'N', 'F') é:  0.00010\n",
      "Probabilidade da amostra  ('N', 'F', 'N', 'F', 'N', 'N', 'N') é:  0.00193\n",
      "Probabilidade da amostra  ('N', 'F', 'N', 'N', 'F', 'F', 'F') é:  0.00001\n",
      "Probabilidade da amostra  ('N', 'F', 'N', 'N', 'F', 'F', 'N') é:  0.00010\n",
      "Probabilidade da amostra  ('N', 'F', 'N', 'N', 'F', 'N', 'F') é:  0.00010\n",
      "Probabilidade da amostra  ('N', 'F', 'N', 'N', 'F', 'N', 'N') é:  0.00193\n",
      "Probabilidade da amostra  ('N', 'F', 'N', 'N', 'N', 'F', 'F') é:  0.00010\n",
      "Probabilidade da amostra  ('N', 'F', 'N', 'N', 'N', 'F', 'N') é:  0.00193\n",
      "Probabilidade da amostra  ('N', 'F', 'N', 'N', 'N', 'N', 'F') é:  0.00193\n",
      "Probabilidade da amostra  ('N', 'F', 'N', 'N', 'N', 'N', 'N') é:  0.03675\n",
      "Probabilidade da amostra  ('N', 'N', 'F', 'F', 'F', 'F', 'F') é:  0.00000\n",
      "Probabilidade da amostra  ('N', 'N', 'F', 'F', 'F', 'F', 'N') é:  0.00001\n",
      "Probabilidade da amostra  ('N', 'N', 'F', 'F', 'F', 'N', 'F') é:  0.00001\n",
      "Probabilidade da amostra  ('N', 'N', 'F', 'F', 'F', 'N', 'N') é:  0.00010\n",
      "Probabilidade da amostra  ('N', 'N', 'F', 'F', 'N', 'F', 'F') é:  0.00001\n",
      "Probabilidade da amostra  ('N', 'N', 'F', 'F', 'N', 'F', 'N') é:  0.00010\n",
      "Probabilidade da amostra  ('N', 'N', 'F', 'F', 'N', 'N', 'F') é:  0.00010\n",
      "Probabilidade da amostra  ('N', 'N', 'F', 'F', 'N', 'N', 'N') é:  0.00193\n",
      "Probabilidade da amostra  ('N', 'N', 'F', 'N', 'F', 'F', 'F') é:  0.00001\n",
      "Probabilidade da amostra  ('N', 'N', 'F', 'N', 'F', 'F', 'N') é:  0.00010\n",
      "Probabilidade da amostra  ('N', 'N', 'F', 'N', 'F', 'N', 'F') é:  0.00010\n",
      "Probabilidade da amostra  ('N', 'N', 'F', 'N', 'F', 'N', 'N') é:  0.00193\n",
      "Probabilidade da amostra  ('N', 'N', 'F', 'N', 'N', 'F', 'F') é:  0.00010\n",
      "Probabilidade da amostra  ('N', 'N', 'F', 'N', 'N', 'F', 'N') é:  0.00193\n",
      "Probabilidade da amostra  ('N', 'N', 'F', 'N', 'N', 'N', 'F') é:  0.00193\n",
      "Probabilidade da amostra  ('N', 'N', 'F', 'N', 'N', 'N', 'N') é:  0.03675\n",
      "Probabilidade da amostra  ('N', 'N', 'N', 'F', 'F', 'F', 'F') é:  0.00001\n",
      "Probabilidade da amostra  ('N', 'N', 'N', 'F', 'F', 'F', 'N') é:  0.00010\n",
      "Probabilidade da amostra  ('N', 'N', 'N', 'F', 'F', 'N', 'F') é:  0.00010\n",
      "Probabilidade da amostra  ('N', 'N', 'N', 'F', 'F', 'N', 'N') é:  0.00193\n",
      "Probabilidade da amostra  ('N', 'N', 'N', 'F', 'N', 'F', 'F') é:  0.00010\n",
      "Probabilidade da amostra  ('N', 'N', 'N', 'F', 'N', 'F', 'N') é:  0.00193\n",
      "Probabilidade da amostra  ('N', 'N', 'N', 'F', 'N', 'N', 'F') é:  0.00193\n",
      "Probabilidade da amostra  ('N', 'N', 'N', 'F', 'N', 'N', 'N') é:  0.03675\n",
      "Probabilidade da amostra  ('N', 'N', 'N', 'N', 'F', 'F', 'F') é:  0.00010\n",
      "Probabilidade da amostra  ('N', 'N', 'N', 'N', 'F', 'F', 'N') é:  0.00193\n",
      "Probabilidade da amostra  ('N', 'N', 'N', 'N', 'F', 'N', 'F') é:  0.00193\n",
      "Probabilidade da amostra  ('N', 'N', 'N', 'N', 'F', 'N', 'N') é:  0.03675\n",
      "Probabilidade da amostra  ('N', 'N', 'N', 'N', 'N', 'F', 'F') é:  0.00193\n",
      "Probabilidade da amostra  ('N', 'N', 'N', 'N', 'N', 'F', 'N') é:  0.03675\n",
      "Probabilidade da amostra  ('N', 'N', 'N', 'N', 'N', 'N', 'F') é:  0.03675\n",
      "Probabilidade da amostra  ('N', 'N', 'N', 'N', 'N', 'N', 'N') é:  0.69834\n"
     ]
    }
   ],
   "source": [
    "probabilidade = []\n",
    "\n",
    "for i in esp_amost:\n",
    "    pro = 1.0\n",
    "    for u in i:\n",
    "        pro*=prob[u]\n",
    "    probabilidade.append(pro)\n",
    "    print(\"Probabilidade da amostra \", i, \"é: \", \"%3.5f\"%pro)"
   ]
  },
  {
   "cell_type": "code",
   "execution_count": 7,
   "metadata": {
    "collapsed": false
   },
   "outputs": [
    {
     "data": {
      "text/plain": [
       "'1.00000'"
      ]
     },
     "execution_count": 7,
     "metadata": {},
     "output_type": "execute_result"
    }
   ],
   "source": [
    "\"%3.5f\"%sum(probabilidade)"
   ]
  },
  {
   "cell_type": "code",
   "execution_count": 8,
   "metadata": {
    "collapsed": false
   },
   "outputs": [
    {
     "name": "stdout",
     "output_type": "stream",
     "text": [
      "Falhas:  0 Probabilidade:  0.69834 \n",
      "Falhas:  1 Probabilidade:  0.25728 \n",
      "Falhas:  2 Probabilidade:  0.04062 \n",
      "Falhas:  3 Probabilidade:  0.00356 \n",
      "Falhas:  4 Probabilidade:  0.00019 \n",
      "Falhas:  5 Probabilidade:  0.00001 \n",
      "Falhas:  6 Probabilidade:  0.00000 \n",
      "Falhas:  7 Probabilidade:  0.00000 \n"
     ]
    }
   ],
   "source": [
    "Y = {}\n",
    "\n",
    "for i in range(len(esp_amost)):\n",
    "    y = esp_amost[i].count(\"F\")\n",
    "    \n",
    "    if y in Y:\n",
    "        Y[y] += probabilidade[i]\n",
    "    else:\n",
    "        Y[y] = probabilidade[i]\n",
    "        \n",
    "for y in Y:\n",
    "    print(\"Falhas: \", y, \"Probabilidade: \", \"%3.5f \"%Y[y])"
   ]
  },
  {
   "cell_type": "code",
   "execution_count": 9,
   "metadata": {
    "collapsed": false
   },
   "outputs": [
    {
     "name": "stdout",
     "output_type": "stream",
     "text": [
      "Media : 0.35\n",
      "Vari : 0.3324999999999999\n",
      "DP : 0.5766281297335397\n"
     ]
    }
   ],
   "source": [
    "media = 0\n",
    "var = 0\n",
    "\n",
    "for chave in Y:\n",
    "    media += chave*Y[chave]\n",
    "    \n",
    "for chaves in Y:\n",
    "    var += ((chaves-media)**2)*Y[chaves]\n",
    "    \n",
    "dp = var**0.5\n",
    "    \n",
    "print(\"Media :\", media)\n",
    "print(\"Vari :\", var)\n",
    "print(\"DP :\", dp)"
   ]
  },
  {
   "cell_type": "code",
   "execution_count": 10,
   "metadata": {
    "collapsed": false
   },
   "outputs": [
    {
     "name": "stdout",
     "output_type": "stream",
     "text": [
      "[0.6983372960937497, 0.25728216171874996, 0.04062349921875, 0.0035634648437500006, 0.00018755078125, 5.922656250000001e-06, 1.0390625000000004e-07, 7.812500000000003e-10]\n",
      "7.812500000000003e-10\n"
     ]
    }
   ],
   "source": [
    "prob = []\n",
    "#PYy = fatorial*((prob)**y)*((1-prob))**(n-y) == stats.binom.pmf(y, n, p)\n",
    "#e(x) e var(x) = stats.binom.stats(n, p, moments='mv')\n",
    "for y in Y:\n",
    "    fatorial = factorial(n)/(factorial(y)*factorial(n-y))\n",
    "    probabilidades = fatorial*(0.05**y)*((1-0.05)**(n-y))\n",
    "    prob.append(probabilidades)\n",
    "    \n",
    "print(prob)\n",
    "print(probabilidades)\n",
    "    \n"
   ]
  },
  {
   "cell_type": "code",
   "execution_count": 11,
   "metadata": {
    "collapsed": false
   },
   "outputs": [
    {
     "name": "stdout",
     "output_type": "stream",
     "text": [
      "[0.69833729609374995, 0.25728216171875012, 0.040623499218750039, 0.0035634648437500001, 0.00018755078124999986, 5.922656250000019e-06, 1.0390624999999968e-07, 7.8125000000000038e-10]\n"
     ]
    }
   ],
   "source": [
    "probi = []\n",
    "for i in range(n+1):\n",
    "    probi.append(stats.binom.pmf(i, n, 0.05))\n",
    "    \n",
    "print(probi)\n"
   ]
  },
  {
   "cell_type": "code",
   "execution_count": 12,
   "metadata": {
    "collapsed": false
   },
   "outputs": [
    {
     "name": "stdout",
     "output_type": "stream",
     "text": [
      "[(array(0.35000000000000003), array(0.3325)), (array(0.35000000000000003), array(0.3325)), (array(0.35000000000000003), array(0.3325)), (array(0.35000000000000003), array(0.3325)), (array(0.35000000000000003), array(0.3325)), (array(0.35000000000000003), array(0.3325)), (array(0.35000000000000003), array(0.3325)), (array(0.35000000000000003), array(0.3325))]\n"
     ]
    }
   ],
   "source": [
    "probi = []\n",
    "for i in range(n+1):\n",
    "    probi.append(stats.binom.stats(n, 0.05, moments='mv'))\n",
    "    \n",
    "print(probi)\n",
    "    "
   ]
  },
  {
   "cell_type": "code",
   "execution_count": null,
   "metadata": {
    "collapsed": true
   },
   "outputs": [],
   "source": []
  },
  {
   "cell_type": "code",
   "execution_count": null,
   "metadata": {
    "collapsed": true
   },
   "outputs": [],
   "source": []
  },
  {
   "cell_type": "markdown",
   "metadata": {},
   "source": [
    "___\n",
    "## <font color='blue'>Exercício 2</font> \n",
    "\n",
    "### <font color='red'>**Publicar no github até dia 21/03 INDIVIDUAL **</font>\n",
    "\n",
    "Esse exercício irá explorar uma modelagem de dados reais.\n",
    "\n",
    "> **Confira alguns itens obrigatórios verificados durante a vistoria do Detran**\n",
    "\n",
    "> *Todos os veículos, novos ou velhos, precisam passar por uma vistoria todos os anos. (...) O motorista precisa estar atento a alguns itens obrigatórios. Tudo deve funcionar perfeitamente, apresentar bom estado de conservação e estar dentro do prazo de validade.*\n",
    "\n",
    "> <sup>Fonte: http://extra.globo.com/noticias/brasil/transito-seguro/confira-alguns-itens-obrigatorios-verificados-durante-vistoria-do-detran-10190355.html</sup>\n",
    "\n",
    "Essa matéria lista 14 itens que são inspecionados pelo Detran, dentre os quais têm-se: extintor de incêndio deve estar dentro do prazo de validade; pneus devem estar em bom estado de conservação; buzina deve funcionar perfeitamente; e cintos de segurança para todos os ocupantes do carro. Se, no final das contas, todos os 14 itens estiverem funcionando perfeitamente, o motorista irá feliz para casa assegurado de que seu carro está sem problemas com a vistoria.\n",
    "\n",
    "1. A base de dados `Carros.txt` apresenta, para cada um dos três mil carros de passeio vistoriados, duas informações: tipo de carro (1: Popular e 2: Não Popular) e quantidade de itens vistoriados em não conformidade (que pode variar de 0 a 14). \n",
    "    1. Considerando todos os carros, analise a quantidade de itens vistoriados em não conformidade. Pela tabela de frequências relativas, calcule a média e variância dessa quantidade. Interprete-os.\n",
    "    2. Assuma que a variável *Quantidade de itens em não conformidade* possa ser ajustada pelo modelo Binomial com parâmetros $n=14$ e $p=0,10$. Interprete esses parâmetros para o problema em questão e, ainda, discuta se as propriedades da distribuição Binomial estão satisfeitas para o problema aqui me questão.\n",
    "    \n",
    "    **Independente da sua resposta anterior, considere que a distribuição binomial seja adequada para modelar a variável de interesse nos próximos itens!**\n",
    "    3. Utilizando o método `stats.binom.pmf`, obtenha a probabilidade de cada uma das quantidades de itens em não conformidade quando $n=14$ e $p=0,10$. Calcule o valor esperado e a variância da quantidade de itens em não conformidade utilizando o método `stats.binom.stats` e via resultado da Tabela 4.4 do Magalhães e Lima (pág. 125).\n",
    "    4. Compare as probabilidades teóricas com as frequências relativas observadas nos dados. Para isso, tem-se, por exemplo, as duas opções abaixo para comparar se os resultados empíricos se encaixam com o modelo teórico proposto. \n",
    "        - A primeira opção gráfica contrasta a frequência relativa e a probabilidade teórica para uma determinada quantidade de itens em não conformidade! Vide Figura 3.4 do livro Magalhães e Lima (pág. 87). Ou seja, essa opção contrasta a frequência relativa em um valor de $y$ e a probabilidade pontual $P(Y=y)$.\n",
    "        - A segunda contrasta a frequência relativa acumulada com a probabilidade acumulada até determinada quantidade de itens em não conformidade. Ou seja, compara a frequência relativa acumulada até $y$ com a probabilidade acumulada $P(Y\\leq y)$.\n",
    "    Construa os gráficos de acordo com as duas opções e refine sua conclusão quanto ao uso do modelo teórico para ajustar a variável em questão!\n",
    "    5. Na prática, qual a necessidade de um modelo probabilístico já que se têm os dados observados?\n",
    "    6. Considerando apenas os carros populares, o modelo Binomial com parâmetros $n=14$ e $p=0,10$ é adequado para ajustar a variável Quantidade de itens em não conformidade? Se sim, justifique; caso não, sugira novos valores para os parâmetros da distribuição ajuste aos dados."
   ]
  },
  {
   "cell_type": "code",
   "execution_count": 30,
   "metadata": {
    "collapsed": false
   },
   "outputs": [
    {
     "name": "stdout",
     "output_type": "stream",
     "text": [
      "Esperamos trabalhar no diretório\n",
      "C:\\Users\\Bruno Dratcu\\Desktop\\2o DP\\CD\\CD1S17\\Aula10\n"
     ]
    }
   ],
   "source": [
    "import os\n",
    "import numpy as np\n",
    "print('Esperamos trabalhar no diretório')\n",
    "print(os.getcwd())\n",
    "carros = pd.read_table('Carros.txt', sep=' ')"
   ]
  },
  {
   "cell_type": "code",
   "execution_count": 19,
   "metadata": {
    "collapsed": false
   },
   "outputs": [
    {
     "data": {
      "text/html": [
       "<div>\n",
       "<table border=\"1\" class=\"dataframe\">\n",
       "  <thead>\n",
       "    <tr style=\"text-align: right;\">\n",
       "      <th></th>\n",
       "      <th>Tipo</th>\n",
       "      <th>Quantidade</th>\n",
       "    </tr>\n",
       "  </thead>\n",
       "  <tbody>\n",
       "    <tr>\n",
       "      <th>1</th>\n",
       "      <td>1</td>\n",
       "      <td>0</td>\n",
       "    </tr>\n",
       "    <tr>\n",
       "      <th>2</th>\n",
       "      <td>1</td>\n",
       "      <td>2</td>\n",
       "    </tr>\n",
       "    <tr>\n",
       "      <th>3</th>\n",
       "      <td>1</td>\n",
       "      <td>2</td>\n",
       "    </tr>\n",
       "    <tr>\n",
       "      <th>4</th>\n",
       "      <td>1</td>\n",
       "      <td>3</td>\n",
       "    </tr>\n",
       "    <tr>\n",
       "      <th>5</th>\n",
       "      <td>1</td>\n",
       "      <td>1</td>\n",
       "    </tr>\n",
       "  </tbody>\n",
       "</table>\n",
       "</div>"
      ],
      "text/plain": [
       "   Tipo  Quantidade\n",
       "1     1           0\n",
       "2     1           2\n",
       "3     1           2\n",
       "4     1           3\n",
       "5     1           1"
      ]
     },
     "execution_count": 19,
     "metadata": {},
     "output_type": "execute_result"
    }
   ],
   "source": [
    "carros.head()"
   ]
  },
  {
   "cell_type": "code",
   "execution_count": 20,
   "metadata": {
    "collapsed": false
   },
   "outputs": [
    {
     "data": {
      "text/html": [
       "<div>\n",
       "<table border=\"1\" class=\"dataframe\">\n",
       "  <thead>\n",
       "    <tr style=\"text-align: right;\">\n",
       "      <th></th>\n",
       "      <th>Tipo</th>\n",
       "      <th>Quantidade</th>\n",
       "    </tr>\n",
       "  </thead>\n",
       "  <tbody>\n",
       "    <tr>\n",
       "      <th>count</th>\n",
       "      <td>3000.00000</td>\n",
       "      <td>3000.000000</td>\n",
       "    </tr>\n",
       "    <tr>\n",
       "      <th>mean</th>\n",
       "      <td>1.40000</td>\n",
       "      <td>1.371333</td>\n",
       "    </tr>\n",
       "    <tr>\n",
       "      <th>std</th>\n",
       "      <td>0.48998</td>\n",
       "      <td>1.256969</td>\n",
       "    </tr>\n",
       "    <tr>\n",
       "      <th>min</th>\n",
       "      <td>1.00000</td>\n",
       "      <td>0.000000</td>\n",
       "    </tr>\n",
       "    <tr>\n",
       "      <th>25%</th>\n",
       "      <td>1.00000</td>\n",
       "      <td>0.000000</td>\n",
       "    </tr>\n",
       "    <tr>\n",
       "      <th>50%</th>\n",
       "      <td>1.00000</td>\n",
       "      <td>1.000000</td>\n",
       "    </tr>\n",
       "    <tr>\n",
       "      <th>75%</th>\n",
       "      <td>2.00000</td>\n",
       "      <td>2.000000</td>\n",
       "    </tr>\n",
       "    <tr>\n",
       "      <th>max</th>\n",
       "      <td>2.00000</td>\n",
       "      <td>8.000000</td>\n",
       "    </tr>\n",
       "  </tbody>\n",
       "</table>\n",
       "</div>"
      ],
      "text/plain": [
       "             Tipo   Quantidade\n",
       "count  3000.00000  3000.000000\n",
       "mean      1.40000     1.371333\n",
       "std       0.48998     1.256969\n",
       "min       1.00000     0.000000\n",
       "25%       1.00000     0.000000\n",
       "50%       1.00000     1.000000\n",
       "75%       2.00000     2.000000\n",
       "max       2.00000     8.000000"
      ]
     },
     "execution_count": 20,
     "metadata": {},
     "output_type": "execute_result"
    }
   ],
   "source": [
    "carros.describe()"
   ]
  },
  {
   "cell_type": "code",
   "execution_count": 54,
   "metadata": {
    "collapsed": true
   },
   "outputs": [],
   "source": [
    "popular = carros[carros.Tipo == 1]\n",
    "nao_popular = carros[carros.Tipo ==2]"
   ]
  },
  {
   "cell_type": "markdown",
   "metadata": {},
   "source": [
    "### 3)a)"
   ]
  },
  {
   "cell_type": "code",
   "execution_count": 29,
   "metadata": {
    "collapsed": false
   },
   "outputs": [
    {
     "name": "stdout",
     "output_type": "stream",
     "text": [
      "count    3000.000000\n",
      "mean        1.371333\n",
      "std         1.256969\n",
      "min         0.000000\n",
      "25%         0.000000\n",
      "50%         1.000000\n",
      "75%         2.000000\n",
      "max         8.000000\n",
      "Name: Quantidade, dtype: float64\n",
      "\n",
      "Media:  1.3713333333333333\n",
      "Variancia : 1.5799715460709343\n"
     ]
    }
   ],
   "source": [
    "quant = carros[\"Quantidade\"]\n",
    "print(quant.describe())\n",
    "print()\n",
    "print(\"Media: \", quant.mean())\n",
    "print(\"Variancia :\", quant.var())"
   ]
  },
  {
   "cell_type": "code",
   "execution_count": 24,
   "metadata": {
    "collapsed": true
   },
   "outputs": [],
   "source": [
    "posi = [\"C\", \"NC\"]\n",
    "prob = {\"C\":0.9, \"NC\":0.1}\n",
    "\n",
    "n = 14\n",
    "arranjo = itertools.product(posi, repeat=n)\n",
    "esp_amost = list(arranjo)\n",
    "\n",
    "probabilidade = []\n",
    "\n",
    "for i in esp_amost:\n",
    "    pro = 1.0\n",
    "    for u in i:\n",
    "        pro*=prob[u]\n",
    "    probabilidade.append(pro)\n",
    "    \n",
    "Y = {}\n",
    "\n",
    "for i in range(len(esp_amost)):\n",
    "    y = esp_amost[i].count(\"NC\")\n",
    "    \n",
    "    if y in Y:\n",
    "        Y[y] += probabilidade[i]\n",
    "    else:\n",
    "        Y[y] = probabilidade[i]"
   ]
  },
  {
   "cell_type": "markdown",
   "metadata": {},
   "source": [
    "### 3)b)"
   ]
  },
  {
   "cell_type": "code",
   "execution_count": 26,
   "metadata": {
    "collapsed": false
   },
   "outputs": [
    {
     "name": "stdout",
     "output_type": "stream",
     "text": [
      "[0.2287679245496101, 0.35586121596606013, 0.2570108781977101, 0.11422705697676006, 0.03490271185401002, 0.007756158189780004, 0.0012926930316300008, 0.00016415149608000007, 1.595917323000001e-05, 1.1821609800000006e-06, 6.567561000000004e-08, 2.653560000000002e-09, 7.371000000000005e-11, 1.2600000000000009e-12, 1.0000000000000008e-14]\n"
     ]
    }
   ],
   "source": [
    "n = 14\n",
    "p = 0.10\n",
    "prob = []\n",
    "\n",
    "for y in Y:\n",
    "    fatorial = factorial(n)/(factorial(y)*factorial(n-y))\n",
    "    probabilidades = fatorial*(p**y)*((1-p)**(n-y))\n",
    "    prob.append(probabilidades)\n",
    "    \n",
    "print(prob)\n",
    "    "
   ]
  },
  {
   "cell_type": "markdown",
   "metadata": {},
   "source": [
    "### 3)c)"
   ]
  },
  {
   "cell_type": "code",
   "execution_count": 27,
   "metadata": {
    "collapsed": false
   },
   "outputs": [
    {
     "name": "stdout",
     "output_type": "stream",
     "text": [
      "[0.22876792454960998, 0.35586121596606141, 0.2570108781977114, 0.11422705697676022, 0.034902711854010011, 0.0077561581897800267, 0.0012926930316300015, 0.00016415149608000069, 1.5959173230000058e-05, 1.1821609800000021e-06, 6.5675610000000304e-08, 2.6535600000000108e-09, 7.3710000000000372e-11, 1.2600000000000108e-12, 1.0000000000000058e-14]\n"
     ]
    }
   ],
   "source": [
    "probi = []\n",
    "n = 14\n",
    "p = 0.1\n",
    "for i in range(n+1):\n",
    "    probi.append(stats.binom.pmf(i, n, p))\n",
    "    \n",
    "print(probi)\n"
   ]
  },
  {
   "cell_type": "markdown",
   "metadata": {},
   "source": [
    "### 3)d)"
   ]
  },
  {
   "cell_type": "code",
   "execution_count": 59,
   "metadata": {
    "collapsed": false
   },
   "outputs": [
    {
     "data": {
      "image/png": "[encoded data removed]",
      "text/plain": [
       "<matplotlib.figure.Figure at 0x1a1edd8fb00>"
      ]
     },
     "metadata": {},
     "output_type": "display_data"
    }
   ],
   "source": [
    "faixa = np.arange(0,14,1)\n",
    "freq = carros[\"Quantidade\"].value_counts(True)\n",
    "freq_acumulada = freq/sum(freq)\n",
    "\n",
    "plot = plt.plot(freq_acumulada, \"o\", color=\"blue\")\n",
    "plot = plt.plot(probi, \"o\", color=\"r\", alpha=0.8)"
   ]
  },
  {
   "cell_type": "markdown",
   "metadata": {},
   "source": [
    "prob = binom.cdf(y, n, p)\n",
    "np.allclose(y, binom.ppf(prob, n, p))\n",
    "\n",
    "x = np.linspace(0,14,100)\n",
    "\n",
    "probi2 = []\n",
    "n = 14\n",
    "p = 0.1\n",
    "for i in range(n+1):\n",
    "    probi2.append(stats.binom.cdf(i, n, p))\n",
    "\n",
    "plt.plot(x,probi2, \"x\")\n",
    "plt.show"
   ]
  },
  {
   "cell_type": "markdown",
   "metadata": {},
   "source": [
    "### 3)f)"
   ]
  },
  {
   "cell_type": "code",
   "execution_count": 61,
   "metadata": {
    "collapsed": false
   },
   "outputs": [
    {
     "data": {
      "text/plain": [
       "<matplotlib.text.Text at 0x1a1edf56518>"
      ]
     },
     "execution_count": 61,
     "metadata": {},
     "output_type": "execute_result"
    },
    {
     "data": {
      "image/png": "[encoded data removed]",
      "text/plain": [
       "<matplotlib.figure.Figure at 0x1a1ede459e8>"
      ]
     },
     "metadata": {},
     "output_type": "display_data"
    }
   ],
   "source": [
    "carros_populares = popular[\"Quantidade\"].value_counts(True)\n",
    "plot = plt.plot(carros_populares, \"o\")\n",
    "plot = plt.plot(freq, \"o\")\n",
    "plt.title(\"Frequência Relativa de itens vistoriados\")"
   ]
  },
  {
   "cell_type": "code",
   "execution_count": null,
   "metadata": {
    "collapsed": true
   },
   "outputs": [],
   "source": []
  },
  {
   "cell_type": "code",
   "execution_count": null,
   "metadata": {
    "collapsed": true
   },
   "outputs": [],
   "source": []
  },
  {
   "cell_type": "code",
   "execution_count": null,
   "metadata": {
    "collapsed": true
   },
   "outputs": [],
   "source": []
  },
  {
   "cell_type": "code",
   "execution_count": null,
   "metadata": {
    "collapsed": true
   },
   "outputs": [],
   "source": []
  },
  {
   "cell_type": "markdown",
   "metadata": {
    "collapsed": true
   },
   "source": [
    "___\n",
    "## <font color='blue'>Exercício 3</font>\n",
    "\n",
    "### <font color='red'>**Publicar no github até dia 21/03 INDIVIDUAL **</font>\n",
    "\n",
    "Esse exercício irá explorar modelos de distribuição de Poisson.\n",
    "\n",
    "Uma fábrica produz determinado veículo. O gerente de vendas fechou um negócio que implica na produção de pelo menos 110 unidades nos próximos dois meses. Para isso, será construída uma nova linha de montagem com capacidade para produzir em média 50 veículos por mês (considere meses de 30 dias). A linha funcionará ininterruptamente. Além disso, apenas um veículo é produzido por vez. Considere que um modelo Poisson seja adequado para a quantidade de veículos produzidos.\n",
    "   1. Qual a probabilidade  da produção ser igual a 100 veículos nos próximos dois meses?\n",
    "   2. Qual a probabilidade  da produção ser de pelo menos 100 veículos nos próximos dois meses?\n",
    "   3. Qual a probabilidade da produção ser entre 100 e 110 veículos nos próximos dois meses?\n",
    "   4. Se forem produzidos de pelo menos 100 veículos no próximo mês, qual a probabilidade do gerente cumprir a meta negociada?\n",
    "   5. Caso o prazo seja cumprido, o lucro será da ordem de $250$ mil, caso não seja, o lucro cai para $200$ mil. Qual é o lucro esperado e seu desvio-padrão?\n",
    "\n",
    "**Observação:** Explore os comandos de `stats.poisson`. <sup>[http://docs.scipy.org/doc/scipy/reference/generated/scipy.stats.poisson.html]\n"
   ]
  },
  {
   "cell_type": "code",
   "execution_count": null,
   "metadata": {
    "collapsed": true
   },
   "outputs": [],
   "source": []
  }
 ],
 "metadata": {
  "anaconda-cloud": {},
  "kernelspec": {
   "display_name": "Python 3",
   "language": "python",
   "name": "python3"
  },
  "language_info": {
   "codemirror_mode": {
    "name": "ipython",
    "version": 3
   },
   "file_extension": ".py",
   "mimetype": "text/x-python",
   "name": "python",
   "nbconvert_exporter": "python",
   "pygments_lexer": "ipython3",
   "version": "3.5.2"
  }
 },
 "nbformat": 4,
 "nbformat_minor": 0
}
