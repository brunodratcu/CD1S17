{
 "cells": [
  {
   "cell_type": "markdown",
   "metadata": {},
   "source": [
    "___\n",
    "# Atividade: Variáveis quantitativas com Expectativa de Vida\n",
    "___\n",
    "\n",
    "## Aula 03\n",
    "\n",
    "\n",
    "\n",
    "**Preparo prévio:**\n",
    "1.\tLeitura prévia necessária: Magalhães e Lima (7ª. Edição): pág. 9 a 17 – destacando para variáveis quantitativas; pág. 106 e 107 (Definição 4.1 e Exemplo 4.1).\n",
    "\n",
    "**Hoje:**\n",
    "1. Explorar a variável quantitativa Expectativa de Vida de diversos países do mundo nos anos: 1800, 1926 e 2000. \n",
    "2. Construir tabelas de frequências e interpretar resultados considerando variáveis quantitativas de forma univariada. \n",
    "4. Explicar vantagens e desvantagens sobre o uso da frequência ou da densidade na construção de um histograma e saber interpretá-lo. \n",
    "5. Desenvolver contas para obtenção da média e mediana nos três anos.\n",
    "6. Identificar o formato dos dados (simétrico, assimétrico positivo ou assimétrico negativo) ao observar um histograma e explicar o que cada formato pode impactar nas medidas de posição.\n",
    "\n",
    "\n",
    "**Próxima aula:**\n",
    "1. Leitura prévia necessária: Magalhães e Lima (7ª. Edição): pág. 18 a 25; pág. 106 e 107 (Definição 4.1 e Exemplo 4.1); pág. 116 e 117 (Definição 4.4 e Exemplo 4.8). \n",
    "2. Leitura prévia necessária: Montgomery et al (5ª. Edição): pág. 24 a 28.\n",
    "___\n"
   ]
  },
  {
   "cell_type": "markdown",
   "metadata": {},
   "source": [
    "## <font color='blue'>Expectativa de Vida - LIFE</font>\n",
    "\n",
    "O Banco Mundial (http://data.worldbank.org/brazilian-portuguese) disponibiliza bases de dados estatísticos para um pouco mais de 200 países do mundo desde o ano 1800, as quais consideram uma seleção abrangente de indicadores econômicos, sociais e ambientais. Um desses indicadores é a expectativa de vida (em anos) de cada país.\n",
    "\n",
    "O arquivo `Life.xlsx` contém a expectativa de vida de vários países para os anos 1800, 1926 e 2000.\n",
    "\n",
    "Considerando esses dados, faça as seguintes tarefas:\n",
    "\n",
    "1.\tConstrua uma tabela de frequências absolutas e relativas (em %) para cada um dos anos. \n",
    "\n",
    "2.\tConstrua um histograma para cada ano e interprete os gráficos. \n",
    "\n",
    "3. De acordo com o formato de um histograma, é possível classificar a distribuição dos dados como sendo: simétrica, assimétrica positiva (ou a direita) ou assimétrica negativa (ou a esquerda). Observando o formato de cada histograma construído no item anterior, classifique como sendo simétrico, assimétrico positivo ou assimétrico negativo. Argumente claramente o motivo de sua classificação. \n",
    "![AssimSim](AssimSim.jpg)\n",
    "\n",
    "4.\tPara cada ano, calcule a expectativa média de vida, a expectativa mediana de vida e a classe modal.\n",
    "\n",
    "5.\tPara cada um dos três anos, ordene os valores das medidas de posição (média, mediana e classe modal) obtidas no item anterior. A ordem dessas três medidas de posição é um mero acaso ou pode ser consequência do formato dos dados? Argumente claramente sua resposta.\n"
   ]
  },
  {
   "cell_type": "code",
   "execution_count": 1,
   "metadata": {
    "collapsed": false
   },
   "outputs": [],
   "source": [
    "%matplotlib inline\n",
    "import pandas as pd\n",
    "import matplotlib.pyplot as plt\n",
    "import os\n",
    "from numpy import arange"
   ]
  },
  {
   "cell_type": "code",
   "execution_count": 2,
   "metadata": {
    "collapsed": false
   },
   "outputs": [
    {
     "name": "stdout",
     "output_type": "stream",
     "text": [
      "Esperamos trabalhar no diretório\n",
      "C:\\Users\\Bruno Dratcu\\Desktop\\2o DP\\CD\\Aula3\n"
     ]
    }
   ],
   "source": [
    "print('Esperamos trabalhar no diretório')\n",
    "print(os.getcwd())"
   ]
  },
  {
   "cell_type": "code",
   "execution_count": 8,
   "metadata": {
    "collapsed": false
   },
   "outputs": [],
   "source": [
    "dados = pd.read_excel('Life.xlsx')"
   ]
  },
  {
   "cell_type": "raw",
   "metadata": {
    "collapsed": true
   },
   "source": [
    "dados.head()"
   ]
  },
  {
   "cell_type": "code",
   "execution_count": 10,
   "metadata": {
    "collapsed": false
   },
   "outputs": [
    {
     "data": {
      "text/html": [
       "<div>\n",
       "<table border=\"1\" class=\"dataframe\">\n",
       "  <thead>\n",
       "    <tr style=\"text-align: right;\">\n",
       "      <th></th>\n",
       "      <th>Pais</th>\n",
       "      <th>L1800</th>\n",
       "      <th>L1926</th>\n",
       "      <th>L2000</th>\n",
       "    </tr>\n",
       "  </thead>\n",
       "  <tbody>\n",
       "    <tr>\n",
       "      <th>0</th>\n",
       "      <td>Afghanistan</td>\n",
       "      <td>28.21100</td>\n",
       "      <td>26.919920</td>\n",
       "      <td>51.000</td>\n",
       "    </tr>\n",
       "    <tr>\n",
       "      <th>1</th>\n",
       "      <td>Albania</td>\n",
       "      <td>35.40000</td>\n",
       "      <td>35.400000</td>\n",
       "      <td>74.200</td>\n",
       "    </tr>\n",
       "    <tr>\n",
       "      <th>2</th>\n",
       "      <td>Algeria</td>\n",
       "      <td>28.82240</td>\n",
       "      <td>30.968000</td>\n",
       "      <td>73.200</td>\n",
       "    </tr>\n",
       "    <tr>\n",
       "      <th>3</th>\n",
       "      <td>Angola</td>\n",
       "      <td>26.98000</td>\n",
       "      <td>26.980000</td>\n",
       "      <td>52.600</td>\n",
       "    </tr>\n",
       "    <tr>\n",
       "      <th>4</th>\n",
       "      <td>Antigua and Barbuda</td>\n",
       "      <td>33.53600</td>\n",
       "      <td>37.673931</td>\n",
       "      <td>73.900</td>\n",
       "    </tr>\n",
       "    <tr>\n",
       "      <th>5</th>\n",
       "      <td>Argentina</td>\n",
       "      <td>33.20000</td>\n",
       "      <td>52.940000</td>\n",
       "      <td>74.300</td>\n",
       "    </tr>\n",
       "    <tr>\n",
       "      <th>6</th>\n",
       "      <td>Armenia</td>\n",
       "      <td>33.99500</td>\n",
       "      <td>44.665000</td>\n",
       "      <td>71.400</td>\n",
       "    </tr>\n",
       "    <tr>\n",
       "      <th>7</th>\n",
       "      <td>Aruba</td>\n",
       "      <td>34.41900</td>\n",
       "      <td>38.556931</td>\n",
       "      <td>73.783</td>\n",
       "    </tr>\n",
       "    <tr>\n",
       "      <th>8</th>\n",
       "      <td>Australia</td>\n",
       "      <td>34.05000</td>\n",
       "      <td>62.940000</td>\n",
       "      <td>79.700</td>\n",
       "    </tr>\n",
       "    <tr>\n",
       "      <th>9</th>\n",
       "      <td>Austria</td>\n",
       "      <td>34.40000</td>\n",
       "      <td>53.614000</td>\n",
       "      <td>78.200</td>\n",
       "    </tr>\n",
       "    <tr>\n",
       "      <th>10</th>\n",
       "      <td>Azerbaijan</td>\n",
       "      <td>29.16500</td>\n",
       "      <td>39.835000</td>\n",
       "      <td>68.000</td>\n",
       "    </tr>\n",
       "    <tr>\n",
       "      <th>11</th>\n",
       "      <td>Bahamas</td>\n",
       "      <td>35.17900</td>\n",
       "      <td>39.316931</td>\n",
       "      <td>70.300</td>\n",
       "    </tr>\n",
       "    <tr>\n",
       "      <th>12</th>\n",
       "      <td>Bahrain</td>\n",
       "      <td>30.30000</td>\n",
       "      <td>30.300000</td>\n",
       "      <td>73.600</td>\n",
       "    </tr>\n",
       "    <tr>\n",
       "      <th>13</th>\n",
       "      <td>Bangladesh</td>\n",
       "      <td>25.50000</td>\n",
       "      <td>24.900000</td>\n",
       "      <td>65.800</td>\n",
       "    </tr>\n",
       "    <tr>\n",
       "      <th>14</th>\n",
       "      <td>Barbados</td>\n",
       "      <td>32.12400</td>\n",
       "      <td>36.261931</td>\n",
       "      <td>74.300</td>\n",
       "    </tr>\n",
       "    <tr>\n",
       "      <th>15</th>\n",
       "      <td>Belarus</td>\n",
       "      <td>36.20000</td>\n",
       "      <td>48.322000</td>\n",
       "      <td>68.200</td>\n",
       "    </tr>\n",
       "    <tr>\n",
       "      <th>16</th>\n",
       "      <td>Belgium</td>\n",
       "      <td>40.00000</td>\n",
       "      <td>56.970000</td>\n",
       "      <td>77.800</td>\n",
       "    </tr>\n",
       "    <tr>\n",
       "      <th>17</th>\n",
       "      <td>Belize</td>\n",
       "      <td>26.50000</td>\n",
       "      <td>35.500000</td>\n",
       "      <td>69.000</td>\n",
       "    </tr>\n",
       "    <tr>\n",
       "      <th>18</th>\n",
       "      <td>Benin</td>\n",
       "      <td>31.00000</td>\n",
       "      <td>31.000000</td>\n",
       "      <td>59.200</td>\n",
       "    </tr>\n",
       "    <tr>\n",
       "      <th>19</th>\n",
       "      <td>Bhutan</td>\n",
       "      <td>28.79900</td>\n",
       "      <td>28.799000</td>\n",
       "      <td>63.900</td>\n",
       "    </tr>\n",
       "    <tr>\n",
       "      <th>20</th>\n",
       "      <td>Bolivia</td>\n",
       "      <td>33.00000</td>\n",
       "      <td>33.000000</td>\n",
       "      <td>67.600</td>\n",
       "    </tr>\n",
       "    <tr>\n",
       "      <th>21</th>\n",
       "      <td>Bosnia and Herzegovina</td>\n",
       "      <td>35.10000</td>\n",
       "      <td>38.364400</td>\n",
       "      <td>75.200</td>\n",
       "    </tr>\n",
       "    <tr>\n",
       "      <th>22</th>\n",
       "      <td>Botswana</td>\n",
       "      <td>33.60000</td>\n",
       "      <td>33.600000</td>\n",
       "      <td>51.600</td>\n",
       "    </tr>\n",
       "    <tr>\n",
       "      <th>23</th>\n",
       "      <td>Brazil</td>\n",
       "      <td>32.00000</td>\n",
       "      <td>31.990720</td>\n",
       "      <td>71.900</td>\n",
       "    </tr>\n",
       "    <tr>\n",
       "      <th>24</th>\n",
       "      <td>Brunei</td>\n",
       "      <td>29.20000</td>\n",
       "      <td>39.750769</td>\n",
       "      <td>75.500</td>\n",
       "    </tr>\n",
       "    <tr>\n",
       "      <th>25</th>\n",
       "      <td>Bulgaria</td>\n",
       "      <td>35.80000</td>\n",
       "      <td>45.300000</td>\n",
       "      <td>71.700</td>\n",
       "    </tr>\n",
       "    <tr>\n",
       "      <th>26</th>\n",
       "      <td>Burkina Faso</td>\n",
       "      <td>29.20000</td>\n",
       "      <td>29.200000</td>\n",
       "      <td>53.300</td>\n",
       "    </tr>\n",
       "    <tr>\n",
       "      <th>27</th>\n",
       "      <td>Burundi</td>\n",
       "      <td>31.50000</td>\n",
       "      <td>26.000000</td>\n",
       "      <td>47.500</td>\n",
       "    </tr>\n",
       "    <tr>\n",
       "      <th>28</th>\n",
       "      <td>Cambodia</td>\n",
       "      <td>35.00000</td>\n",
       "      <td>35.000000</td>\n",
       "      <td>60.900</td>\n",
       "    </tr>\n",
       "    <tr>\n",
       "      <th>29</th>\n",
       "      <td>Cameroon</td>\n",
       "      <td>28.75000</td>\n",
       "      <td>28.750000</td>\n",
       "      <td>55.000</td>\n",
       "    </tr>\n",
       "    <tr>\n",
       "      <th>...</th>\n",
       "      <td>...</td>\n",
       "      <td>...</td>\n",
       "      <td>...</td>\n",
       "      <td>...</td>\n",
       "    </tr>\n",
       "    <tr>\n",
       "      <th>171</th>\n",
       "      <td>Sweden</td>\n",
       "      <td>32.16000</td>\n",
       "      <td>62.790000</td>\n",
       "      <td>79.700</td>\n",
       "    </tr>\n",
       "    <tr>\n",
       "      <th>172</th>\n",
       "      <td>Switzerland</td>\n",
       "      <td>38.00000</td>\n",
       "      <td>60.640000</td>\n",
       "      <td>80.000</td>\n",
       "    </tr>\n",
       "    <tr>\n",
       "      <th>173</th>\n",
       "      <td>Syria</td>\n",
       "      <td>31.10000</td>\n",
       "      <td>31.100000</td>\n",
       "      <td>73.800</td>\n",
       "    </tr>\n",
       "    <tr>\n",
       "      <th>174</th>\n",
       "      <td>Taiwan</td>\n",
       "      <td>28.30000</td>\n",
       "      <td>37.000000</td>\n",
       "      <td>76.000</td>\n",
       "    </tr>\n",
       "    <tr>\n",
       "      <th>175</th>\n",
       "      <td>Tajikistan</td>\n",
       "      <td>24.23500</td>\n",
       "      <td>34.905000</td>\n",
       "      <td>66.300</td>\n",
       "    </tr>\n",
       "    <tr>\n",
       "      <th>176</th>\n",
       "      <td>Tanzania</td>\n",
       "      <td>32.20000</td>\n",
       "      <td>32.200000</td>\n",
       "      <td>54.800</td>\n",
       "    </tr>\n",
       "    <tr>\n",
       "      <th>177</th>\n",
       "      <td>Thailand</td>\n",
       "      <td>30.40000</td>\n",
       "      <td>30.400000</td>\n",
       "      <td>71.300</td>\n",
       "    </tr>\n",
       "    <tr>\n",
       "      <th>178</th>\n",
       "      <td>Timor-Leste</td>\n",
       "      <td>28.94900</td>\n",
       "      <td>28.949000</td>\n",
       "      <td>63.600</td>\n",
       "    </tr>\n",
       "    <tr>\n",
       "      <th>179</th>\n",
       "      <td>Togo</td>\n",
       "      <td>31.30000</td>\n",
       "      <td>31.300000</td>\n",
       "      <td>59.000</td>\n",
       "    </tr>\n",
       "    <tr>\n",
       "      <th>180</th>\n",
       "      <td>Tonga</td>\n",
       "      <td>28.20000</td>\n",
       "      <td>29.389080</td>\n",
       "      <td>69.100</td>\n",
       "    </tr>\n",
       "    <tr>\n",
       "      <th>181</th>\n",
       "      <td>Trinidad and Tobago</td>\n",
       "      <td>32.90000</td>\n",
       "      <td>42.250000</td>\n",
       "      <td>69.400</td>\n",
       "    </tr>\n",
       "    <tr>\n",
       "      <th>182</th>\n",
       "      <td>Tunisia</td>\n",
       "      <td>28.80000</td>\n",
       "      <td>29.526000</td>\n",
       "      <td>75.000</td>\n",
       "    </tr>\n",
       "    <tr>\n",
       "      <th>183</th>\n",
       "      <td>Turkey</td>\n",
       "      <td>35.00000</td>\n",
       "      <td>35.000000</td>\n",
       "      <td>71.500</td>\n",
       "    </tr>\n",
       "    <tr>\n",
       "      <th>184</th>\n",
       "      <td>Turkmenistan</td>\n",
       "      <td>24.00000</td>\n",
       "      <td>33.126000</td>\n",
       "      <td>63.100</td>\n",
       "    </tr>\n",
       "    <tr>\n",
       "      <th>185</th>\n",
       "      <td>Uganda</td>\n",
       "      <td>25.30000</td>\n",
       "      <td>24.180000</td>\n",
       "      <td>50.000</td>\n",
       "    </tr>\n",
       "    <tr>\n",
       "      <th>186</th>\n",
       "      <td>Ukraine</td>\n",
       "      <td>36.60000</td>\n",
       "      <td>45.950000</td>\n",
       "      <td>67.500</td>\n",
       "    </tr>\n",
       "    <tr>\n",
       "      <th>187</th>\n",
       "      <td>United Arab Emirates</td>\n",
       "      <td>30.70000</td>\n",
       "      <td>30.700000</td>\n",
       "      <td>73.800</td>\n",
       "    </tr>\n",
       "    <tr>\n",
       "      <th>188</th>\n",
       "      <td>United Kingdom</td>\n",
       "      <td>38.64976</td>\n",
       "      <td>59.660000</td>\n",
       "      <td>77.800</td>\n",
       "    </tr>\n",
       "    <tr>\n",
       "      <th>189</th>\n",
       "      <td>United States</td>\n",
       "      <td>39.41000</td>\n",
       "      <td>57.900000</td>\n",
       "      <td>77.100</td>\n",
       "    </tr>\n",
       "    <tr>\n",
       "      <th>190</th>\n",
       "      <td>Uruguay</td>\n",
       "      <td>32.90000</td>\n",
       "      <td>34.216160</td>\n",
       "      <td>74.600</td>\n",
       "    </tr>\n",
       "    <tr>\n",
       "      <th>191</th>\n",
       "      <td>Uzbekistan</td>\n",
       "      <td>26.92600</td>\n",
       "      <td>37.596000</td>\n",
       "      <td>67.400</td>\n",
       "    </tr>\n",
       "    <tr>\n",
       "      <th>192</th>\n",
       "      <td>Vanuatu</td>\n",
       "      <td>24.30000</td>\n",
       "      <td>24.300000</td>\n",
       "      <td>63.000</td>\n",
       "    </tr>\n",
       "    <tr>\n",
       "      <th>193</th>\n",
       "      <td>Venezuela</td>\n",
       "      <td>32.20000</td>\n",
       "      <td>32.200000</td>\n",
       "      <td>74.300</td>\n",
       "    </tr>\n",
       "    <tr>\n",
       "      <th>194</th>\n",
       "      <td>West Bank and Gaza</td>\n",
       "      <td>32.10000</td>\n",
       "      <td>32.100000</td>\n",
       "      <td>73.500</td>\n",
       "    </tr>\n",
       "    <tr>\n",
       "      <th>195</th>\n",
       "      <td>Western Sahara</td>\n",
       "      <td>34.75300</td>\n",
       "      <td>34.753000</td>\n",
       "      <td>62.636</td>\n",
       "    </tr>\n",
       "    <tr>\n",
       "      <th>196</th>\n",
       "      <td>Vietnam</td>\n",
       "      <td>32.00000</td>\n",
       "      <td>32.000000</td>\n",
       "      <td>72.600</td>\n",
       "    </tr>\n",
       "    <tr>\n",
       "      <th>197</th>\n",
       "      <td>Virgin Islands (U.S.)</td>\n",
       "      <td>33.40300</td>\n",
       "      <td>37.540931</td>\n",
       "      <td>77.574</td>\n",
       "    </tr>\n",
       "    <tr>\n",
       "      <th>198</th>\n",
       "      <td>Yemen, Rep.</td>\n",
       "      <td>23.38700</td>\n",
       "      <td>23.387000</td>\n",
       "      <td>63.500</td>\n",
       "    </tr>\n",
       "    <tr>\n",
       "      <th>199</th>\n",
       "      <td>Zambia</td>\n",
       "      <td>32.60000</td>\n",
       "      <td>32.600000</td>\n",
       "      <td>45.700</td>\n",
       "    </tr>\n",
       "    <tr>\n",
       "      <th>200</th>\n",
       "      <td>Zimbabwe</td>\n",
       "      <td>33.70000</td>\n",
       "      <td>33.700000</td>\n",
       "      <td>50.800</td>\n",
       "    </tr>\n",
       "  </tbody>\n",
       "</table>\n",
       "<p>201 rows × 4 columns</p>\n",
       "</div>"
      ],
      "text/plain": [
       "                       Pais     L1800      L1926   L2000\n",
       "0               Afghanistan  28.21100  26.919920  51.000\n",
       "1                   Albania  35.40000  35.400000  74.200\n",
       "2                   Algeria  28.82240  30.968000  73.200\n",
       "3                    Angola  26.98000  26.980000  52.600\n",
       "4       Antigua and Barbuda  33.53600  37.673931  73.900\n",
       "5                 Argentina  33.20000  52.940000  74.300\n",
       "6                   Armenia  33.99500  44.665000  71.400\n",
       "7                     Aruba  34.41900  38.556931  73.783\n",
       "8                 Australia  34.05000  62.940000  79.700\n",
       "9                   Austria  34.40000  53.614000  78.200\n",
       "10               Azerbaijan  29.16500  39.835000  68.000\n",
       "11                  Bahamas  35.17900  39.316931  70.300\n",
       "12                  Bahrain  30.30000  30.300000  73.600\n",
       "13               Bangladesh  25.50000  24.900000  65.800\n",
       "14                 Barbados  32.12400  36.261931  74.300\n",
       "15                  Belarus  36.20000  48.322000  68.200\n",
       "16                  Belgium  40.00000  56.970000  77.800\n",
       "17                   Belize  26.50000  35.500000  69.000\n",
       "18                    Benin  31.00000  31.000000  59.200\n",
       "19                   Bhutan  28.79900  28.799000  63.900\n",
       "20                  Bolivia  33.00000  33.000000  67.600\n",
       "21   Bosnia and Herzegovina  35.10000  38.364400  75.200\n",
       "22                 Botswana  33.60000  33.600000  51.600\n",
       "23                   Brazil  32.00000  31.990720  71.900\n",
       "24                   Brunei  29.20000  39.750769  75.500\n",
       "25                 Bulgaria  35.80000  45.300000  71.700\n",
       "26             Burkina Faso  29.20000  29.200000  53.300\n",
       "27                  Burundi  31.50000  26.000000  47.500\n",
       "28                 Cambodia  35.00000  35.000000  60.900\n",
       "29                 Cameroon  28.75000  28.750000  55.000\n",
       "..                      ...       ...        ...     ...\n",
       "171                  Sweden  32.16000  62.790000  79.700\n",
       "172             Switzerland  38.00000  60.640000  80.000\n",
       "173                   Syria  31.10000  31.100000  73.800\n",
       "174                  Taiwan  28.30000  37.000000  76.000\n",
       "175              Tajikistan  24.23500  34.905000  66.300\n",
       "176                Tanzania  32.20000  32.200000  54.800\n",
       "177                Thailand  30.40000  30.400000  71.300\n",
       "178             Timor-Leste  28.94900  28.949000  63.600\n",
       "179                    Togo  31.30000  31.300000  59.000\n",
       "180                   Tonga  28.20000  29.389080  69.100\n",
       "181     Trinidad and Tobago  32.90000  42.250000  69.400\n",
       "182                 Tunisia  28.80000  29.526000  75.000\n",
       "183                  Turkey  35.00000  35.000000  71.500\n",
       "184            Turkmenistan  24.00000  33.126000  63.100\n",
       "185                  Uganda  25.30000  24.180000  50.000\n",
       "186                 Ukraine  36.60000  45.950000  67.500\n",
       "187    United Arab Emirates  30.70000  30.700000  73.800\n",
       "188          United Kingdom  38.64976  59.660000  77.800\n",
       "189           United States  39.41000  57.900000  77.100\n",
       "190                 Uruguay  32.90000  34.216160  74.600\n",
       "191              Uzbekistan  26.92600  37.596000  67.400\n",
       "192                 Vanuatu  24.30000  24.300000  63.000\n",
       "193               Venezuela  32.20000  32.200000  74.300\n",
       "194      West Bank and Gaza  32.10000  32.100000  73.500\n",
       "195          Western Sahara  34.75300  34.753000  62.636\n",
       "196                 Vietnam  32.00000  32.000000  72.600\n",
       "197   Virgin Islands (U.S.)  33.40300  37.540931  77.574\n",
       "198             Yemen, Rep.  23.38700  23.387000  63.500\n",
       "199                  Zambia  32.60000  32.600000  45.700\n",
       "200                Zimbabwe  33.70000  33.700000  50.800\n",
       "\n",
       "[201 rows x 4 columns]"
      ]
     },
     "execution_count": 10,
     "metadata": {},
     "output_type": "execute_result"
    }
   ],
   "source": [
    "dados.iloc[:,:]"
   ]
  },
  {
   "cell_type": "code",
   "execution_count": 19,
   "metadata": {
    "collapsed": false
   },
   "outputs": [
    {
     "data": {
      "text/plain": [
       "count    201.000000\n",
       "mean      31.485800\n",
       "std        3.763625\n",
       "min       23.387000\n",
       "25%       29.000000\n",
       "50%       31.800000\n",
       "75%       33.900000\n",
       "max       42.845599\n",
       "Name: L1800, dtype: float64"
      ]
     },
     "execution_count": 19,
     "metadata": {},
     "output_type": "execute_result"
    }
   ],
   "source": [
    "l1800 = dados[\"L1800\"]\n",
    "l1800.describe()"
   ]
  },
  {
   "cell_type": "code",
   "execution_count": 18,
   "metadata": {
    "collapsed": false
   },
   "outputs": [
    {
     "data": {
      "text/plain": [
       "(31.17, 33.116]        0.243781\n",
       "(29.225, 31.17]        0.184080\n",
       "(35.0622, 37.00802]    0.119403\n",
       "(33.116, 35.0622]      0.119403\n",
       "(25.333, 27.279]       0.114428\n",
       "(27.279, 29.225]       0.109453\n",
       "(23.368, 25.333]       0.049751\n",
       "(37.00802, 38.954]     0.034826\n",
       "(38.954, 40.9]         0.019900\n",
       "(40.9, 42.846]         0.004975\n",
       "Name: L1800, dtype: float64"
      ]
     },
     "execution_count": 18,
     "metadata": {},
     "output_type": "execute_result"
    }
   ],
   "source": [
    "renda1800 = pd.cut(dados[\"L1800\"], bins=10)\n",
    "\n",
    "renda1800.value_counts(True)"
   ]
  },
  {
   "cell_type": "code",
   "execution_count": 33,
   "metadata": {
    "collapsed": true
   },
   "outputs": [],
   "source": [
    "faixa = arange(82,22,4)"
   ]
  },
  {
   "cell_type": "code",
   "execution_count": 34,
   "metadata": {
    "collapsed": false
   },
   "outputs": [
    {
     "name": "stdout",
     "output_type": "stream",
     "text": [
      "Frequências relativas:\n"
     ]
    },
    {
     "ename": "IndexError",
     "evalue": "cannot do a non-empty take from an empty axes.",
     "output_type": "error",
     "traceback": [
      "\u001b[1;31m---------------------------------------------------------------------------\u001b[0m",
      "\u001b[1;31mIndexError\u001b[0m                                Traceback (most recent call last)",
      "\u001b[1;32m<ipython-input-34-aea9dd7d6fe1>\u001b[0m in \u001b[0;36m<module>\u001b[1;34m()\u001b[0m\n\u001b[0;32m      5\u001b[0m                                                                     \u001b[1;34m'[35.0622, 37.00802)'\u001b[0m\u001b[1;33m,\u001b[0m \u001b[1;34m'[33.116, 35.0622)'\u001b[0m\u001b[1;33m,\u001b[0m \u001b[1;34m'[25.333, 27.279)'\u001b[0m\u001b[1;33m,\u001b[0m\u001b[1;33m\u001b[0m\u001b[0m\n\u001b[0;32m      6\u001b[0m                                                                     \u001b[1;34m'[27.279, 29.225)'\u001b[0m\u001b[1;33m,\u001b[0m \u001b[1;34m'[23.368, 25.333)'\u001b[0m\u001b[1;33m,\u001b[0m \u001b[1;34m'[37.00802, 38.954)'\u001b[0m\u001b[1;33m,\u001b[0m\u001b[1;33m\u001b[0m\u001b[0m\n\u001b[1;32m----> 7\u001b[1;33m                                                                     '[38.954, 40.9)', '[40.9, 42.846)'])\n\u001b[0m\u001b[0;32m      8\u001b[0m \u001b[0mprint\u001b[0m\u001b[1;33m(\u001b[0m\u001b[0mut1\u001b[0m\u001b[1;33m,\u001b[0m\u001b[1;34m'\\n'\u001b[0m\u001b[1;33m)\u001b[0m\u001b[1;33m\u001b[0m\u001b[0m\n",
      "\u001b[1;32mC:\\Users\\Bruno Dratcu\\Anaconda3\\lib\\site-packages\\pandas\\core\\series.py\u001b[0m in \u001b[0;36mreindex\u001b[1;34m(self, index, **kwargs)\u001b[0m\n\u001b[0;32m   2285\u001b[0m     \u001b[1;33m@\u001b[0m\u001b[0mAppender\u001b[0m\u001b[1;33m(\u001b[0m\u001b[0mgeneric\u001b[0m\u001b[1;33m.\u001b[0m\u001b[0m_shared_docs\u001b[0m\u001b[1;33m[\u001b[0m\u001b[1;34m'reindex'\u001b[0m\u001b[1;33m]\u001b[0m \u001b[1;33m%\u001b[0m \u001b[0m_shared_doc_kwargs\u001b[0m\u001b[1;33m)\u001b[0m\u001b[1;33m\u001b[0m\u001b[0m\n\u001b[0;32m   2286\u001b[0m     \u001b[1;32mdef\u001b[0m \u001b[0mreindex\u001b[0m\u001b[1;33m(\u001b[0m\u001b[0mself\u001b[0m\u001b[1;33m,\u001b[0m \u001b[0mindex\u001b[0m\u001b[1;33m=\u001b[0m\u001b[1;32mNone\u001b[0m\u001b[1;33m,\u001b[0m \u001b[1;33m**\u001b[0m\u001b[0mkwargs\u001b[0m\u001b[1;33m)\u001b[0m\u001b[1;33m:\u001b[0m\u001b[1;33m\u001b[0m\u001b[0m\n\u001b[1;32m-> 2287\u001b[1;33m         \u001b[1;32mreturn\u001b[0m \u001b[0msuper\u001b[0m\u001b[1;33m(\u001b[0m\u001b[0mSeries\u001b[0m\u001b[1;33m,\u001b[0m \u001b[0mself\u001b[0m\u001b[1;33m)\u001b[0m\u001b[1;33m.\u001b[0m\u001b[0mreindex\u001b[0m\u001b[1;33m(\u001b[0m\u001b[0mindex\u001b[0m\u001b[1;33m=\u001b[0m\u001b[0mindex\u001b[0m\u001b[1;33m,\u001b[0m \u001b[1;33m**\u001b[0m\u001b[0mkwargs\u001b[0m\u001b[1;33m)\u001b[0m\u001b[1;33m\u001b[0m\u001b[0m\n\u001b[0m\u001b[0;32m   2288\u001b[0m \u001b[1;33m\u001b[0m\u001b[0m\n\u001b[0;32m   2289\u001b[0m     \u001b[1;33m@\u001b[0m\u001b[0mAppender\u001b[0m\u001b[1;33m(\u001b[0m\u001b[0mgeneric\u001b[0m\u001b[1;33m.\u001b[0m\u001b[0m_shared_docs\u001b[0m\u001b[1;33m[\u001b[0m\u001b[1;34m'fillna'\u001b[0m\u001b[1;33m]\u001b[0m \u001b[1;33m%\u001b[0m \u001b[0m_shared_doc_kwargs\u001b[0m\u001b[1;33m)\u001b[0m\u001b[1;33m\u001b[0m\u001b[0m\n",
      "\u001b[1;32mC:\\Users\\Bruno Dratcu\\Anaconda3\\lib\\site-packages\\pandas\\core\\generic.py\u001b[0m in \u001b[0;36mreindex\u001b[1;34m(self, *args, **kwargs)\u001b[0m\n\u001b[0;32m   2227\u001b[0m         \u001b[1;31m# perform the reindex on the axes\u001b[0m\u001b[1;33m\u001b[0m\u001b[1;33m\u001b[0m\u001b[0m\n\u001b[0;32m   2228\u001b[0m         return self._reindex_axes(axes, level, limit, tolerance, method,\n\u001b[1;32m-> 2229\u001b[1;33m                                   fill_value, copy).__finalize__(self)\n\u001b[0m\u001b[0;32m   2230\u001b[0m \u001b[1;33m\u001b[0m\u001b[0m\n\u001b[0;32m   2231\u001b[0m     def _reindex_axes(self, axes, level, limit, tolerance, method, fill_value,\n",
      "\u001b[1;32mC:\\Users\\Bruno Dratcu\\Anaconda3\\lib\\site-packages\\pandas\\core\\generic.py\u001b[0m in \u001b[0;36m_reindex_axes\u001b[1;34m(self, axes, level, limit, tolerance, method, fill_value, copy)\u001b[0m\n\u001b[0;32m   2240\u001b[0m             \u001b[0max\u001b[0m \u001b[1;33m=\u001b[0m \u001b[0mself\u001b[0m\u001b[1;33m.\u001b[0m\u001b[0m_get_axis\u001b[0m\u001b[1;33m(\u001b[0m\u001b[0ma\u001b[0m\u001b[1;33m)\u001b[0m\u001b[1;33m\u001b[0m\u001b[0m\n\u001b[0;32m   2241\u001b[0m             new_index, indexer = ax.reindex(labels, level=level, limit=limit,\n\u001b[1;32m-> 2242\u001b[1;33m                                             tolerance=tolerance, method=method)\n\u001b[0m\u001b[0;32m   2243\u001b[0m \u001b[1;33m\u001b[0m\u001b[0m\n\u001b[0;32m   2244\u001b[0m             \u001b[0maxis\u001b[0m \u001b[1;33m=\u001b[0m \u001b[0mself\u001b[0m\u001b[1;33m.\u001b[0m\u001b[0m_get_axis_number\u001b[0m\u001b[1;33m(\u001b[0m\u001b[0ma\u001b[0m\u001b[1;33m)\u001b[0m\u001b[1;33m\u001b[0m\u001b[0m\n",
      "\u001b[1;32mC:\\Users\\Bruno Dratcu\\Anaconda3\\lib\\site-packages\\pandas\\indexes\\category.py\u001b[0m in \u001b[0;36mreindex\u001b[1;34m(self, target, method, level, limit, tolerance)\u001b[0m\n\u001b[0;32m    338\u001b[0m \u001b[1;33m\u001b[0m\u001b[0m\n\u001b[0;32m    339\u001b[0m         \u001b[0mindexer\u001b[0m\u001b[1;33m,\u001b[0m \u001b[0mmissing\u001b[0m \u001b[1;33m=\u001b[0m \u001b[0mself\u001b[0m\u001b[1;33m.\u001b[0m\u001b[0mget_indexer_non_unique\u001b[0m\u001b[1;33m(\u001b[0m\u001b[0mnp\u001b[0m\u001b[1;33m.\u001b[0m\u001b[0marray\u001b[0m\u001b[1;33m(\u001b[0m\u001b[0mtarget\u001b[0m\u001b[1;33m)\u001b[0m\u001b[1;33m)\u001b[0m\u001b[1;33m\u001b[0m\u001b[0m\n\u001b[1;32m--> 340\u001b[1;33m         \u001b[0mnew_target\u001b[0m \u001b[1;33m=\u001b[0m \u001b[0mself\u001b[0m\u001b[1;33m.\u001b[0m\u001b[0mtake\u001b[0m\u001b[1;33m(\u001b[0m\u001b[0mindexer\u001b[0m\u001b[1;33m)\u001b[0m\u001b[1;33m\u001b[0m\u001b[0m\n\u001b[0m\u001b[0;32m    341\u001b[0m \u001b[1;33m\u001b[0m\u001b[0m\n\u001b[0;32m    342\u001b[0m         \u001b[1;31m# filling in missing if needed\u001b[0m\u001b[1;33m\u001b[0m\u001b[1;33m\u001b[0m\u001b[0m\n",
      "\u001b[1;32mC:\\Users\\Bruno Dratcu\\Anaconda3\\lib\\site-packages\\pandas\\indexes\\category.py\u001b[0m in \u001b[0;36mtake\u001b[1;34m(self, indices, axis, allow_fill, fill_value, **kwargs)\u001b[0m\n\u001b[0;32m    469\u001b[0m                                            \u001b[0mallow_fill\u001b[0m\u001b[1;33m=\u001b[0m\u001b[0mallow_fill\u001b[0m\u001b[1;33m,\u001b[0m\u001b[1;33m\u001b[0m\u001b[0m\n\u001b[0;32m    470\u001b[0m                                            \u001b[0mfill_value\u001b[0m\u001b[1;33m=\u001b[0m\u001b[0mfill_value\u001b[0m\u001b[1;33m,\u001b[0m\u001b[1;33m\u001b[0m\u001b[0m\n\u001b[1;32m--> 471\u001b[1;33m                                            na_value=-1)\n\u001b[0m\u001b[0;32m    472\u001b[0m         \u001b[1;32mreturn\u001b[0m \u001b[0mself\u001b[0m\u001b[1;33m.\u001b[0m\u001b[0m_create_from_codes\u001b[0m\u001b[1;33m(\u001b[0m\u001b[0mtaken\u001b[0m\u001b[1;33m)\u001b[0m\u001b[1;33m\u001b[0m\u001b[0m\n\u001b[0;32m    473\u001b[0m \u001b[1;33m\u001b[0m\u001b[0m\n",
      "\u001b[1;32mC:\\Users\\Bruno Dratcu\\Anaconda3\\lib\\site-packages\\pandas\\indexes\\base.py\u001b[0m in \u001b[0;36m_assert_take_fillable\u001b[1;34m(self, values, indices, allow_fill, fill_value, na_value)\u001b[0m\n\u001b[0;32m   1391\u001b[0m                 \u001b[0mtaken\u001b[0m\u001b[1;33m[\u001b[0m\u001b[0mmask\u001b[0m\u001b[1;33m]\u001b[0m \u001b[1;33m=\u001b[0m \u001b[0mna_value\u001b[0m\u001b[1;33m\u001b[0m\u001b[0m\n\u001b[0;32m   1392\u001b[0m         \u001b[1;32melse\u001b[0m\u001b[1;33m:\u001b[0m\u001b[1;33m\u001b[0m\u001b[0m\n\u001b[1;32m-> 1393\u001b[1;33m             \u001b[0mtaken\u001b[0m \u001b[1;33m=\u001b[0m \u001b[0mvalues\u001b[0m\u001b[1;33m.\u001b[0m\u001b[0mtake\u001b[0m\u001b[1;33m(\u001b[0m\u001b[0mindices\u001b[0m\u001b[1;33m)\u001b[0m\u001b[1;33m\u001b[0m\u001b[0m\n\u001b[0m\u001b[0;32m   1394\u001b[0m         \u001b[1;32mreturn\u001b[0m \u001b[0mtaken\u001b[0m\u001b[1;33m\u001b[0m\u001b[0m\n\u001b[0;32m   1395\u001b[0m \u001b[1;33m\u001b[0m\u001b[0m\n",
      "\u001b[1;31mIndexError\u001b[0m: cannot do a non-empty take from an empty axes."
     ]
    }
   ],
   "source": [
    "renda1800 = pd.cut(renda1800, faixa, False)\n",
    "print('Frequências relativas:')\n",
    "\n",
    "ut1 = (renda1800.value_counts(True)*100).round(decimals=1).reindex(['[31.17, 33.116)', '[29.225, 31.17)', \n",
    "                                                                    '[35.0622, 37.00802)', '[33.116, 35.0622)', '[25.333, 27.279)', \n",
    "                                                                    '[27.279, 29.225)', '[23.368, 25.333)', '[37.00802, 38.954)', \n",
    "                                                                    '[38.954, 40.9)', '[40.9, 42.846)'])\n",
    "print(ut1,'\\n')"
   ]
  },
  {
   "cell_type": "code",
   "execution_count": null,
   "metadata": {
    "collapsed": true
   },
   "outputs": [],
   "source": []
  },
  {
   "cell_type": "code",
   "execution_count": 21,
   "metadata": {
    "collapsed": false
   },
   "outputs": [
    {
     "data": {
      "text/plain": [
       "count    201.000000\n",
       "mean      36.353496\n",
       "std        9.590987\n",
       "min       23.387000\n",
       "25%       30.400000\n",
       "50%       32.800000\n",
       "75%       39.360000\n",
       "max       63.260000\n",
       "Name: L1926, dtype: float64"
      ]
     },
     "execution_count": 21,
     "metadata": {},
     "output_type": "execute_result"
    }
   ],
   "source": [
    "l1926 = dados[\"L1926\"]\n",
    "l1926.describe()"
   ]
  },
  {
   "cell_type": "code",
   "execution_count": 20,
   "metadata": {
    "collapsed": false
   },
   "outputs": [
    {
     "data": {
      "text/plain": [
       "(31.362, 35.349]    0.273632\n",
       "(27.374, 31.362]    0.223881\n",
       "(35.349, 39.336]    0.129353\n",
       "(23.347, 27.374]    0.119403\n",
       "(39.336, 43.323]    0.069652\n",
       "(51.298, 55.285]    0.044776\n",
       "(59.273, 63.26]     0.039801\n",
       "(47.311, 51.298]    0.039801\n",
       "(55.285, 59.273]    0.034826\n",
       "(43.323, 47.311]    0.024876\n",
       "Name: L1926, dtype: float64"
      ]
     },
     "execution_count": 20,
     "metadata": {},
     "output_type": "execute_result"
    }
   ],
   "source": [
    "renda1926 = pd.cut(dados[\"L1926\"], bins=10)\n",
    "\n",
    "renda1926.value_counts(True)"
   ]
  },
  {
   "cell_type": "code",
   "execution_count": null,
   "metadata": {
    "collapsed": true
   },
   "outputs": [],
   "source": []
  },
  {
   "cell_type": "code",
   "execution_count": 23,
   "metadata": {
    "collapsed": false
   },
   "outputs": [
    {
     "data": {
      "text/plain": [
       "count    201.000000\n",
       "mean      68.012856\n",
       "std        9.211812\n",
       "min       45.700000\n",
       "25%       61.400000\n",
       "50%       71.200000\n",
       "75%       75.000000\n",
       "max       81.100000\n",
       "Name: L2000, dtype: float64"
      ]
     },
     "execution_count": 23,
     "metadata": {},
     "output_type": "execute_result"
    }
   ],
   "source": [
    "l2000 = dados[\"L2000\"]\n",
    "l2000.describe()"
   ]
  },
  {
   "cell_type": "code",
   "execution_count": 22,
   "metadata": {
    "collapsed": false
   },
   "outputs": [
    {
     "data": {
      "text/plain": [
       "(70.48, 74.02]     0.203980\n",
       "(74.02, 77.56]     0.179104\n",
       "(77.56, 81.1]      0.139303\n",
       "(66.94, 70.48]     0.114428\n",
       "(59.86, 63.4]      0.079602\n",
       "(49.24, 52.78]     0.079602\n",
       "(63.4, 66.94]      0.069652\n",
       "(52.78, 56.32]     0.059701\n",
       "(56.32, 59.86]     0.049751\n",
       "(45.665, 49.24]    0.024876\n",
       "Name: L2000, dtype: float64"
      ]
     },
     "execution_count": 22,
     "metadata": {},
     "output_type": "execute_result"
    }
   ],
   "source": [
    "renda2000 = pd.cut(dados[\"L2000\"], bins=10)\n",
    "\n",
    "renda2000.value_counts(True)"
   ]
  },
  {
   "cell_type": "code",
   "execution_count": null,
   "metadata": {
    "collapsed": true
   },
   "outputs": [],
   "source": []
  },
  {
   "cell_type": "markdown",
   "metadata": {},
   "source": [
    "count**0.5 =~ 14\n",
    "\n",
    "max-min: \n",
    "\n",
    "--L1800: 11.3 \n",
    "\n",
    "--L1926: 39.8\n",
    "\n",
    "--L2000: 35.4"
   ]
  },
  {
   "cell_type": "code",
   "execution_count": null,
   "metadata": {
    "collapsed": false
   },
   "outputs": [],
   "source": [
    "list(range(82,22,4))"
   ]
  },
  {
   "cell_type": "code",
   "execution_count": null,
   "metadata": {
    "collapsed": false
   },
   "outputs": [],
   "source": []
  },
  {
   "cell_type": "code",
   "execution_count": null,
   "metadata": {
    "collapsed": true
   },
   "outputs": [],
   "source": []
  },
  {
   "cell_type": "code",
   "execution_count": null,
   "metadata": {
    "collapsed": true
   },
   "outputs": [],
   "source": []
  },
  {
   "cell_type": "code",
   "execution_count": null,
   "metadata": {
    "collapsed": true
   },
   "outputs": [],
   "source": []
  }
 ],
 "metadata": {
  "anaconda-cloud": {},
  "kernelspec": {
   "display_name": "Python 3",
   "language": "python",
   "name": "python3"
  },
  "language_info": {
   "codemirror_mode": {
    "name": "ipython",
    "version": 3
   },
   "file_extension": ".py",
   "mimetype": "text/x-python",
   "name": "python",
   "nbconvert_exporter": "python",
   "pygments_lexer": "ipython3",
   "version": "3.5.2"
  }
 },
 "nbformat": 4,
 "nbformat_minor": 0
}
