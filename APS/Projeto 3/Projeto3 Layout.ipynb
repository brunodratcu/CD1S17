{
 "cells": [
  {
   "cell_type": "markdown",
   "metadata": {},
   "source": [
    "___\n",
    "# PROJETO 3"
   ]
  },
  {
   "cell_type": "markdown",
   "metadata": {},
   "source": [
    "## GRUPO:\n",
    "### NOME 1\n",
    "### NOME 2\n",
    "___"
   ]
  },
  {
   "cell_type": "code",
   "execution_count": 2,
   "metadata": {
    "collapsed": false
   },
   "outputs": [
    {
     "name": "stdout",
     "output_type": "stream",
     "text": [
      "Esperamos trabalhar no diretório\n",
      "C:\\Users\\Bruno Dratcu\\Desktop\\2o DP\\CD\\CD1S17\\APS\\Projeto 3\n"
     ]
    }
   ],
   "source": [
    "%matplotlib inline\n",
    "import pandas as pd\n",
    "import matplotlib.pyplot as plt\n",
    "import numpy as np\n",
    "import os\n",
    "from scipy import stats\n",
    "\n",
    "print('Esperamos trabalhar no diretório')\n",
    "print(os.getcwd())"
   ]
  },
  {
   "cell_type": "code",
   "execution_count": 49,
   "metadata": {
    "collapsed": false
   },
   "outputs": [
    {
     "name": "stdout",
     "output_type": "stream",
     "text": [
      "Media: 2.98907311398\n",
      "Var: 2.93977674447\n",
      "DP: 1.71457771608\n"
     ]
    }
   ],
   "source": [
    "populacao = []\n",
    "\n",
    "gamma = stats.gamma.rvs(a=3, loc=0, scale=1, size=10000)\n",
    "\n",
    "populacao.append(gamma)\n",
    "\n",
    "media = np.mean(gamma)\n",
    "var = np.var(gamma)\n",
    "dp = var**0.5\n",
    "\n",
    "print(\"Media:\", media)\n",
    "print(\"Var:\", var)\n",
    "print(\"DP:\", dp)"
   ]
  },
  {
   "cell_type": "code",
   "execution_count": 54,
   "metadata": {
    "collapsed": false
   },
   "outputs": [
    {
     "data": {
      "text/plain": [
       "(array([  6.27439522e-02,   2.17394539e-01,   2.64484064e-01,\n",
       "          2.38225026e-01,   1.79015944e-01,   1.23594224e-01,\n",
       "          7.13286378e-02,   4.77207524e-02,   2.62590383e-02,\n",
       "          1.48969544e-02,   6.69100496e-03,   5.68104195e-03,\n",
       "          2.77739829e-03,   8.83717636e-04,   3.78736130e-04,\n",
       "          2.52490753e-04,   0.00000000e+00,   0.00000000e+00,\n",
       "          0.00000000e+00,   1.26245377e-04]),\n",
       " array([  0.03097804,   0.82308625,   1.61519447,   2.40730268,\n",
       "          3.1994109 ,   3.99151911,   4.78362733,   5.57573554,\n",
       "          6.36784376,   7.15995198,   7.95206019,   8.74416841,\n",
       "          9.53627662,  10.32838484,  11.12049305,  11.91260127,\n",
       "         12.70470948,  13.4968177 ,  14.28892592,  15.08103413,  15.87314235]),\n",
       " <a list of 20 Patch objects>)"
      ]
     },
     "execution_count": 54,
     "metadata": {},
     "output_type": "execute_result"
    },
    {
     "data": {
      "image/png": "[encoded data removed]",
      "text/plain": [
       "<matplotlib.figure.Figure at 0x2f4cb3a2978>"
      ]
     },
     "metadata": {},
     "output_type": "display_data"
    }
   ],
   "source": [
    "x = np.linspace(0,10,10000)\n",
    "y = stats.gamma.pdf(x, gamma)\n",
    "\n",
    "plt.hist(gamma, bins=20, normed=True)"
   ]
  },
  {
   "cell_type": "code",
   "execution_count": 102,
   "metadata": {
    "collapsed": false
   },
   "outputs": [
    {
     "ename": "SyntaxError",
     "evalue": "invalid syntax (<ipython-input-102-19e39236d6c4>, line 10)",
     "output_type": "error",
     "traceback": [
      "\u001b[1;36m  File \u001b[1;32m\"<ipython-input-102-19e39236d6c4>\"\u001b[1;36m, line \u001b[1;32m10\u001b[0m\n\u001b[1;33m    for i in [4]:\u001b[0m\n\u001b[1;37m                ^\u001b[0m\n\u001b[1;31mSyntaxError\u001b[0m\u001b[1;31m:\u001b[0m invalid syntax\n"
     ]
    }
   ],
   "source": [
    "for i in [2]:\n",
    "    x = np.random.choice(gamma, n)\n",
    "    media2 = np.mean(x)\n",
    "    var2 = np.var(x)\n",
    "    \n",
    "    print(\"Media de n=2 \", media2)\n",
    "    print(\"VariVariancia de n=2 \", (var2)\n",
    "    \n",
    "    \n",
    "for i in [4]:\n",
    "    x = np.random.choice(gamma, n)\n",
    "    media4 = np.mean(x)\n",
    "    var4 = np.var(x)\n",
    "    \n",
    "    print(\"Media de n=4 \", media4)\n",
    "    print(\"Variancia de n=4 \", var4)\n",
    "    \n",
    "    \n",
    "for i in [20]:\n",
    "    x = np.random.choice(gamma, n)\n",
    "    media20 = np.mean(x)\n",
    "    var20 = np.var(x)\n",
    "    \n",
    "    print(\"Media de n=20 \", media20)\n",
    "    print(\"Variancia de n=20 \", var20)\n",
    "    \n",
    "    \n",
    "for i in [50]:\n",
    "    x = np.random.choice(gamma, n)\n",
    "    media50 = np.mean(x)\n",
    "    var50 = np.var(x)\n",
    "    \n",
    "    print(\"Media de n=50 \", media50)\n",
    "    print(\"Variancia de n=50 \", var50)"
   ]
  },
  {
   "cell_type": "code",
   "execution_count": 104,
   "metadata": {
    "collapsed": false
   },
   "outputs": [
    {
     "data": {
      "text/plain": [
       "(array([   9.,   33.,   84.,  168.,  295.,  355.,  524.,  594.,  646.,\n",
       "         737.,  710.,  735.,  722.,  590.,  634.,  496.,  485.,  395.,\n",
       "         352.,  276.,  222.,  197.,  154.,  109.,  111.,   85.,   51.,\n",
       "          64.,   42.,   33.,   22.,   17.,   16.,   14.,    8.,    2.,\n",
       "           4.,    1.,    1.,    1.,    2.,    2.,    0.,    0.,    0.,\n",
       "           1.,    0.,    0.,    0.,    1.]),\n",
       " array([  0.31442573,   0.52227738,   0.73012902,   0.93798067,\n",
       "          1.14583231,   1.35368396,   1.5615356 ,   1.76938725,\n",
       "          1.97723889,   2.18509054,   2.39294218,   2.60079383,\n",
       "          2.80864547,   3.01649712,   3.22434876,   3.43220041,\n",
       "          3.64005205,   3.8479037 ,   4.05575534,   4.26360699,\n",
       "          4.47145864,   4.67931028,   4.88716193,   5.09501357,\n",
       "          5.30286522,   5.51071686,   5.71856851,   5.92642015,\n",
       "          6.1342718 ,   6.34212344,   6.54997509,   6.75782673,\n",
       "          6.96567838,   7.17353002,   7.38138167,   7.58923331,\n",
       "          7.79708496,   8.0049366 ,   8.21278825,   8.4206399 ,\n",
       "          8.62849154,   8.83634319,   9.04419483,   9.25204648,\n",
       "          9.45989812,   9.66774977,   9.87560141,  10.08345306,\n",
       "         10.2913047 ,  10.49915635,  10.70700799]),\n",
       " <a list of 50 Patch objects>)"
      ]
     },
     "execution_count": 104,
     "metadata": {},
     "output_type": "execute_result"
    },
    {
     "data": {
      "image/png": "[encoded data removed]",
      "text/plain": [
       "<matplotlib.figure.Figure at 0x2f4cb4d7160>"
      ]
     },
     "metadata": {},
     "output_type": "display_data"
    }
   ],
   "source": [
    "medias = []\n",
    "n=2\n",
    "for i in range(10000):\n",
    "    x = np.random.choice(gamma, n)\n",
    "    medias.append(np.mean(x))\n",
    "    \n",
    "    \n",
    "plt.hist(medias, bins=50)"
   ]
  },
  {
   "cell_type": "code",
   "execution_count": null,
   "metadata": {
    "collapsed": true
   },
   "outputs": [],
   "source": []
  },
  {
   "cell_type": "code",
   "execution_count": null,
   "metadata": {
    "collapsed": true
   },
   "outputs": [],
   "source": []
  },
  {
   "cell_type": "code",
   "execution_count": null,
   "metadata": {
    "collapsed": true
   },
   "outputs": [],
   "source": []
  },
  {
   "cell_type": "markdown",
   "metadata": {},
   "source": [
    "___\n",
    "## Estudo da Distribuição da Média Amostral  $\\bar{X}$  via SIMULAÇÃO"
   ]
  },
  {
   "cell_type": "code",
   "execution_count": null,
   "metadata": {
    "collapsed": true
   },
   "outputs": [],
   "source": []
  },
  {
   "cell_type": "code",
   "execution_count": null,
   "metadata": {
    "collapsed": true
   },
   "outputs": [],
   "source": []
  },
  {
   "cell_type": "code",
   "execution_count": null,
   "metadata": {
    "collapsed": true
   },
   "outputs": [],
   "source": []
  },
  {
   "cell_type": "markdown",
   "metadata": {
    "collapsed": true
   },
   "source": [
    "___\n",
    "## Estudo da Distribuição de  $\\frac{\\bar{X}-\\mu}{\\sigma\\hspace{1mm}/\\sqrt{n}}$  e de $\\frac{\\bar{X}-\\mu}{S\\hspace{1mm}/\\sqrt{n}}$ via SIMULAÇÃO"
   ]
  },
  {
   "cell_type": "code",
   "execution_count": null,
   "metadata": {
    "collapsed": true
   },
   "outputs": [],
   "source": []
  },
  {
   "cell_type": "code",
   "execution_count": null,
   "metadata": {
    "collapsed": true
   },
   "outputs": [],
   "source": []
  },
  {
   "cell_type": "code",
   "execution_count": null,
   "metadata": {
    "collapsed": true
   },
   "outputs": [],
   "source": []
  },
  {
   "cell_type": "code",
   "execution_count": null,
   "metadata": {
    "collapsed": true
   },
   "outputs": [],
   "source": []
  }
 ],
 "metadata": {
  "anaconda-cloud": {},
  "kernelspec": {
   "display_name": "Python 3",
   "language": "python",
   "name": "python3"
  },
  "language_info": {
   "codemirror_mode": {
    "name": "ipython",
    "version": 3
   },
   "file_extension": ".py",
   "mimetype": "text/x-python",
   "name": "python",
   "nbconvert_exporter": "python",
   "pygments_lexer": "ipython3",
   "version": "3.5.2"
  }
 },
 "nbformat": 4,
 "nbformat_minor": 0
}
