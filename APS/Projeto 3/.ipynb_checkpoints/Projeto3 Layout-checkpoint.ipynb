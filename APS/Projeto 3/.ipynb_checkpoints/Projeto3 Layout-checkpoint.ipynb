{
 "cells": [
  {
   "cell_type": "markdown",
   "metadata": {},
   "source": [
    "___\n",
    "# PROJETO 3"
   ]
  },
  {
   "cell_type": "markdown",
   "metadata": {},
   "source": [
    "## GRUPO:\n",
    "### Bruno Dratcu\n",
    "___"
   ]
  },
  {
   "cell_type": "code",
   "execution_count": 1,
   "metadata": {
    "collapsed": false
   },
   "outputs": [
    {
     "name": "stdout",
     "output_type": "stream",
     "text": [
      "Esperamos trabalhar no diretório\n",
      "C:\\Users\\Bruno Dratcu\\Desktop\\2o DP\\CD\\CD1S17\\APS\\Projeto 3\n"
     ]
    }
   ],
   "source": [
    "%matplotlib inline\n",
    "import pandas as pd\n",
    "import matplotlib.pyplot as plt\n",
    "import numpy as np\n",
    "import os\n",
    "from scipy import stats\n",
    "\n",
    "print('Esperamos trabalhar no diretório')\n",
    "print(os.getcwd())"
   ]
  },
  {
   "cell_type": "code",
   "execution_count": 2,
   "metadata": {
    "collapsed": false
   },
   "outputs": [
    {
     "name": "stdout",
     "output_type": "stream",
     "text": [
      "Media: 2.99357784563\n",
      "Var: 2.96635244102\n",
      "DP: 1.72231020464\n"
     ]
    }
   ],
   "source": [
    "populacao = []\n",
    "\n",
    "gamma = stats.gamma.rvs(a=3, loc=0, scale=1, size=10000)\n",
    "\n",
    "populacao.append(gamma)\n",
    "\n",
    "media = np.mean(gamma)\n",
    "var = np.var(gamma)\n",
    "dp = var**0.5\n",
    "\n",
    "print(\"Media:\", media)\n",
    "print(\"Var:\", var)\n",
    "print(\"DP:\", dp)"
   ]
  },
  {
   "cell_type": "code",
   "execution_count": 3,
   "metadata": {
    "collapsed": false
   },
   "outputs": [
    {
     "data": {
      "text/plain": [
       "(array([ 0.06317812,  0.20346666,  0.27561111,  0.24912596,  0.19712126,\n",
       "         0.1379435 ,  0.09711222,  0.06497139,  0.0371068 ,  0.02262273,\n",
       "         0.01393229,  0.00772484,  0.0041383 ,  0.00193121,  0.00137943,\n",
       "         0.00110355,  0.00027589,  0.00041383,  0.        ,  0.00027589]),\n",
       " array([  0.07214297,   0.79707746,   1.52201195,   2.24694644,\n",
       "          2.97188092,   3.69681541,   4.4217499 ,   5.14668439,\n",
       "          5.87161887,   6.59655336,   7.32148785,   8.04642234,\n",
       "          8.77135682,   9.49629131,  10.2212258 ,  10.94616029,\n",
       "         11.67109477,  12.39602926,  13.12096375,  13.84589824,  14.57083272]),\n",
       " <a list of 20 Patch objects>)"
      ]
     },
     "execution_count": 3,
     "metadata": {},
     "output_type": "execute_result"
    },
    {
     "data": {
      "image/png": "[encoded data removed]",
      "text/plain": [
       "<matplotlib.figure.Figure at 0x2c149364ef0>"
      ]
     },
     "metadata": {},
     "output_type": "display_data"
    }
   ],
   "source": [
    "x = np.linspace(0,10,10000)\n",
    "y = stats.gamma.pdf(x, gamma)\n",
    "\n",
    "plt.hist(gamma, bins=20, normed=True)"
   ]
  },
  {
   "cell_type": "code",
   "execution_count": 4,
   "metadata": {
    "collapsed": false
   },
   "outputs": [
    {
     "name": "stdout",
     "output_type": "stream",
     "text": [
      "Media de n=2: 5.89894445448\n",
      "Variancia de n=2: 8.15767303383\n",
      "Media de n=4: 2.84616603209\n",
      "Variancia de n=4: 0.256255558448\n",
      "Media de n=20: 3.29853607006\n",
      "Variancia de n=20: 1.71107219256\n",
      "Media de n=50: 2.90036933383\n",
      "Variancia de n=50: 2.90105823487\n"
     ]
    }
   ],
   "source": [
    "for i in [2]:\n",
    "    x = np.random.choice(gamma, i)\n",
    "    media2 = np.mean(x)\n",
    "    var2 = np.var(x)\n",
    "    \n",
    "    print(\"Media de n=2:\", media2)\n",
    "    print(\"Variancia de n=2:\", var2)\n",
    "    \n",
    "    \n",
    "for i in [4]:\n",
    "    x = np.random.choice(gamma, i)\n",
    "    media4 = np.mean(x)\n",
    "    var4 = np.var(x)\n",
    "    \n",
    "    print(\"Media de n=4:\", media4)\n",
    "    print(\"Variancia de n=4:\", var4)\n",
    "    \n",
    "    \n",
    "for i in [20]:\n",
    "    x = np.random.choice(gamma, i)\n",
    "    media20 = np.mean(x)\n",
    "    var20 = np.var(x)\n",
    "    \n",
    "    print(\"Media de n=20:\", media20)\n",
    "    print(\"Variancia de n=20:\", var20)\n",
    "    \n",
    "    \n",
    "for i in [50]:\n",
    "    x = np.random.choice(gamma, i)\n",
    "    media50 = np.mean(x)\n",
    "    var50 = np.var(x)\n",
    "    \n",
    "    print(\"Media de n=50:\", media50)\n",
    "    print(\"Variancia de n=50:\", var50)"
   ]
  },
  {
   "cell_type": "code",
   "execution_count": 5,
   "metadata": {
    "collapsed": false
   },
   "outputs": [
    {
     "data": {
      "text/plain": [
       "(array([   1.,    5.,    9.,   10.,   12.,   27.,   34.,   55.,   86.,\n",
       "         101.,  145.,  150.,  196.,  229.,  309.,  342.,  413.,  487.,\n",
       "         510.,  519.,  548.,  626.,  564.,  541.,  568.,  529.,  478.,\n",
       "         396.,  367.,  312.,  307.,  232.,  193.,  159.,  121.,   95.,\n",
       "          84.,   58.,   50.,   33.,   25.,   15.,   20.,   14.,    9.,\n",
       "           4.,    3.,    6.,    1.,    2.]),\n",
       " array([ 2.20514857,  2.24023343,  2.27531828,  2.31040313,  2.34548798,\n",
       "         2.38057284,  2.41565769,  2.45074254,  2.48582739,  2.52091225,\n",
       "         2.5559971 ,  2.59108195,  2.6261668 ,  2.66125166,  2.69633651,\n",
       "         2.73142136,  2.76650621,  2.80159106,  2.83667592,  2.87176077,\n",
       "         2.90684562,  2.94193047,  2.97701533,  3.01210018,  3.04718503,\n",
       "         3.08226988,  3.11735474,  3.15243959,  3.18752444,  3.22260929,\n",
       "         3.25769415,  3.292779  ,  3.32786385,  3.3629487 ,  3.39803356,\n",
       "         3.43311841,  3.46820326,  3.50328811,  3.53837296,  3.57345782,\n",
       "         3.60854267,  3.64362752,  3.67871237,  3.71379723,  3.74888208,\n",
       "         3.78396693,  3.81905178,  3.85413664,  3.88922149,  3.92430634,\n",
       "         3.95939119]),\n",
       " <a list of 50 Patch objects>)"
      ]
     },
     "execution_count": 5,
     "metadata": {},
     "output_type": "execute_result"
    },
    {
     "data": {
      "image/png": "[encoded data removed]",
      "text/plain": [
       "<matplotlib.figure.Figure at 0x2c149787710>"
      ]
     },
     "metadata": {},
     "output_type": "display_data"
    }
   ],
   "source": [
    "medias = []\n",
    "medias4 = []\n",
    "medias20 = []\n",
    "medias50 = []\n",
    "\n",
    "\n",
    "for i in range(10000):\n",
    "    x = np.random.choice(gamma, 2)\n",
    "    medias.append(np.mean(x))\n",
    "    \n",
    "for i in range(10000):\n",
    "    x4 = np.random.choice(gamma, 4)\n",
    "    medias4.append(np.mean(x4))\n",
    "    \n",
    "for i in range(10000):\n",
    "    x20 = np.random.choice(gamma, 20)\n",
    "    medias20.append(np.mean(x20))\n",
    "    \n",
    "for i in range(10000):\n",
    "    x50 = np.random.choice(gamma, 50)\n",
    "    medias50.append(np.mean(x50))\n",
    "    \n",
    "fig = plt.figure(figsize=(10, 10))\n",
    "plt.subplot(221)\n",
    "plt.hist(medias, bins=50, color=\"red\")\n",
    "plt.subplot(222)\n",
    "plt.hist(medias4, bins=50, color=\"yellow\")\n",
    "plt.subplot(223)\n",
    "plt.hist(medias20, bins=50, color=\"green\")\n",
    "plt.subplot(224)\n",
    "plt.hist(medias50, bins=50, color=\"black\")"
   ]
  },
  {
   "cell_type": "markdown",
   "metadata": {},
   "source": [
    "___\n",
    "## Estudo da Distribuição da Média Amostral  $\\bar{X}$  via SIMULAÇÃO"
   ]
  },
  {
   "cell_type": "code",
   "execution_count": 32,
   "metadata": {
    "collapsed": false
   },
   "outputs": [
    {
     "name": "stdout",
     "output_type": "stream",
     "text": [
      "Media: 2.99307780465\n",
      "Variancia: 0.0579581262835\n"
     ]
    },
    {
     "data": {
      "image/png": "[encoded data removed]",
      "text/plain": [
       "<matplotlib.figure.Figure at 0x2c14dceafd0>"
      ]
     },
     "metadata": {},
     "output_type": "display_data"
    },
    {
     "name": "stdout",
     "output_type": "stream",
     "text": [
      "Correlação entre os valores de x3 e x15 é:\n",
      "[[ 1.0077113  -0.02744614]\n",
      " [-0.02744614  0.99254619]]\n"
     ]
    }
   ],
   "source": [
    "media_valor = []\n",
    "\n",
    "x3 = []\n",
    "x15 = []\n",
    "\n",
    "for i in range (0, 10001):\n",
    "    aleatorio = np.random.choice(gamma, 50)\n",
    "    x3.append(aleatorio[2])\n",
    "    x15.append(aleatorio[15])\n",
    "    media_valor.append(np.mean(aleatorio))\n",
    " \n",
    "fig = plt.figure(figsize=(10,5)) \n",
    "plt.subplot(131)\n",
    "plt.hist(media_valor, bins=20, color=\"red\", normed=1)\n",
    "\n",
    "mediax = np.mean(media_valor)\n",
    "varx = np.var(media_valor)\n",
    "print(\"Media:\", mediax)\n",
    "print(\"Variancia:\", varx)\n",
    "\n",
    "plt.subplot(132)\n",
    "plt.hist(x3, bins=20, color=\"yellow\", normed=1)\n",
    "plt.subplot(133)\n",
    "plt.hist(x15, bins=20, color=\"green\", normed=1)\n",
    "\n",
    "plt.tight_layout()\n",
    "plt.show()\n",
    "\n",
    "dp3= np.std(x3)\n",
    "dp15= np.std(x15)\n",
    "cov = np.cov(x3,x15)\n",
    "print(\"Correlação entre os valores de x3 e x15 é:\")\n",
    "print(cov/(dp3*dp15))"
   ]
  },
  {
   "cell_type": "markdown",
   "metadata": {
    "collapsed": true
   },
   "source": [
    "___\n",
    "## Estudo da Distribuição de  $\\frac{\\bar{X}-\\mu}{\\sigma\\hspace{1mm}/\\sqrt{n}}$  e de $\\frac{\\bar{X}-\\mu}{S\\hspace{1mm}/\\sqrt{n}}$ via SIMULAÇÃO"
   ]
  },
  {
   "cell_type": "code",
   "execution_count": 16,
   "metadata": {
    "collapsed": false
   },
   "outputs": [
    {
     "name": "stdout",
     "output_type": "stream",
     "text": [
      "Media populacional: 4.99350972932\n",
      "Variancia populacional: 8.98268305616\n",
      "Desvio Padrão populacional: 2.99711245304\n"
     ]
    }
   ],
   "source": [
    "#MEDIA = 5 ; VAR=9\n",
    "\n",
    "distr = []\n",
    "\n",
    "norm = stats.norm.rvs(loc=5, scale=3, size=1000000)\n",
    "\n",
    "distr.append(norm)\n",
    "\n",
    "media = np.mean(norm)\n",
    "var = np.var(norm)\n",
    "dp = var**0.5\n",
    "\n",
    "print(\"Media populacional:\", media)\n",
    "print(\"Variancia populacional:\", var)\n",
    "print(\"Desvio Padrão populacional:\", dp)"
   ]
  },
  {
   "cell_type": "code",
   "execution_count": 38,
   "metadata": {
    "collapsed": false
   },
   "outputs": [
    {
     "data": {
      "text/plain": [
       "(array([   3.,    3.,    5.,    4.,   11.,   19.,   29.,   29.,   47.,\n",
       "          63.,   77.,  119.,  138.,  194.,  229.,  242.,  336.,  354.,\n",
       "         415.,  470.,  492.,  521.,  532.,  562.,  565.,  573.,  548.,\n",
       "         509.,  483.,  422.,  379.,  321.,  270.,  220.,  178.,  149.,\n",
       "         111.,  107.,   67.,   55.,   45.,   31.,   19.,   18.,   16.,\n",
       "           7.,    5.,    5.,    1.,    2.]),\n",
       " array([ 2.65197599,  2.66613325,  2.68029051,  2.69444777,  2.70860502,\n",
       "         2.72276228,  2.73691954,  2.7510768 ,  2.76523406,  2.77939132,\n",
       "         2.79354857,  2.80770583,  2.82186309,  2.83602035,  2.85017761,\n",
       "         2.86433487,  2.87849212,  2.89264938,  2.90680664,  2.9209639 ,\n",
       "         2.93512116,  2.94927842,  2.96343567,  2.97759293,  2.99175019,\n",
       "         3.00590745,  3.02006471,  3.03422197,  3.04837922,  3.06253648,\n",
       "         3.07669374,  3.090851  ,  3.10500826,  3.11916552,  3.13332277,\n",
       "         3.14748003,  3.16163729,  3.17579455,  3.18995181,  3.20410907,\n",
       "         3.21826632,  3.23242358,  3.24658084,  3.2607381 ,  3.27489536,\n",
       "         3.28905262,  3.30320987,  3.31736713,  3.33152439,  3.34568165,\n",
       "         3.35983891]),\n",
       " <a list of 50 Patch objects>)"
      ]
     },
     "execution_count": 38,
     "metadata": {},
     "output_type": "execute_result"
    },
    {
     "data": {
      "image/png": "[encoded data removed]",
      "text/plain": [
       "<matplotlib.figure.Figure at 0x2c14e92cc88>"
      ]
     },
     "metadata": {},
     "output_type": "display_data"
    }
   ],
   "source": [
    "medias4 = []\n",
    "dp4 = []\n",
    "medias20 = []\n",
    "dp20 = []\n",
    "medias50 = []\n",
    "dp50 = []\n",
    "medias300 = []\n",
    "dp300 = []\n",
    "\n",
    "\n",
    "for i in range(10000):\n",
    "    x4 = np.random.choice(norm, 4)\n",
    "    medias4.append(np.mean(x4))\n",
    "    dp4.append(np.std(x4))\n",
    "    \n",
    "for i in range(10000):\n",
    "    x20 = np.random.choice(gamma, 20)\n",
    "    medias20.append(np.mean(x20))\n",
    "    dp20.append(np.std(x20))\n",
    "    \n",
    "for i in range(10000):\n",
    "    x50 = np.random.choice(gamma, 50)\n",
    "    medias50.append(np.mean(x50))\n",
    "    dp50.append(np.std(x50))\n",
    "    \n",
    "for i in range(10000):\n",
    "    x300 = np.random.choice(gamma, 300)\n",
    "    medias300.append(np.mean(x300))\n",
    "    dp300.append(np.std(x300))\n",
    "    \n",
    "fig = plt.figure(figsize=(10, 10))\n",
    "plt.subplot(221)\n",
    "plt.hist(medias4, bins=50, color=\"red\")\n",
    "plt.subplot(222)\n",
    "plt.hist(medias20, bins=50, color=\"yellow\")\n",
    "plt.subplot(223)\n",
    "plt.hist(medias50, bins=50, color=\"green\")\n",
    "plt.subplot(224)\n",
    "plt.hist(medias300, bins=50, color=\"black\")"
   ]
  },
  {
   "cell_type": "code",
   "execution_count": 59,
   "metadata": {
    "collapsed": false
   },
   "outputs": [
    {
     "data": {
      "text/plain": [
       "(array([  6.78353284e-05,   0.00000000e+00,   0.00000000e+00,\n",
       "          0.00000000e+00,   0.00000000e+00,   0.00000000e+00,\n",
       "          0.00000000e+00,   0.00000000e+00,   0.00000000e+00,\n",
       "          0.00000000e+00,   0.00000000e+00,   0.00000000e+00,\n",
       "          0.00000000e+00,   0.00000000e+00,   6.78353284e-05,\n",
       "          0.00000000e+00,   1.35670657e-04,   0.00000000e+00,\n",
       "          1.35670657e-04,   3.39176642e-04,   6.78353284e-05,\n",
       "          3.39176642e-04,   4.74847299e-04,   1.69588321e-03,\n",
       "          2.98475445e-03,   8.34374539e-03,   3.07294038e-02,\n",
       "          1.28005265e-01,   3.00578340e-01,   1.50255252e-01,\n",
       "          3.79877839e-02,   9.29343999e-03,   3.25609576e-03,\n",
       "          1.22103591e-03,   7.46188612e-04,   4.74847299e-04,\n",
       "          2.03505985e-04,   1.35670657e-04,   1.35670657e-04,\n",
       "          2.03505985e-04,   1.35670657e-04,   6.78353284e-05,\n",
       "          0.00000000e+00,   0.00000000e+00,   1.35670657e-04,\n",
       "          0.00000000e+00,   6.78353284e-05,   0.00000000e+00,\n",
       "          0.00000000e+00,   6.78353284e-05]),\n",
       " array([-42.07270452, -40.5985464 , -39.12438829, -37.65023017,\n",
       "        -36.17607205, -34.70191393, -33.22775582, -31.7535977 ,\n",
       "        -30.27943958, -28.80528146, -27.33112335, -25.85696523,\n",
       "        -24.38280711, -22.90864899, -21.43449088, -19.96033276,\n",
       "        -18.48617464, -17.01201652, -15.53785841, -14.06370029,\n",
       "        -12.58954217, -11.11538405,  -9.64122594,  -8.16706782,\n",
       "         -6.6929097 ,  -5.21875158,  -3.74459347,  -2.27043535,\n",
       "         -0.79627723,   0.67788089,   2.152039  ,   3.62619712,\n",
       "          5.10035524,   6.57451336,   8.04867148,   9.52282959,\n",
       "         10.99698771,  12.47114583,  13.94530395,  15.41946206,\n",
       "         16.89362018,  18.3677783 ,  19.84193642,  21.31609453,\n",
       "         22.79025265,  24.26441077,  25.73856889,  27.212727  ,\n",
       "         28.68688512,  30.16104324,  31.63520136]),\n",
       " <a list of 50 Patch objects>)"
      ]
     },
     "execution_count": 59,
     "metadata": {},
     "output_type": "execute_result"
    },
    {
     "data": {
      "image/png": "[encoded data removed]",
      "text/plain": [
       "<matplotlib.figure.Figure at 0x2c1549139e8>"
      ]
     },
     "metadata": {},
     "output_type": "display_data"
    }
   ],
   "source": [
    "n = 4\n",
    "zlista = []\n",
    "tlista = []\n",
    "\n",
    "for i in medias4:\n",
    "    z = (i-media)/(dp/n**0.5)\n",
    "    zlista.append(z)\n",
    "    \n",
    "for j in range(10000):\n",
    "    t = (medias4[j]-media)/(dp4[j]/n**0.5)\n",
    "    tlista.append(t)\n",
    "    \n",
    "fig = plt.figure(figsize=(15, 6))\n",
    "plt.subplot(121)\n",
    "plt.hist(zlista, bins = 50, normed=1, color=\"blue\")\n",
    "plt.subplot(122)\n",
    "plt.hist(tlista, bins = 50, normed=1, color=\"red\")"
   ]
  },
  {
   "cell_type": "code",
   "execution_count": 60,
   "metadata": {
    "collapsed": false
   },
   "outputs": [
    {
     "data": {
      "text/plain": [
       "(array([ 0.00025397,  0.        ,  0.        ,  0.        ,  0.00025397,\n",
       "         0.00025397,  0.        ,  0.00050794,  0.00050794,  0.00050794,\n",
       "         0.00050794,  0.00126984,  0.00025397,  0.00101587,  0.00228572,\n",
       "         0.00076191,  0.00228572,  0.00304762,  0.00330159,  0.00584127,\n",
       "         0.00685715,  0.01041271,  0.01041271,  0.01625398,  0.02209525,\n",
       "         0.02565081,  0.03123812,  0.04317463,  0.05282544,  0.05612703,\n",
       "         0.07873022,  0.09269848,  0.11276199,  0.11606358,  0.14196836,\n",
       "         0.17117473,  0.19276205,  0.20673031,  0.21079381,  0.18158744,\n",
       "         0.18793665,  0.15390488,  0.13587312,  0.10438103,  0.07263497,\n",
       "         0.04368257,  0.02184129,  0.01041271,  0.0048254 ,  0.00101587]),\n",
       " array([-20.24836646, -19.85461675, -19.46086704, -19.06711733,\n",
       "        -18.67336762, -18.27961791, -17.8858682 , -17.49211849,\n",
       "        -17.09836878, -16.70461907, -16.31086936, -15.91711965,\n",
       "        -15.52336994, -15.12962023, -14.73587052, -14.34212081,\n",
       "        -13.9483711 , -13.55462139, -13.16087168, -12.76712197,\n",
       "        -12.37337226, -11.97962255, -11.58587284, -11.19212313,\n",
       "        -10.79837342, -10.40462371, -10.010874  ,  -9.61712429,\n",
       "         -9.22337458,  -8.82962486,  -8.43587515,  -8.04212544,\n",
       "         -7.64837573,  -7.25462602,  -6.86087631,  -6.4671266 ,\n",
       "         -6.07337689,  -5.67962718,  -5.28587747,  -4.89212776,\n",
       "         -4.49837805,  -4.10462834,  -3.71087863,  -3.31712892,\n",
       "         -2.92337921,  -2.5296295 ,  -2.13587979,  -1.74213008,\n",
       "         -1.34838037,  -0.95463066,  -0.56088095]),\n",
       " <a list of 50 Patch objects>)"
      ]
     },
     "execution_count": 60,
     "metadata": {},
     "output_type": "execute_result"
    },
    {
     "data": {
      "image/png": "[encoded data removed]",
      "text/plain": [
       "<matplotlib.figure.Figure at 0x2c154cf3cc0>"
      ]
     },
     "metadata": {},
     "output_type": "display_data"
    }
   ],
   "source": [
    "n = 20\n",
    "zlista20 = []\n",
    "tlista20 = []\n",
    "\n",
    "for i in medias20:\n",
    "    z20 = (i-media)/(dp/n**0.5)\n",
    "    zlista20.append(z20)\n",
    "    \n",
    "for j in range(10000):\n",
    "    t20 = (medias20[j]-media)/(dp20[j]/n**0.5)\n",
    "    tlista20.append(t20)\n",
    "    \n",
    "fig = plt.figure(figsize=(15, 6))\n",
    "plt.subplot(121)\n",
    "plt.hist(zlista20, bins = 50, normed=1, color=\"blue\")\n",
    "plt.subplot(122)\n",
    "plt.hist(tlista20, bins = 50, normed=1, color=\"red\")"
   ]
  },
  {
   "cell_type": "code",
   "execution_count": 61,
   "metadata": {
    "collapsed": false
   },
   "outputs": [
    {
     "data": {
      "text/plain": [
       "(array([ 0.00030199,  0.00090596,  0.        ,  0.00060398,  0.00030199,\n",
       "         0.00030199,  0.00120795,  0.00060398,  0.00150994,  0.00211391,\n",
       "         0.00362385,  0.00513379,  0.00422783,  0.00664373,  0.00875765,\n",
       "         0.01056957,  0.01389144,  0.01811927,  0.02053517,  0.03170872,\n",
       "         0.03895643,  0.05314986,  0.05828365,  0.07730889,  0.08334865,\n",
       "         0.10388382,  0.1192852 ,  0.14525615,  0.173945  ,  0.19055433,\n",
       "         0.19900999,  0.19961397,  0.2011239 ,  0.19297023,  0.1839106 ,\n",
       "         0.18662849,  0.17273705,  0.1416323 ,  0.10992358,  0.08183871,\n",
       "         0.06492739,  0.04741209,  0.02808487,  0.01902523,  0.00815367,\n",
       "         0.00483181,  0.00090596,  0.00181193,  0.        ,  0.00030199]),\n",
       " array([-18.92306275, -18.59192359, -18.26078444, -17.92964528,\n",
       "        -17.59850612, -17.26736697, -16.93622781, -16.60508866,\n",
       "        -16.2739495 , -15.94281034, -15.61167119, -15.28053203,\n",
       "        -14.94939287, -14.61825372, -14.28711456, -13.95597541,\n",
       "        -13.62483625, -13.29369709, -12.96255794, -12.63141878,\n",
       "        -12.30027963, -11.96914047, -11.63800131, -11.30686216,\n",
       "        -10.975723  , -10.64458384, -10.31344469,  -9.98230553,\n",
       "         -9.65116638,  -9.32002722,  -8.98888806,  -8.65774891,\n",
       "         -8.32660975,  -7.99547059,  -7.66433144,  -7.33319228,\n",
       "         -7.00205313,  -6.67091397,  -6.33977481,  -6.00863566,\n",
       "         -5.6774965 ,  -5.34635734,  -5.01521819,  -4.68407903,\n",
       "         -4.35293988,  -4.02180072,  -3.69066156,  -3.35952241,\n",
       "         -3.02838325,  -2.6972441 ,  -2.36610494]),\n",
       " <a list of 50 Patch objects>)"
      ]
     },
     "execution_count": 61,
     "metadata": {},
     "output_type": "execute_result"
    },
    {
     "data": {
      "image/png": "[encoded data removed]",
      "text/plain": [
       "<matplotlib.figure.Figure at 0x2c1562b71d0>"
      ]
     },
     "metadata": {},
     "output_type": "display_data"
    }
   ],
   "source": [
    "n = 50\n",
    "zlista50 = []\n",
    "tlista50 = []\n",
    "\n",
    "for i in medias50:\n",
    "    z50 = (i-media)/(dp/n**0.5)\n",
    "    zlista50.append(z50)\n",
    "    \n",
    "for j in range(10000):\n",
    "    t50 = (medias50[j]-media)/(dp50[j]/n**0.5)\n",
    "    tlista50.append(t50)\n",
    "    \n",
    "fig = plt.figure(figsize=(15, 6))\n",
    "plt.subplot(121)\n",
    "plt.hist(zlista50, bins = 50, normed=1, color=\"blue\")\n",
    "plt.subplot(122)\n",
    "plt.hist(tlista50, bins = 50, normed=1, color=\"red\")"
   ]
  },
  {
   "cell_type": "code",
   "execution_count": 62,
   "metadata": {
    "collapsed": false
   },
   "outputs": [
    {
     "data": {
      "text/plain": [
       "(array([ 0.00066904,  0.00050178,  0.00033452,  0.00066904,  0.00183987,\n",
       "         0.00267617,  0.00485057,  0.00551961,  0.00702496,  0.00919935,\n",
       "         0.01271183,  0.02191118,  0.02793257,  0.0337867 ,  0.04097892,\n",
       "         0.05268718,  0.06406092,  0.0722567 ,  0.07576918,  0.08162331,\n",
       "         0.08714292,  0.09098992,  0.09650953,  0.09650953,  0.10152736,\n",
       "         0.08931731,  0.08547031,  0.07877988,  0.06523175,  0.06054844,\n",
       "         0.06088296,  0.05001101,  0.04081166,  0.03295039,  0.02809983,\n",
       "         0.02124213,  0.01689335,  0.01856596,  0.00886483,  0.00535235,\n",
       "         0.0068577 ,  0.00367974,  0.00217439,  0.00167261,  0.00133809,\n",
       "         0.00183987,  0.00066904,  0.00050178,  0.0008363 ,  0.00033452]),\n",
       " array([-34.3039797 , -33.7061113 , -33.10824289, -32.51037448,\n",
       "        -31.91250607, -31.31463766, -30.71676926, -30.11890085,\n",
       "        -29.52103244, -28.92316403, -28.32529563, -27.72742722,\n",
       "        -27.12955881, -26.5316904 , -25.93382199, -25.33595359,\n",
       "        -24.73808518, -24.14021677, -23.54234836, -22.94447996,\n",
       "        -22.34661155, -21.74874314, -21.15087473, -20.55300632,\n",
       "        -19.95513792, -19.35726951, -18.7594011 , -18.16153269,\n",
       "        -17.56366429, -16.96579588, -16.36792747, -15.77005906,\n",
       "        -15.17219065, -14.57432225, -13.97645384, -13.37858543,\n",
       "        -12.78071702, -12.18284861, -11.58498021, -10.9871118 ,\n",
       "        -10.38924339,  -9.79137498,  -9.19350658,  -8.59563817,\n",
       "         -7.99776976,  -7.39990135,  -6.80203294,  -6.20416454,\n",
       "         -5.60629613,  -5.00842772,  -4.41055931]),\n",
       " <a list of 50 Patch objects>)"
      ]
     },
     "execution_count": 62,
     "metadata": {},
     "output_type": "execute_result"
    },
    {
     "data": {
      "image/png": "[encoded data removed]",
      "text/plain": [
       "<matplotlib.figure.Figure at 0x2c1564d4b70>"
      ]
     },
     "metadata": {},
     "output_type": "display_data"
    }
   ],
   "source": [
    "n = 300\n",
    "zlista300 = []\n",
    "tlista300 = []\n",
    "\n",
    "for i in medias300:\n",
    "    z300 = (i-media)/(dp/n**0.5)\n",
    "    zlista300.append(z300)\n",
    "    \n",
    "for j in range(10000):\n",
    "    t300 = (medias20[j]-media)/(dp300[j]/n**0.5)\n",
    "    tlista300.append(t300)\n",
    "    \n",
    "fig = plt.figure(figsize=(15, 6))\n",
    "plt.subplot(121)\n",
    "plt.hist(zlista300, bins = 50, normed=1, color=\"blue\")\n",
    "plt.subplot(122)\n",
    "plt.hist(tlista300, bins = 50, normed=1, color=\"red\")"
   ]
  },
  {
   "cell_type": "code",
   "execution_count": null,
   "metadata": {
    "collapsed": true
   },
   "outputs": [],
   "source": []
  }
 ],
 "metadata": {
  "anaconda-cloud": {},
  "kernelspec": {
   "display_name": "Python 3",
   "language": "python",
   "name": "python3"
  },
  "language_info": {
   "codemirror_mode": {
    "name": "ipython",
    "version": 3
   },
   "file_extension": ".py",
   "mimetype": "text/x-python",
   "name": "python",
   "nbconvert_exporter": "python",
   "pygments_lexer": "ipython3",
   "version": "3.5.2"
  }
 },
 "nbformat": 4,
 "nbformat_minor": 0
}
