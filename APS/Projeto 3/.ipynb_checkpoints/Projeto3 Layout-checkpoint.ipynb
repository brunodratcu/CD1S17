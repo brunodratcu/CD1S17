{
 "cells": [
  {
   "cell_type": "markdown",
   "metadata": {},
   "source": [
    "___\n",
    "# PROJETO 3"
   ]
  },
  {
   "cell_type": "markdown",
   "metadata": {},
   "source": [
    "## GRUPO:\n",
    "### Bruno Dratcu\n",
    "___"
   ]
  },
  {
   "cell_type": "code",
   "execution_count": 1,
   "metadata": {
    "collapsed": false
   },
   "outputs": [
    {
     "name": "stdout",
     "output_type": "stream",
     "text": [
      "Esperamos trabalhar no diretório\n",
      "C:\\Users\\Bruno Dratcu\\Desktop\\2o DP\\CD\\CD1S17\\APS\\Projeto 3\n"
     ]
    }
   ],
   "source": [
    "%matplotlib inline\n",
    "import pandas as pd\n",
    "import matplotlib.pyplot as plt\n",
    "import numpy as np\n",
    "import os\n",
    "from scipy import stats\n",
    "\n",
    "print('Esperamos trabalhar no diretório')\n",
    "print(os.getcwd())"
   ]
  },
  {
   "cell_type": "code",
   "execution_count": 2,
   "metadata": {
    "collapsed": false
   },
   "outputs": [
    {
     "name": "stdout",
     "output_type": "stream",
     "text": [
      "Media: 2.99295447078\n",
      "Var: 3.02233285701\n",
      "DP: 1.73848579431\n"
     ]
    }
   ],
   "source": [
    "populacao = []\n",
    "\n",
    "gamma = stats.gamma.rvs(a=3, loc=0, scale=1, size=10000)\n",
    "\n",
    "populacao.append(gamma)\n",
    "\n",
    "media = np.mean(gamma)\n",
    "var = np.var(gamma)\n",
    "dp = var**0.5\n",
    "\n",
    "print(\"Media:\", media)\n",
    "print(\"Var:\", var)\n",
    "print(\"DP:\", dp)"
   ]
  },
  {
   "cell_type": "code",
   "execution_count": 3,
   "metadata": {
    "collapsed": false
   },
   "outputs": [
    {
     "data": {
      "text/plain": [
       "(array([  6.21266478e-02,   1.89417921e-01,   2.70228133e-01,\n",
       "          2.65519268e-01,   2.17215419e-01,   1.57822951e-01,\n",
       "          1.22734307e-01,   8.18735041e-02,   5.89367711e-02,\n",
       "          3.22025656e-02,   2.53671154e-02,   1.51898894e-02,\n",
       "          7.89874251e-03,   5.46836020e-03,   3.34177568e-03,\n",
       "          1.82278673e-03,   4.55696683e-04,   7.59494472e-04,\n",
       "          1.51898894e-04,   4.55696683e-04]),\n",
       " array([  0.08599499,   0.74432763,   1.40266026,   2.0609929 ,\n",
       "          2.71932554,   3.37765818,   4.03599082,   4.69432346,\n",
       "          5.3526561 ,   6.01098873,   6.66932137,   7.32765401,\n",
       "          7.98598665,   8.64431929,   9.30265193,   9.96098456,\n",
       "         10.6193172 ,  11.27764984,  11.93598248,  12.59431512,  13.25264776]),\n",
       " <a list of 20 Patch objects>)"
      ]
     },
     "execution_count": 3,
     "metadata": {},
     "output_type": "execute_result"
    },
    {
     "data": {
      "image/png": "[encoded data removed]",
      "text/plain": [
       "<matplotlib.figure.Figure at 0x1ff421ed1d0>"
      ]
     },
     "metadata": {},
     "output_type": "display_data"
    }
   ],
   "source": [
    "x = np.linspace(0,10,10000)\n",
    "y = stats.gamma.pdf(x, gamma)\n",
    "\n",
    "plt.hist(gamma, bins=20, normed=True)"
   ]
  },
  {
   "cell_type": "code",
   "execution_count": 4,
   "metadata": {
    "collapsed": false
   },
   "outputs": [
    {
     "name": "stdout",
     "output_type": "stream",
     "text": [
      "Media de n=2: 2.01677211167\n",
      "Variancia de n=2: 0.0907784417972\n",
      "Media de n=4: 1.76040980285\n",
      "Variancia de n=4: 0.791569440722\n",
      "Media de n=20: 3.12561179153\n",
      "Variancia de n=20: 3.05655965935\n",
      "Media de n=50: 2.91691089283\n",
      "Variancia de n=50: 3.42789039848\n"
     ]
    }
   ],
   "source": [
    "for i in [2]:\n",
    "    x = np.random.choice(gamma, i)\n",
    "    media2 = np.mean(x)\n",
    "    var2 = np.var(x)\n",
    "    \n",
    "    print(\"Media de n=2:\", media2)\n",
    "    print(\"Variancia de n=2:\", var2)\n",
    "    \n",
    "    \n",
    "for i in [4]:\n",
    "    x = np.random.choice(gamma, i)\n",
    "    media4 = np.mean(x)\n",
    "    var4 = np.var(x)\n",
    "    \n",
    "    print(\"Media de n=4:\", media4)\n",
    "    print(\"Variancia de n=4:\", var4)\n",
    "    \n",
    "    \n",
    "for i in [20]:\n",
    "    x = np.random.choice(gamma, i)\n",
    "    media20 = np.mean(x)\n",
    "    var20 = np.var(x)\n",
    "    \n",
    "    print(\"Media de n=20:\", media20)\n",
    "    print(\"Variancia de n=20:\", var20)\n",
    "    \n",
    "    \n",
    "for i in [50]:\n",
    "    x = np.random.choice(gamma, i)\n",
    "    media50 = np.mean(x)\n",
    "    var50 = np.var(x)\n",
    "    \n",
    "    print(\"Media de n=50:\", media50)\n",
    "    print(\"Variancia de n=50:\", var50)"
   ]
  },
  {
   "cell_type": "code",
   "execution_count": 5,
   "metadata": {
    "collapsed": false
   },
   "outputs": [
    {
     "data": {
      "text/plain": [
       "(array([   1.,    0.,    0.,    1.,    3.,    8.,    5.,   10.,   34.,\n",
       "          48.,   75.,  103.,  145.,  191.,  254.,  329.,  388.,  440.,\n",
       "         549.,  626.,  607.,  620.,  667.,  655.,  597.,  591.,  548.,\n",
       "         442.,  405.,  343.,  294.,  241.,  182.,  153.,  124.,   93.,\n",
       "          73.,   55.,   40.,   16.,   18.,    9.,    5.,    4.,    1.,\n",
       "           5.,    1.,    0.,    0.,    1.]),\n",
       " array([ 2.06089416,  2.101312  ,  2.14172983,  2.18214766,  2.22256549,\n",
       "         2.26298332,  2.30340115,  2.34381898,  2.38423682,  2.42465465,\n",
       "         2.46507248,  2.50549031,  2.54590814,  2.58632597,  2.6267438 ,\n",
       "         2.66716163,  2.70757947,  2.7479973 ,  2.78841513,  2.82883296,\n",
       "         2.86925079,  2.90966862,  2.95008645,  2.99050429,  3.03092212,\n",
       "         3.07133995,  3.11175778,  3.15217561,  3.19259344,  3.23301127,\n",
       "         3.2734291 ,  3.31384694,  3.35426477,  3.3946826 ,  3.43510043,\n",
       "         3.47551826,  3.51593609,  3.55635392,  3.59677176,  3.63718959,\n",
       "         3.67760742,  3.71802525,  3.75844308,  3.79886091,  3.83927874,\n",
       "         3.87969657,  3.92011441,  3.96053224,  4.00095007,  4.0413679 ,\n",
       "         4.08178573]),\n",
       " <a list of 50 Patch objects>)"
      ]
     },
     "execution_count": 5,
     "metadata": {},
     "output_type": "execute_result"
    },
    {
     "data": {
      "image/png": "[encoded data removed]",
      "text/plain": [
       "<matplotlib.figure.Figure at 0x1ff457fc588>"
      ]
     },
     "metadata": {},
     "output_type": "display_data"
    }
   ],
   "source": [
    "medias = []\n",
    "medias4 = []\n",
    "medias20 = []\n",
    "medias50 = []\n",
    "\n",
    "\n",
    "for i in range(10000):\n",
    "    x = np.random.choice(gamma, 2)\n",
    "    medias.append(np.mean(x))\n",
    "    \n",
    "for i in range(10000):\n",
    "    x4 = np.random.choice(gamma, 4)\n",
    "    medias4.append(np.mean(x4))\n",
    "    \n",
    "for i in range(10000):\n",
    "    x20 = np.random.choice(gamma, 20)\n",
    "    medias20.append(np.mean(x20))\n",
    "    \n",
    "for i in range(10000):\n",
    "    x50 = np.random.choice(gamma, 50)\n",
    "    medias50.append(np.mean(x50))\n",
    "    \n",
    "fig = plt.figure(figsize=(10, 10))\n",
    "plt.subplot(221)\n",
    "plt.hist(medias, bins=50, color=\"red\")\n",
    "plt.subplot(222)\n",
    "plt.hist(medias4, bins=50, color=\"yellow\")\n",
    "plt.subplot(223)\n",
    "plt.hist(medias20, bins=50, color=\"green\")\n",
    "plt.subplot(224)\n",
    "plt.hist(medias50, bins=50, color=\"black\")"
   ]
  },
  {
   "cell_type": "markdown",
   "metadata": {},
   "source": [
    "___\n",
    "## Estudo da Distribuição da Média Amostral  $\\bar{X}$  via SIMULAÇÃO"
   ]
  },
  {
   "cell_type": "code",
   "execution_count": 6,
   "metadata": {
    "collapsed": false
   },
   "outputs": [
    {
     "name": "stdout",
     "output_type": "stream",
     "text": [
      "Media: 2.9942185269\n",
      "Variancia: 0.0589404592018\n"
     ]
    },
    {
     "data": {
      "image/png": "[encoded data removed]",
      "text/plain": [
       "<matplotlib.figure.Figure at 0x1ff45d2d3c8>"
      ]
     },
     "metadata": {},
     "output_type": "display_data"
    },
    {
     "name": "stdout",
     "output_type": "stream",
     "text": [
      "Correlação entre os valores de x3 e x15 é: [[ 1.00683909  0.01609441]\n",
      " [ 0.01609441  0.99340602]]\n"
     ]
    }
   ],
   "source": [
    "media_valor = []\n",
    "\n",
    "x3 = []\n",
    "x15 = []\n",
    "\n",
    "for i in range (0, 10001):\n",
    "    aleatorio = np.random.choice(gamma, 50)\n",
    "    x3.append(aleatorio[2])\n",
    "    x15.append(aleatorio[15])\n",
    "    media_valor.append(np.mean(aleatorio))\n",
    " \n",
    "fig = plt.figure(figsize=(10,5)) \n",
    "plt.subplot(131)\n",
    "plt.hist(media_valor, bins=20, color=\"red\", normed=1)\n",
    "\n",
    "mediax = np.mean(media_valor)\n",
    "varx = np.var(media_valor)\n",
    "print(\"Media:\", mediax)\n",
    "print(\"Variancia:\", varx)\n",
    "\n",
    "plt.subplot(132)\n",
    "plt.hist(x3, bins=20, color=\"yellow\", normed=1)\n",
    "plt.subplot(133)\n",
    "plt.hist(x15, bins=20, color=\"green\", normed=1)\n",
    "\n",
    "plt.tight_layout()\n",
    "plt.show()\n",
    "\n",
    "dp3= np.std(x3)\n",
    "dp15= np.std(x15)\n",
    "cov = np.cov(x3,x15)\n",
    "print(\"Correlação entre os valores de x3 e x15 é:\", cov/(dp3*dp15))"
   ]
  },
  {
   "cell_type": "markdown",
   "metadata": {
    "collapsed": true
   },
   "source": [
    "___\n",
    "## Estudo da Distribuição de  $\\frac{\\bar{X}-\\mu}{\\sigma\\hspace{1mm}/\\sqrt{n}}$  e de $\\frac{\\bar{X}-\\mu}{S\\hspace{1mm}/\\sqrt{n}}$ via SIMULAÇÃO"
   ]
  },
  {
   "cell_type": "code",
   "execution_count": 58,
   "metadata": {
    "collapsed": false
   },
   "outputs": [
    {
     "name": "stdout",
     "output_type": "stream",
     "text": [
      "Media populacional: 5.01669302593\n",
      "Variancia populacional: 9.15499259741\n",
      "Desvio Padrão populacional: 3.0257218308\n"
     ]
    }
   ],
   "source": [
    "#MEDIA = 5 ; VAR=9\n",
    "\n",
    "distr = []\n",
    "\n",
    "norm = stats.norm.rvs(loc=5, scale=3, size=10000)\n",
    "\n",
    "distr.append(norm)\n",
    "\n",
    "media = np.mean(norm)\n",
    "var = np.var(norm)\n",
    "dp = var**0.5\n",
    "\n",
    "print(\"Media populacional:\", media)\n",
    "print(\"Variancia populacional:\", var)\n",
    "print(\"Desvio Padrão populacional:\", dp)"
   ]
  },
  {
   "cell_type": "code",
   "execution_count": 74,
   "metadata": {
    "collapsed": false
   },
   "outputs": [
    {
     "name": "stdout",
     "output_type": "stream",
     "text": [
      "Media de n=4: 2.92381819377\n",
      "Variancia de n=4: 2.46405150799\n",
      "Desvio Padrão de n=4: 1.56972975636\n"
     ]
    }
   ],
   "source": [
    "for i in [4]:\n",
    "    x = np.random.choice(gamma, i)\n",
    "    media4 = np.mean(x)\n",
    "    var4 = np.var(x)\n",
    "    dp4 = var4**0.5\n",
    "    \n",
    "    \n",
    "    print(\"Media de n=4:\", media4)\n",
    "    print(\"Variancia de n=4:\", var4)\n",
    "    print(\"Desvio Padrão de n=4:\", dp4)"
   ]
  },
  {
   "cell_type": "code",
   "execution_count": 75,
   "metadata": {
    "collapsed": false
   },
   "outputs": [
    {
     "name": "stdout",
     "output_type": "stream",
     "text": [
      "[-5.29029175 -5.00927035 -0.45095768 ..., -3.49178614  2.59301854\n",
      " -1.59596915]\n"
     ]
    }
   ],
   "source": [
    "for i in distr:\n",
    "    n = 4\n",
    "    z = (i-media)/(dp4/n**0.5)"
   ]
  },
  {
   "cell_type": "code",
   "execution_count": null,
   "metadata": {
    "collapsed": true
   },
   "outputs": [],
   "source": [
    "media_valor = []\n",
    "\n",
    "x1 = []\n",
    "xn = []\n",
    "\n",
    "for i in range (0, 10001):\n",
    "    aleatorio = np.random.choice(norm, 4)\n",
    "    x1.append(aleatorio[0])\n",
    "    xn.append(aleatorio[])\n",
    "    media_valor.append(np.mean(aleatorio))"
   ]
  },
  {
   "cell_type": "code",
   "execution_count": null,
   "metadata": {
    "collapsed": true
   },
   "outputs": [],
   "source": []
  }
 ],
 "metadata": {
  "anaconda-cloud": {},
  "kernelspec": {
   "display_name": "Python 3",
   "language": "python",
   "name": "python3"
  },
  "language_info": {
   "codemirror_mode": {
    "name": "ipython",
    "version": 3
   },
   "file_extension": ".py",
   "mimetype": "text/x-python",
   "name": "python",
   "nbconvert_exporter": "python",
   "pygments_lexer": "ipython3",
   "version": "3.5.2"
  }
 },
 "nbformat": 4,
 "nbformat_minor": 0
}
