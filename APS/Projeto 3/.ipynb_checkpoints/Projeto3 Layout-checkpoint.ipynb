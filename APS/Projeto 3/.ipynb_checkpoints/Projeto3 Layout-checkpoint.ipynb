{
 "cells": [
  {
   "cell_type": "markdown",
   "metadata": {},
   "source": [
    "___\n",
    "# PROJETO 3"
   ]
  },
  {
   "cell_type": "markdown",
   "metadata": {},
   "source": [
    "## GRUPO:\n",
    "### NOME 1\n",
    "### NOME 2\n",
    "___"
   ]
  },
  {
   "cell_type": "code",
   "execution_count": 1,
   "metadata": {
    "collapsed": false
   },
   "outputs": [
    {
     "name": "stdout",
     "output_type": "stream",
     "text": [
      "Esperamos trabalhar no diretório\n",
      "C:\\Users\\Bruno Dratcu\\Desktop\\2o DP\\CD\\CD1S17\\APS\\Projeto 3\n"
     ]
    }
   ],
   "source": [
    "%matplotlib inline\n",
    "import pandas as pd\n",
    "import matplotlib.pyplot as plt\n",
    "import numpy as np\n",
    "import os\n",
    "from scipy import stats\n",
    "\n",
    "print('Esperamos trabalhar no diretório')\n",
    "print(os.getcwd())"
   ]
  },
  {
   "cell_type": "code",
   "execution_count": 2,
   "metadata": {
    "collapsed": false
   },
   "outputs": [
    {
     "name": "stdout",
     "output_type": "stream",
     "text": [
      "Media: 3.00695305739\n",
      "Var: 3.02258190757\n",
      "DP: 1.73855742142\n"
     ]
    }
   ],
   "source": [
    "populacao = []\n",
    "\n",
    "gamma = stats.gamma.rvs(a=3, loc=0, scale=1, size=10000)\n",
    "\n",
    "populacao.append(gamma)\n",
    "\n",
    "media = np.mean(gamma)\n",
    "var = np.var(gamma)\n",
    "dp = var**0.5\n",
    "\n",
    "print(\"Media:\", media)\n",
    "print(\"Var:\", var)\n",
    "print(\"DP:\", dp)"
   ]
  },
  {
   "cell_type": "code",
   "execution_count": 3,
   "metadata": {
    "collapsed": false
   },
   "outputs": [
    {
     "data": {
      "text/plain": [
       "(array([  6.96634464e-02,   2.12115428e-01,   2.71882759e-01,\n",
       "          2.39069323e-01,   1.80864536e-01,   1.26045264e-01,\n",
       "          8.04710465e-02,   4.97410028e-02,   3.11206798e-02,\n",
       "          1.83598990e-02,   1.04169639e-02,   5.98975427e-03,\n",
       "          4.03657353e-03,   1.43233254e-03,   3.90636148e-04,\n",
       "          1.30212049e-04,   1.30212049e-04,   0.00000000e+00,\n",
       "          1.30212049e-04,   1.30212049e-04]),\n",
       " array([  0.07255688,   0.84053496,   1.60851304,   2.37649113,\n",
       "          3.14446921,   3.91244729,   4.68042538,   5.44840346,\n",
       "          6.21638154,   6.98435962,   7.75233771,   8.52031579,\n",
       "          9.28829387,  10.05627196,  10.82425004,  11.59222812,\n",
       "         12.36020621,  13.12818429,  13.89616237,  14.66414045,  15.43211854]),\n",
       " <a list of 20 Patch objects>)"
      ]
     },
     "execution_count": 3,
     "metadata": {},
     "output_type": "execute_result"
    },
    {
     "data": {
      "image/png": "[encoded data removed]",
      "text/plain": [
       "<matplotlib.figure.Figure at 0x22ce60b01d0>"
      ]
     },
     "metadata": {},
     "output_type": "display_data"
    }
   ],
   "source": [
    "x = np.linspace(0,10,10000)\n",
    "y = stats.gamma.pdf(x, gamma)\n",
    "\n",
    "plt.hist(gamma, bins=20, normed=True)"
   ]
  },
  {
   "cell_type": "code",
   "execution_count": 10,
   "metadata": {
    "collapsed": false
   },
   "outputs": [
    {
     "name": "stdout",
     "output_type": "stream",
     "text": [
      "Media de n=2: 2.0679559245\n",
      "Variancia de n=2: 1.03003405856\n",
      "Media de n=4: 2.91880649038\n",
      "Variancia de n=4: 1.6803968182\n",
      "Media de n=20: 3.12622736988\n",
      "Variancia de n=20: 4.94015949155\n",
      "Media de n=50: 3.16746815127\n",
      "Variancia de n=50: 2.99821946833\n"
     ]
    }
   ],
   "source": [
    "for i in [2]:\n",
    "    x = np.random.choice(gamma, i)\n",
    "    media2 = np.mean(x)\n",
    "    var2 = np.var(x)\n",
    "    \n",
    "    print(\"Media de n=2:\", media2)\n",
    "    print(\"Variancia de n=2:\", var2)\n",
    "    \n",
    "    \n",
    "for i in [4]:\n",
    "    x = np.random.choice(gamma, i)\n",
    "    media4 = np.mean(x)\n",
    "    var4 = np.var(x)\n",
    "    \n",
    "    print(\"Media de n=4:\", media4)\n",
    "    print(\"Variancia de n=4:\", var4)\n",
    "    \n",
    "    \n",
    "for i in [20]:\n",
    "    x = np.random.choice(gamma, i)\n",
    "    media20 = np.mean(x)\n",
    "    var20 = np.var(x)\n",
    "    \n",
    "    print(\"Media de n=20:\", media20)\n",
    "    print(\"Variancia de n=20:\", var20)\n",
    "    \n",
    "    \n",
    "for i in [50]:\n",
    "    x = np.random.choice(gamma, i)\n",
    "    media50 = np.mean(x)\n",
    "    var50 = np.var(x)\n",
    "    \n",
    "    print(\"Media de n=50:\", media50)\n",
    "    print(\"Variancia de n=50:\", var50)"
   ]
  },
  {
   "cell_type": "code",
   "execution_count": 23,
   "metadata": {
    "collapsed": false
   },
   "outputs": [
    {
     "data": {
      "text/plain": [
       "(array([   1.,    0.,    1.,    0.,    1.,    2.,    6.,   11.,   13.,\n",
       "          31.,   44.,   67.,   90.,  140.,  203.,  275.,  283.,  409.,\n",
       "         486.,  518.,  568.,  656.,  647.,  676.,  649.,  613.,  586.,\n",
       "         555.,  453.,  418.,  355.,  276.,  231.,  176.,  148.,  125.,\n",
       "          84.,   56.,   36.,   43.,   23.,   13.,   12.,    5.,    9.,\n",
       "           1.,    2.,    1.,    0.,    2.]),\n",
       " array([ 2.02476016,  2.0656111 ,  2.10646203,  2.14731297,  2.18816391,\n",
       "         2.22901485,  2.26986579,  2.31071673,  2.35156767,  2.39241861,\n",
       "         2.43326955,  2.47412049,  2.51497142,  2.55582236,  2.5966733 ,\n",
       "         2.63752424,  2.67837518,  2.71922612,  2.76007706,  2.800928  ,\n",
       "         2.84177894,  2.88262988,  2.92348081,  2.96433175,  3.00518269,\n",
       "         3.04603363,  3.08688457,  3.12773551,  3.16858645,  3.20943739,\n",
       "         3.25028833,  3.29113926,  3.3319902 ,  3.37284114,  3.41369208,\n",
       "         3.45454302,  3.49539396,  3.5362449 ,  3.57709584,  3.61794678,\n",
       "         3.65879772,  3.69964865,  3.74049959,  3.78135053,  3.82220147,\n",
       "         3.86305241,  3.90390335,  3.94475429,  3.98560523,  4.02645617,\n",
       "         4.06730711]),\n",
       " <a list of 50 Patch objects>)"
      ]
     },
     "execution_count": 23,
     "metadata": {},
     "output_type": "execute_result"
    },
    {
     "data": {
      "image/png": "[encoded data removed]",
      "text/plain": [
       "<matplotlib.figure.Figure at 0x22ced6b5da0>"
      ]
     },
     "metadata": {},
     "output_type": "display_data"
    }
   ],
   "source": [
    "medias = []\n",
    "medias4 = []\n",
    "medias20 = []\n",
    "medias50 = []\n",
    "\n",
    "\n",
    "for i in range(10000):\n",
    "    x = np.random.choice(gamma, 2)\n",
    "    medias.append(np.mean(x))\n",
    "    \n",
    "for i in range(10000):\n",
    "    x4 = np.random.choice(gamma, 4)\n",
    "    medias4.append(np.mean(x4))\n",
    "    \n",
    "for i in range(10000):\n",
    "    x20 = np.random.choice(gamma, 20)\n",
    "    medias20.append(np.mean(x20))\n",
    "    \n",
    "for i in range(10000):\n",
    "    x50 = np.random.choice(gamma, 50)\n",
    "    medias50.append(np.mean(x50))\n",
    "    \n",
    "fig = plt.figure(figsize=(10, 10))\n",
    "plt.subplot(221)\n",
    "plt.hist(medias, bins=50, color=\"red\")\n",
    "plt.subplot(222)\n",
    "plt.hist(medias4, bins=50, color=\"yellow\")\n",
    "plt.subplot(223)\n",
    "plt.hist(medias20, bins=50, color=\"green\")\n",
    "plt.subplot(224)\n",
    "plt.hist(medias50, bins=50, color=\"black\")"
   ]
  },
  {
   "cell_type": "code",
   "execution_count": 49,
   "metadata": {
    "collapsed": false
   },
   "outputs": [
    {
     "name": "stdout",
     "output_type": "stream",
     "text": [
      "Media: 3.00977031811\n",
      "Variancia: 0.0606494234003\n"
     ]
    },
    {
     "data": {
      "image/png": "[encoded data removed]",
      "text/plain": [
       "<matplotlib.figure.Figure at 0x22cef7a9cf8>"
      ]
     },
     "metadata": {},
     "output_type": "display_data"
    },
    {
     "name": "stdout",
     "output_type": "stream",
     "text": [
      "Correlação entre os valores de x3 e x15 é: [[ 0.95851633  0.00302515]\n",
      " [ 0.00302515  1.04348771]]\n"
     ]
    }
   ],
   "source": [
    "media_valor = []\n",
    "\n",
    "x3 = []\n",
    "x15 = []\n",
    "\n",
    "for i in range (0, 10001):\n",
    "    aleatorio = np.random.choice(gamma, 50)\n",
    "    x3.append(aleatorio[2])\n",
    "    x15.append(aleatorio[15])\n",
    "    media_valor.append(np.mean(aleatorio))\n",
    " \n",
    "fig = plt.figure(figsize=(10,5)) \n",
    "plt.subplot(131)\n",
    "plt.hist(media_valor, bins=20, color=\"red\", normed=1)\n",
    "\n",
    "mediax = np.mean(media_valor)\n",
    "varx = np.var(media_valor)\n",
    "print(\"Media:\", mediax)\n",
    "print(\"Variancia:\", varx)\n",
    "\n",
    "plt.subplot(132)\n",
    "plt.hist(x3, bins=20, color=\"yellow\", normed=1)\n",
    "plt.subplot(133)\n",
    "plt.hist(x15, bins=20, color=\"green\", normed=1)\n",
    "\n",
    "plt.tight_layout()\n",
    "plt.show()\n",
    "\n",
    "dp3= np.std(x3)\n",
    "dp15= np.std(x15)\n",
    "cov = np.cov(x3,x15)\n",
    "print(\"Correlação entre os valores de x3 e x15 é:\", cov/(dp3*dp15))"
   ]
  },
  {
   "cell_type": "code",
   "execution_count": null,
   "metadata": {
    "collapsed": true
   },
   "outputs": [],
   "source": []
  },
  {
   "cell_type": "markdown",
   "metadata": {},
   "source": [
    "___\n",
    "## Estudo da Distribuição da Média Amostral  $\\bar{X}$  via SIMULAÇÃO"
   ]
  },
  {
   "cell_type": "code",
   "execution_count": null,
   "metadata": {
    "collapsed": true
   },
   "outputs": [],
   "source": []
  },
  {
   "cell_type": "code",
   "execution_count": null,
   "metadata": {
    "collapsed": true
   },
   "outputs": [],
   "source": []
  },
  {
   "cell_type": "code",
   "execution_count": null,
   "metadata": {
    "collapsed": true
   },
   "outputs": [],
   "source": []
  },
  {
   "cell_type": "markdown",
   "metadata": {
    "collapsed": true
   },
   "source": [
    "___\n",
    "## Estudo da Distribuição de  $\\frac{\\bar{X}-\\mu}{\\sigma\\hspace{1mm}/\\sqrt{n}}$  e de $\\frac{\\bar{X}-\\mu}{S\\hspace{1mm}/\\sqrt{n}}$ via SIMULAÇÃO"
   ]
  },
  {
   "cell_type": "code",
   "execution_count": null,
   "metadata": {
    "collapsed": true
   },
   "outputs": [],
   "source": []
  },
  {
   "cell_type": "code",
   "execution_count": null,
   "metadata": {
    "collapsed": true
   },
   "outputs": [],
   "source": []
  },
  {
   "cell_type": "code",
   "execution_count": null,
   "metadata": {
    "collapsed": true
   },
   "outputs": [],
   "source": []
  },
  {
   "cell_type": "code",
   "execution_count": null,
   "metadata": {
    "collapsed": true
   },
   "outputs": [],
   "source": []
  }
 ],
 "metadata": {
  "anaconda-cloud": {},
  "kernelspec": {
   "display_name": "Python 3",
   "language": "python",
   "name": "python3"
  },
  "language_info": {
   "codemirror_mode": {
    "name": "ipython",
    "version": 3
   },
   "file_extension": ".py",
   "mimetype": "text/x-python",
   "name": "python",
   "nbconvert_exporter": "python",
   "pygments_lexer": "ipython3",
   "version": "3.5.2"
  }
 },
 "nbformat": 4,
 "nbformat_minor": 0
}
