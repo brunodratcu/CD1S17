{
 "cells": [
  {
   "cell_type": "markdown",
   "metadata": {},
   "source": [
    "___\n",
    "# PROJETO 1"
   ]
  },
  {
   "cell_type": "markdown",
   "metadata": {},
   "source": [
    "## Bruno Dratcu\n",
    "___"
   ]
  },
  {
   "cell_type": "markdown",
   "metadata": {},
   "source": [
    "## TÍTULO DO SEU PROJETO"
   ]
  },
  {
   "cell_type": "markdown",
   "metadata": {},
   "source": [
    "___\n",
    "## Introdução\n",
    "\n",
    "Descreva aqui o que pretende analisar!\n",
    "\n",
    "Capriche no português!! \n",
    "Se quiser pode utilizar pesquisas semelhantes publicadas em sites confiáveis!!\n"
   ]
  },
  {
   "cell_type": "markdown",
   "metadata": {
    "collapsed": false
   },
   "source": [
    "UF = unidade de federação \n",
    "\n",
    "V0202 = tipo do domicilio (2 = casa, 4 = apartamento, 6 = comodo)\n",
    "V0205 = numero de comodos do domicilio\n",
    "V4620 = numero de componentes do domicilio\n",
    "\n",
    "V0207 = condição de ocupação do domicilio (1=proprio-ja pago, 2=proprio-ainda pagando, 3=alugado, 4=cedido por empregador, 5=cedido de outra forma, 6=outra condição)\n",
    "V4621 = rendimento mensal domiciliar per capita\n",
    "\n",
    "V02322 = tem acesso a internet no proprio domicilio (2 = sim, 4 = nao)\n",
    "\n",
    "V0215 = tem banheiro no domicilio (1=sim, 3=nao)\n",
    "V2016 = numero de banheiros \n",
    "V0217 = forma de escoadouro do banheiro\n",
    "V0212 = proveniencia da agua canalizada (2=rede de distribuição, 4=poço ou nascente, 6=outros)\n",
    "\n",
    "\n",
    "\n"
   ]
  },
  {
   "cell_type": "markdown",
   "metadata": {},
   "source": [
    "___\n",
    "## Análise e Resultados"
   ]
  },
  {
   "cell_type": "code",
   "execution_count": 1,
   "metadata": {
    "collapsed": true
   },
   "outputs": [],
   "source": [
    "%matplotlib inline\n",
    "import pandas as pd\n",
    "import matplotlib.pyplot as plt\n",
    "import numpy as np\n",
    "import os"
   ]
  },
  {
   "cell_type": "code",
   "execution_count": 46,
   "metadata": {
    "collapsed": false
   },
   "outputs": [
    {
     "name": "stdout",
     "output_type": "stream",
     "text": [
      "Esperamos trabalhar no diretório\n",
      "C:\\Users\\Bruno Dratcu\\Desktop\\2o DP\\CD\\CD1S17\\Projeto1\n"
     ]
    }
   ],
   "source": [
    "print('Esperamos trabalhar no diretório')\n",
    "print(os.getcwd())"
   ]
  },
  {
   "cell_type": "code",
   "execution_count": 47,
   "metadata": {
    "collapsed": false
   },
   "outputs": [],
   "source": [
    "dados2015=pd.read_csv('DOM2015.csv',sep=',')"
   ]
  },
  {
   "cell_type": "code",
   "execution_count": 48,
   "metadata": {
    "collapsed": false
   },
   "outputs": [],
   "source": [
    "dados2011=pd.read_csv('DOM2011.csv',sep=',')"
   ]
  },
  {
   "cell_type": "code",
   "execution_count": 49,
   "metadata": {
    "collapsed": false,
    "scrolled": true
   },
   "outputs": [
    {
     "data": {
      "text/html": [
       "<div>\n",
       "<table border=\"1\" class=\"dataframe\">\n",
       "  <thead>\n",
       "    <tr style=\"text-align: right;\">\n",
       "      <th></th>\n",
       "      <th>Unnamed: 0</th>\n",
       "      <th>V0101</th>\n",
       "      <th>UF</th>\n",
       "      <th>V0102</th>\n",
       "      <th>V0103</th>\n",
       "      <th>V0104</th>\n",
       "      <th>V0105</th>\n",
       "      <th>V0106</th>\n",
       "      <th>V0201</th>\n",
       "      <th>V0202</th>\n",
       "      <th>...</th>\n",
       "      <th>V4611</th>\n",
       "      <th>V4614</th>\n",
       "      <th>UPA</th>\n",
       "      <th>V4617</th>\n",
       "      <th>V4618</th>\n",
       "      <th>V4620</th>\n",
       "      <th>V4621</th>\n",
       "      <th>V4622</th>\n",
       "      <th>V4624</th>\n",
       "      <th>V9992</th>\n",
       "    </tr>\n",
       "  </thead>\n",
       "  <tbody>\n",
       "    <tr>\n",
       "      <th>0</th>\n",
       "      <td>0</td>\n",
       "      <td>2015</td>\n",
       "      <td>11</td>\n",
       "      <td>15</td>\n",
       "      <td>1</td>\n",
       "      <td>1</td>\n",
       "      <td>1.0</td>\n",
       "      <td>1.0</td>\n",
       "      <td>1.0</td>\n",
       "      <td>4.0</td>\n",
       "      <td>...</td>\n",
       "      <td>270.0</td>\n",
       "      <td>800.0</td>\n",
       "      <td>191</td>\n",
       "      <td>110001</td>\n",
       "      <td>1</td>\n",
       "      <td>1.0</td>\n",
       "      <td>800.0</td>\n",
       "      <td>4.0</td>\n",
       "      <td>1.0</td>\n",
       "      <td>20161104</td>\n",
       "    </tr>\n",
       "    <tr>\n",
       "      <th>1</th>\n",
       "      <td>1</td>\n",
       "      <td>2015</td>\n",
       "      <td>11</td>\n",
       "      <td>15</td>\n",
       "      <td>2</td>\n",
       "      <td>6</td>\n",
       "      <td>NaN</td>\n",
       "      <td>NaN</td>\n",
       "      <td>NaN</td>\n",
       "      <td>NaN</td>\n",
       "      <td>...</td>\n",
       "      <td>NaN</td>\n",
       "      <td>NaN</td>\n",
       "      <td>191</td>\n",
       "      <td>110001</td>\n",
       "      <td>1</td>\n",
       "      <td>NaN</td>\n",
       "      <td>NaN</td>\n",
       "      <td>NaN</td>\n",
       "      <td>NaN</td>\n",
       "      <td>20161104</td>\n",
       "    </tr>\n",
       "    <tr>\n",
       "      <th>2</th>\n",
       "      <td>2</td>\n",
       "      <td>2015</td>\n",
       "      <td>11</td>\n",
       "      <td>15</td>\n",
       "      <td>3</td>\n",
       "      <td>1</td>\n",
       "      <td>1.0</td>\n",
       "      <td>1.0</td>\n",
       "      <td>1.0</td>\n",
       "      <td>4.0</td>\n",
       "      <td>...</td>\n",
       "      <td>270.0</td>\n",
       "      <td>1150.0</td>\n",
       "      <td>191</td>\n",
       "      <td>110001</td>\n",
       "      <td>1</td>\n",
       "      <td>1.0</td>\n",
       "      <td>1150.0</td>\n",
       "      <td>4.0</td>\n",
       "      <td>1.0</td>\n",
       "      <td>20161104</td>\n",
       "    </tr>\n",
       "    <tr>\n",
       "      <th>3</th>\n",
       "      <td>3</td>\n",
       "      <td>2015</td>\n",
       "      <td>11</td>\n",
       "      <td>15</td>\n",
       "      <td>4</td>\n",
       "      <td>1</td>\n",
       "      <td>6.0</td>\n",
       "      <td>4.0</td>\n",
       "      <td>1.0</td>\n",
       "      <td>2.0</td>\n",
       "      <td>...</td>\n",
       "      <td>270.0</td>\n",
       "      <td>4760.0</td>\n",
       "      <td>191</td>\n",
       "      <td>110001</td>\n",
       "      <td>1</td>\n",
       "      <td>6.0</td>\n",
       "      <td>793.0</td>\n",
       "      <td>4.0</td>\n",
       "      <td>2.0</td>\n",
       "      <td>20161104</td>\n",
       "    </tr>\n",
       "    <tr>\n",
       "      <th>4</th>\n",
       "      <td>4</td>\n",
       "      <td>2015</td>\n",
       "      <td>11</td>\n",
       "      <td>15</td>\n",
       "      <td>5</td>\n",
       "      <td>1</td>\n",
       "      <td>2.0</td>\n",
       "      <td>2.0</td>\n",
       "      <td>1.0</td>\n",
       "      <td>2.0</td>\n",
       "      <td>...</td>\n",
       "      <td>271.0</td>\n",
       "      <td>5800.0</td>\n",
       "      <td>191</td>\n",
       "      <td>110001</td>\n",
       "      <td>1</td>\n",
       "      <td>2.0</td>\n",
       "      <td>2900.0</td>\n",
       "      <td>6.0</td>\n",
       "      <td>2.0</td>\n",
       "      <td>20161104</td>\n",
       "    </tr>\n",
       "  </tbody>\n",
       "</table>\n",
       "<p>5 rows × 81 columns</p>\n",
       "</div>"
      ],
      "text/plain": [
       "   Unnamed: 0  V0101  UF  V0102  V0103  V0104  V0105  V0106  V0201  V0202  \\\n",
       "0           0   2015  11     15      1      1    1.0    1.0    1.0    4.0   \n",
       "1           1   2015  11     15      2      6    NaN    NaN    NaN    NaN   \n",
       "2           2   2015  11     15      3      1    1.0    1.0    1.0    4.0   \n",
       "3           3   2015  11     15      4      1    6.0    4.0    1.0    2.0   \n",
       "4           4   2015  11     15      5      1    2.0    2.0    1.0    2.0   \n",
       "\n",
       "     ...     V4611   V4614  UPA     V4617  V4618  V4620   V4621  V4622  V4624  \\\n",
       "0    ...     270.0   800.0    191  110001      1    1.0   800.0    4.0    1.0   \n",
       "1    ...       NaN     NaN    191  110001      1    NaN     NaN    NaN    NaN   \n",
       "2    ...     270.0  1150.0    191  110001      1    1.0  1150.0    4.0    1.0   \n",
       "3    ...     270.0  4760.0    191  110001      1    6.0   793.0    4.0    2.0   \n",
       "4    ...     271.0  5800.0    191  110001      1    2.0  2900.0    6.0    2.0   \n",
       "\n",
       "      V9992  \n",
       "0  20161104  \n",
       "1  20161104  \n",
       "2  20161104  \n",
       "3  20161104  \n",
       "4  20161104  \n",
       "\n",
       "[5 rows x 81 columns]"
      ]
     },
     "execution_count": 49,
     "metadata": {},
     "output_type": "execute_result"
    }
   ],
   "source": [
    "dados2015.head()"
   ]
  },
  {
   "cell_type": "code",
   "execution_count": 50,
   "metadata": {
    "collapsed": false
   },
   "outputs": [
    {
     "data": {
      "text/html": [
       "<div>\n",
       "<table border=\"1\" class=\"dataframe\">\n",
       "  <thead>\n",
       "    <tr style=\"text-align: right;\">\n",
       "      <th></th>\n",
       "      <th>Unnamed: 0</th>\n",
       "      <th>V0101</th>\n",
       "      <th>UF</th>\n",
       "      <th>V0102</th>\n",
       "      <th>V0103</th>\n",
       "      <th>V0104</th>\n",
       "      <th>V0105</th>\n",
       "      <th>V0106</th>\n",
       "      <th>V0201</th>\n",
       "      <th>V0202</th>\n",
       "      <th>...</th>\n",
       "      <th>V4611</th>\n",
       "      <th>V4614</th>\n",
       "      <th>UPA</th>\n",
       "      <th>V4617</th>\n",
       "      <th>V4618</th>\n",
       "      <th>V4620</th>\n",
       "      <th>V4621</th>\n",
       "      <th>V4622</th>\n",
       "      <th>V4624</th>\n",
       "      <th>V9992</th>\n",
       "    </tr>\n",
       "  </thead>\n",
       "  <tbody>\n",
       "    <tr>\n",
       "      <th>0</th>\n",
       "      <td>0</td>\n",
       "      <td>2011</td>\n",
       "      <td>11</td>\n",
       "      <td>15</td>\n",
       "      <td>1</td>\n",
       "      <td>1</td>\n",
       "      <td>4.0</td>\n",
       "      <td>3.0</td>\n",
       "      <td>1.0</td>\n",
       "      <td>2.0</td>\n",
       "      <td>...</td>\n",
       "      <td>235.0</td>\n",
       "      <td>1.000000e+12</td>\n",
       "      <td>191</td>\n",
       "      <td>110001</td>\n",
       "      <td>1</td>\n",
       "      <td>4.0</td>\n",
       "      <td>1.000000e+12</td>\n",
       "      <td>99.0</td>\n",
       "      <td>2.0</td>\n",
       "      <td>20120918</td>\n",
       "    </tr>\n",
       "    <tr>\n",
       "      <th>1</th>\n",
       "      <td>1</td>\n",
       "      <td>2011</td>\n",
       "      <td>11</td>\n",
       "      <td>15</td>\n",
       "      <td>2</td>\n",
       "      <td>1</td>\n",
       "      <td>4.0</td>\n",
       "      <td>4.0</td>\n",
       "      <td>1.0</td>\n",
       "      <td>2.0</td>\n",
       "      <td>...</td>\n",
       "      <td>235.0</td>\n",
       "      <td>5.845000e+03</td>\n",
       "      <td>191</td>\n",
       "      <td>110001</td>\n",
       "      <td>1</td>\n",
       "      <td>4.0</td>\n",
       "      <td>1.461000e+03</td>\n",
       "      <td>5.0</td>\n",
       "      <td>1.0</td>\n",
       "      <td>20120918</td>\n",
       "    </tr>\n",
       "    <tr>\n",
       "      <th>2</th>\n",
       "      <td>2</td>\n",
       "      <td>2011</td>\n",
       "      <td>11</td>\n",
       "      <td>15</td>\n",
       "      <td>3</td>\n",
       "      <td>3</td>\n",
       "      <td>NaN</td>\n",
       "      <td>NaN</td>\n",
       "      <td>NaN</td>\n",
       "      <td>NaN</td>\n",
       "      <td>...</td>\n",
       "      <td>NaN</td>\n",
       "      <td>NaN</td>\n",
       "      <td>191</td>\n",
       "      <td>110001</td>\n",
       "      <td>1</td>\n",
       "      <td>NaN</td>\n",
       "      <td>NaN</td>\n",
       "      <td>NaN</td>\n",
       "      <td>NaN</td>\n",
       "      <td>20120918</td>\n",
       "    </tr>\n",
       "    <tr>\n",
       "      <th>3</th>\n",
       "      <td>3</td>\n",
       "      <td>2011</td>\n",
       "      <td>11</td>\n",
       "      <td>15</td>\n",
       "      <td>4</td>\n",
       "      <td>1</td>\n",
       "      <td>2.0</td>\n",
       "      <td>2.0</td>\n",
       "      <td>1.0</td>\n",
       "      <td>2.0</td>\n",
       "      <td>...</td>\n",
       "      <td>235.0</td>\n",
       "      <td>1.000000e+12</td>\n",
       "      <td>191</td>\n",
       "      <td>110001</td>\n",
       "      <td>1</td>\n",
       "      <td>2.0</td>\n",
       "      <td>1.000000e+12</td>\n",
       "      <td>99.0</td>\n",
       "      <td>1.0</td>\n",
       "      <td>20120918</td>\n",
       "    </tr>\n",
       "    <tr>\n",
       "      <th>4</th>\n",
       "      <td>4</td>\n",
       "      <td>2011</td>\n",
       "      <td>11</td>\n",
       "      <td>15</td>\n",
       "      <td>5</td>\n",
       "      <td>1</td>\n",
       "      <td>6.0</td>\n",
       "      <td>5.0</td>\n",
       "      <td>1.0</td>\n",
       "      <td>2.0</td>\n",
       "      <td>...</td>\n",
       "      <td>235.0</td>\n",
       "      <td>6.000000e+03</td>\n",
       "      <td>191</td>\n",
       "      <td>110001</td>\n",
       "      <td>1</td>\n",
       "      <td>6.0</td>\n",
       "      <td>1.000000e+03</td>\n",
       "      <td>4.0</td>\n",
       "      <td>2.0</td>\n",
       "      <td>20120918</td>\n",
       "    </tr>\n",
       "  </tbody>\n",
       "</table>\n",
       "<p>5 rows × 66 columns</p>\n",
       "</div>"
      ],
      "text/plain": [
       "   Unnamed: 0  V0101  UF     V0102  V0103  V0104  V0105  V0106  V0201  V0202  \\\n",
       "0           0   2011     11     15      1      1    4.0    3.0    1.0    2.0   \n",
       "1           1   2011     11     15      2      1    4.0    4.0    1.0    2.0   \n",
       "2           2   2011     11     15      3      3    NaN    NaN    NaN    NaN   \n",
       "3           3   2011     11     15      4      1    2.0    2.0    1.0    2.0   \n",
       "4           4   2011     11     15      5      1    6.0    5.0    1.0    2.0   \n",
       "\n",
       "     ...     V4611         V4614  UPA     V4617  V4618  V4620         V4621  \\\n",
       "0    ...     235.0  1.000000e+12    191  110001      1    4.0  1.000000e+12   \n",
       "1    ...     235.0  5.845000e+03    191  110001      1    4.0  1.461000e+03   \n",
       "2    ...       NaN           NaN    191  110001      1    NaN           NaN   \n",
       "3    ...     235.0  1.000000e+12    191  110001      1    2.0  1.000000e+12   \n",
       "4    ...     235.0  6.000000e+03    191  110001      1    6.0  1.000000e+03   \n",
       "\n",
       "   V4622  V4624     V9992  \n",
       "0   99.0    2.0  20120918  \n",
       "1    5.0    1.0  20120918  \n",
       "2    NaN    NaN  20120918  \n",
       "3   99.0    1.0  20120918  \n",
       "4    4.0    2.0  20120918  \n",
       "\n",
       "[5 rows x 66 columns]"
      ]
     },
     "execution_count": 50,
     "metadata": {},
     "output_type": "execute_result"
    }
   ],
   "source": [
    "dados2011.head()"
   ]
  },
  {
   "cell_type": "code",
   "execution_count": 148,
   "metadata": {
    "collapsed": false,
    "scrolled": false
   },
   "outputs": [],
   "source": [
    "dados = dados2015.loc[:,[\"UF\",\"V0202\", \"V0203\", \"V0204\", \"V0205\",\n",
    "                          \"V0207\",\"V4621\",\"V2015\",\n",
    "                          \"V0216\"]] #,\"V0217\",\"V0212\"]]"
   ]
  },
  {
   "cell_type": "code",
   "execution_count": 149,
   "metadata": {
    "collapsed": false
   },
   "outputs": [],
   "source": [
    "dados = pd.DataFrame()\n",
    "\n",
    "dados[\"Regiões\"] = dados2015.UF\n",
    "dados[\"Domicílio\"] = dados2015.V0202\n",
    "dados[\"Material predominante das paredes do domicílio\"] = dados2015.V0203\n",
    "dados[\"Material predominante na cobertura do domicílio\"] = dados2015.V0204\n",
    "dados[\"Quantidade de Cômodos\"] = dados2015.V0205\n",
    "dados[\"Condição de ocupação\"] = dados2015.V0207\n",
    "dados[\"Rendimento mensal\"] = dados2015.V4621\n",
    "dados[\"Banheiro/sanitário?\"] = dados2015.V0215\n",
    "dados[\"Quantidade de banheiros\"] = dados2015.V2016\n",
    "\n",
    "\n",
    "#dados[\"Forma de escoamento\"] = dados2015.V0217\n",
    "#dados[\"Proveniência da água canalizada\"] = dados2015.V0212\n",
    "\n",
    "#dados"
   ]
  },
  {
   "cell_type": "code",
   "execution_count": 150,
   "metadata": {
    "collapsed": false
   },
   "outputs": [],
   "source": [
    "dados[\"Regiões\"] = dados[\"Regiões\"].astype('category')\n",
    "dados[\"Regiões\"].cat.categories = ('Rondônia', 'Acre', 'Amazonas', 'Roraima', 'Pará',\n",
    "                                   'Amapá', 'Tocantins', 'Maranhão','Piauí', 'Ceará',\n",
    "                                   'Rio Grande do Norte','Paraíba', 'Pernambuco', 'Alagoas', \n",
    "                                   'Sergipe', 'Bahia', 'Minas Gerais', 'Espírito Santo', \n",
    "                                   'Rio de Janeiro', 'São Paulo', 'Paraná', 'Santa Catarina', \n",
    "                                   'Rio Grande do Sul','Mato Grosso do Sul', 'Mato Grosso', 'Goiás', \n",
    "                                   'Distrito Federal')\n",
    "\n",
    "dados[\"Domicílio\"] = dados[\"Domicílio\"].astype('category')\n",
    "dados[\"Domicílio\"].cat.categories = ('Casa', 'Apartamento', 'Cômodo')\n",
    "\n",
    "dados[\"Material predominante das paredes do domicílio\"] = dados[\"Material predominante das paredes do domicílio\"].astype('category')\n",
    "dados[\"Material predominante das paredes do domicílio\"].cat.categories = ('Alvenaria','Madeira aparelhada','Taipa não revestida',\n",
    "                                                                          'Madeira aproveitada','Palha','Outro material')\n",
    "\n",
    "dados[\"Material predominante na cobertura do domicílio\"] = dados[\"Material predominante na cobertura do domicílio\"].astype('category')\n",
    "dados[\"Material predominante na cobertura do domicílio\"].cat.categories = ('Telha','Laje de concreto','Madeira aparelhada',\n",
    "                                                                           'Zinco','Madeira aproveitada','Palha','Outro material')\n",
    "\n",
    "dados[\"Quantidade de Cômodos\"] = dados[\"Quantidade de Cômodos\"].astype('float')\n",
    "\n",
    "dados[\"Condição de ocupação\"] = dados[\"Condição de ocupação\"].astype('category')\n",
    "dados[\"Condição de ocupação\"].cat.categories = ('Próprio(pago)', 'Próprio(pagando)', 'Alugado',\n",
    "                                                'Cedido por empregador', 'Cedido de outra forma',\n",
    "                                                'Outras condições')\n",
    "\n",
    "dados[\"Rendimento mensal\"] = dados[\"Rendimento mensal\"].astype('float')\n",
    "\n",
    "dados[\"Banheiro/sanitário?\"] = dados[\"Banheiro/sanitário?\"].astype('category')\n",
    "dados[\"Banheiro/sanitário?\"].cat.categories = ('Sim','Não')\n",
    "\n",
    "dados[\"Quantidade de banheiros\"] = dados[\"Quantidade de banheiros\"].astype('float')\n",
    "\n",
    "#dados[\"Forma de escoamento\"] = dados[\"Forma de escoamento\"].astype('category')\n",
    "#dados[\"Forma de escoamento\"].cat.categories = ('Rede de esgoto', 'Fossa séptica ligada a rede coletora', \n",
    "#                                               'Fossa séptica não ligada a rede coletora', 'Fossa rudimentar', 'Vala', \n",
    "#                                               'Direto para rios/lagos/mar', 'Outra forma')\n",
    "\n",
    "#dados[\"Proveniência da água canalizada\"] = dados[\"Proveniência da água canalizada\"].astype('category')\n",
    "#dados[\"Proveniência da água canalizada\"].cat.categories = ('Rede geral de distribuição',\n",
    "#                                                           'Poço ou nascente', 'Outra proveniência')\n"
   ]
  },
  {
   "cell_type": "code",
   "execution_count": 178,
   "metadata": {
    "collapsed": false
   },
   "outputs": [],
   "source": [
    "#Filtrando renda\n",
    "dados[\"Rendimento mensal\"] = dados[\"Rendimento mensal\"][dados2015.V4621<=1000000]\n",
    "\n",
    "\n",
    "#Filtrando regiões\n",
    "dados[\"Regiões\"] = 'Regiões'\n",
    "dados.loc[(dados2015['UF']>=11) & (dados2015['UF']<=17), 'Regiões'] = 'Norte'\n",
    "dados.loc[(dados2015['UF']>=21) & (dados2015['UF']<=29), 'Regiões'] = 'Nordeste'\n",
    "dados.loc[(dados2015['UF']>=31) & (dados2015['UF']<=35), 'Regiões'] = 'Sudeste'\n",
    "dados.loc[(dados2015['UF']>=41) & (dados2015['UF']<=43), 'Regiões'] = 'Sul'\n",
    "dados.loc[(dados2015['UF']>=50) & (dados2015['UF']<=53), 'Regiões'] = 'Centro_Oeste'\n",
    "\n"
   ]
  },
  {
   "cell_type": "code",
   "execution_count": null,
   "metadata": {
    "collapsed": true
   },
   "outputs": [],
   "source": []
  },
  {
   "cell_type": "code",
   "execution_count": 152,
   "metadata": {
    "collapsed": true
   },
   "outputs": [],
   "source": [
    "#Criando tabela de dados de 2011\n",
    "dados2 = dados2011.loc[:,[\"UF\", \"V0203\", \"V0204\", \"V0205\",\n",
    "                          \"V0207\",\"V4621\",\"V2015\",\n",
    "                          \"V0216\"]]"
   ]
  },
  {
   "cell_type": "code",
   "execution_count": 153,
   "metadata": {
    "collapsed": false
   },
   "outputs": [],
   "source": [
    "dados2 = pd.DataFrame()\n",
    "\n",
    "#dados2[\"Regiões\"] = dados2011.UF\n",
    "dados2[\"2Domicílio\"] = dados2011.V0202\n",
    "dados2[\"2Material predominante das paredes do domicílio\"] = dados2011.V0203\n",
    "dados2[\"2Material predominante na cobertura do domicílio\"] = dados2011.V0204\n",
    "dados2[\"2Quantidade de Cômodos\"] = dados2011.V0205\n",
    "dados2[\"2Condição de ocupação\"] = dados2011.V0207\n",
    "dados2[\"2Rendimento mensal\"] = dados2011.V4621\n",
    "dados2[\"2Banheiro/sanitário?\"] = dados2011.V0215\n",
    "dados2[\"2Quantidade de banheiros\"] = dados2011.V2016\n"
   ]
  },
  {
   "cell_type": "code",
   "execution_count": 154,
   "metadata": {
    "collapsed": false
   },
   "outputs": [],
   "source": [
    "#dados2[\"Regiões\"] = dados2[\"Regiões\"].astype('category')\n",
    "#dados2[\"Regiões\"].cat.categories = ('Rondônia', 'Acre', 'Amazonas', 'Roraima', 'Pará',\n",
    "#                                   'Amapá', 'Tocantins', 'Maranhão','Piauí', 'Ceará',\n",
    "#                                   'Rio Grande do Norte','Paraíba', 'Pernambuco', 'Alagoas', \n",
    "#                                   'Sergipe', 'Bahia', 'Minas Gerais', 'Espírito Santo', \n",
    "#                                   'Rio de Janeiro', 'São Paulo', 'Paraná', 'Santa Catarina', \n",
    "#                                   'Rio Grande do Sul','Mato Grosso do Sul', 'Mato Grosso', 'Goiás', \n",
    "#2                                   'Distrito Federal')\n",
    "\n",
    "dados2[\"2Domicílio\"] = dados2[\"2Domicílio\"].astype('category')\n",
    "dados2[\"2Domicílio\"].cat.categories = ('Casa', 'Apartamento', 'Cômodo')\n",
    "\n",
    "dados2[\"2Material predominante das paredes do domicílio\"] = dados2[\"2Material predominante das paredes do domicílio\"].astype('category')\n",
    "dados2[\"2Material predominante das paredes do domicílio\"].cat.categories = ('Alvenaria','Madeira aparelhada','Taipa não revestida',\n",
    "                                                                          'Madeira aproveitada','Palha','Outro material')\n",
    "\n",
    "dados2[\"2Material predominante na cobertura do domicílio\"] = dados2[\"2Material predominante na cobertura do domicílio\"].astype('category')\n",
    "dados2[\"2Material predominante na cobertura do domicílio\"].cat.categories = ('Telha','Laje de concreto','Madeira aparelhada',\n",
    "                                                                           'Zinco','Madeira aproveitada','Palha','Outro material')\n",
    "\n",
    "dados2[\"2Quantidade de Cômodos\"] = dados2[\"2Quantidade de Cômodos\"].astype('float')\n",
    "\n",
    "dados2[\"2Condição de ocupação\"] = dados2[\"2Condição de ocupação\"].astype('category')\n",
    "dados2[\"2Condição de ocupação\"].cat.categories = ('Próprio(pago)', 'Próprio(pagando)', 'Alugado',\n",
    "                                                'Cedido por empregador', 'Cedido de outra forma',\n",
    "                                                'Outras condições')\n",
    "\n",
    "dados2[\"2Rendimento mensal\"] = dados2[\"2Rendimento mensal\"].astype('float')\n",
    "\n",
    "dados2[\"2Banheiro/sanitário?\"] = dados2[\"2Banheiro/sanitário?\"].astype('category')\n",
    "dados2[\"2Banheiro/sanitário?\"].cat.categories = ('Sim','Não')\n",
    "\n",
    "dados2[\"2Quantidade de banheiros\"] = dados2[\"2Quantidade de banheiros\"].astype('float')"
   ]
  },
  {
   "cell_type": "code",
   "execution_count": 9,
   "metadata": {
    "collapsed": false
   },
   "outputs": [],
   "source": [
    "#Tirando NaN das colunas -> dados.dropna(subset = ['coluna_1', 'coluna_2'])\n",
    "dados = dados.dropna()"
   ]
  },
  {
   "cell_type": "code",
   "execution_count": 62,
   "metadata": {
    "collapsed": false
   },
   "outputs": [],
   "source": [
    "#Tirando NaN das colunas -> dados.dropna(subset = ['coluna_1', 'coluna_2'])\n",
    "dados2 = dados2.dropna()"
   ]
  },
  {
   "cell_type": "code",
   "execution_count": null,
   "metadata": {
    "collapsed": true
   },
   "outputs": [],
   "source": []
  },
  {
   "cell_type": "code",
   "execution_count": 175,
   "metadata": {
    "collapsed": false
   },
   "outputs": [],
   "source": [
    "Nordeste = dados[(dados2015[\"UF\"]>=21)&(dados2015[\"UF\"]<=29)]\n",
    "Sul = dados[(dados2015[\"UF\"]>=41)&(dados2015[\"UF\"]<=43)]\n",
    "\n",
    "Casa = dados[(dados[\"Domicílio\"]=='Casa')]\n",
    "Casa2 = dados2[(dados2[\"2Domicílio\"]=='Casa')]\n",
    "\n",
    "domicilio_nordeste = Nordeste[\"Domicílio\"]\n",
    "domicilio_sul = Sul[\"Domicílio\"]\n",
    "\n",
    "#comodos10 = dados[(dados[\"Quantidade de Cômodos\"]<=10)]\n",
    "#comodos102 = dados2[(dados2[\"2Quantidade de Cômodos\"]<=10)]\n",
    "\n",
    "comodos_nordeste = Nordeste[\"Quantidade de Cômodos\"]\n",
    "comodos_sul = Sul[\"Quantidade de Cômodos\"]\n"
   ]
  },
  {
   "cell_type": "code",
   "execution_count": null,
   "metadata": {
    "collapsed": true
   },
   "outputs": [],
   "source": []
  },
  {
   "cell_type": "code",
   "execution_count": 10,
   "metadata": {
    "collapsed": false
   },
   "outputs": [
    {
     "name": "stdout",
     "output_type": "stream",
     "text": [
      "Freq absoluta:\n",
      " Casa           96694\n",
      "Apartamento    12676\n",
      "Cômodo           253\n",
      "Name: Domicílio, dtype: int64 \n",
      "\n",
      "Freq relativa:\n",
      " Casa           88.2\n",
      "Apartamento    11.6\n",
      "Cômodo          0.2\n",
      "Name: Domicílio, dtype: float64\n"
     ]
    }
   ],
   "source": [
    "#Freq absoluta e relativa de domicílios de 2015\n",
    "\n",
    "domicilio_absoluto = dados[\"Domicílio\"].value_counts()\n",
    "print(\"Freq absoluta:\\n\", domicilio_absoluto, '\\n')\n",
    "\n",
    "\n",
    "domicilio_relativo = (dados[\"Domicílio\"].value_counts(True)*100).round(decimals=1)\n",
    "print(\"Freq relativa:\\n\", domicilio_relativo)"
   ]
  },
  {
   "cell_type": "code",
   "execution_count": 81,
   "metadata": {
    "collapsed": false
   },
   "outputs": [
    {
     "name": "stdout",
     "output_type": "stream",
     "text": [
      "Freq absoluta:\n",
      " 5.0     31359\n",
      "6.0     21723\n",
      "4.0     15813\n",
      "7.0     12944\n",
      "8.0      7566\n",
      "3.0      6855\n",
      "9.0      3815\n",
      "10.0     2350\n",
      "2.0      1904\n",
      "11.0     1086\n",
      "12.0      797\n",
      "13.0      389\n",
      "14.0      258\n",
      "15.0      182\n",
      "16.0       88\n",
      "17.0       47\n",
      "18.0       47\n",
      "20.0       28\n",
      "19.0       22\n",
      "22.0       13\n",
      "21.0        9\n",
      "23.0        5\n",
      "25.0        5\n",
      "24.0        3\n",
      "26.0        2\n",
      "28.0        2\n",
      "27.0        1\n",
      "Name: Quantidade de Cômodos, dtype: int64 \n",
      "\n",
      "Freq relativa:\n",
      " 5.0     29.2\n",
      "6.0     20.2\n",
      "4.0     14.7\n",
      "7.0     12.1\n",
      "8.0      7.1\n",
      "3.0      6.4\n",
      "9.0      3.6\n",
      "10.0     2.2\n",
      "2.0      1.8\n",
      "11.0     1.0\n",
      "12.0     0.7\n",
      "13.0     0.4\n",
      "14.0     0.2\n",
      "15.0     0.2\n",
      "16.0     0.1\n",
      "17.0     0.0\n",
      "18.0     0.0\n",
      "20.0     0.0\n",
      "19.0     0.0\n",
      "22.0     0.0\n",
      "21.0     0.0\n",
      "23.0     0.0\n",
      "25.0     0.0\n",
      "24.0     0.0\n",
      "26.0     0.0\n",
      "28.0     0.0\n",
      "27.0     0.0\n",
      "Name: Quantidade de Cômodos, dtype: float64\n"
     ]
    }
   ],
   "source": [
    "#Freq absoluta e relativa da quantidade e cômodos de 2015\n",
    "\n",
    "comodos_absoluto = dados[\"Quantidade de Cômodos\"].value_counts()\n",
    "print(\"Freq absoluta:\\n\", comodos_absoluto, '\\n')\n",
    "\n",
    "\n",
    "comodos_relativo = (dados[\"Quantidade de Cômodos\"].value_counts(True)*100).round(decimals=1)\n",
    "print(\"Freq relativa:\\n\", comodos_relativo)"
   ]
  },
  {
   "cell_type": "code",
   "execution_count": 12,
   "metadata": {
    "collapsed": false
   },
   "outputs": [
    {
     "name": "stdout",
     "output_type": "stream",
     "text": [
      "Freq absoluta:\n",
      " Próprio(pago)            76819\n",
      "Alugado                  20109\n",
      "Cedido de outra forma     5344\n",
      "Próprio(pagando)          4993\n",
      "Cedido por empregador     2073\n",
      "Outras condições           285\n",
      "Name: Condição de ocupação, dtype: int64 \n",
      "\n",
      "Freq relativa:\n",
      " Próprio(pago)            70.1\n",
      "Alugado                  18.3\n",
      "Cedido de outra forma     4.9\n",
      "Próprio(pagando)          4.6\n",
      "Cedido por empregador     1.9\n",
      "Outras condições          0.3\n",
      "Name: Condição de ocupação, dtype: float64\n"
     ]
    }
   ],
   "source": [
    "#Freq absoluta e relativa da condição de ocupação de 2015\n",
    "\n",
    "ocupacao_absoluto = dados[\"Condição de ocupação\"].value_counts()\n",
    "print(\"Freq absoluta:\\n\", ocupacao_absoluto, '\\n')\n",
    "\n",
    "\n",
    "ocupacao_relativo = (dados[\"Condição de ocupação\"].value_counts(True)*100).round(decimals=1)\n",
    "print(\"Freq relativa:\\n\", ocupacao_relativo)"
   ]
  },
  {
   "cell_type": "code",
   "execution_count": null,
   "metadata": {
    "collapsed": true
   },
   "outputs": [],
   "source": []
  },
  {
   "cell_type": "code",
   "execution_count": 123,
   "metadata": {
    "collapsed": false
   },
   "outputs": [
    {
     "name": "stdout",
     "output_type": "stream",
     "text": [
      "Freq absoluta:\n",
      " Casa           98691\n",
      "Apartamento    12398\n",
      "Cômodo           521\n",
      "Name: 2Domicílio, dtype: int64 \n",
      "\n",
      "Freq relativa:\n",
      " Casa           88.4\n",
      "Apartamento    11.1\n",
      "Cômodo          0.5\n",
      "Name: 2Domicílio, dtype: float64\n"
     ]
    }
   ],
   "source": [
    "#Freq absoluta e relatva de 2011\n",
    "\n",
    "domicilio_absoluto = dados2[\"2Domicílio\"].value_counts()\n",
    "print(\"Freq absoluta:\\n\", domicilio_absoluto, '\\n')\n",
    "\n",
    "\n",
    "domicilio_relativo = (dados2[\"2Domicílio\"].value_counts(True)*100).round(decimals=1)\n",
    "print(\"Freq relativa:\\n\", domicilio_relativo)"
   ]
  },
  {
   "cell_type": "code",
   "execution_count": 125,
   "metadata": {
    "collapsed": false
   },
   "outputs": [
    {
     "name": "stdout",
     "output_type": "stream",
     "text": [
      "Freq absoluta:\n",
      " 5.0     32044\n",
      "6.0     22132\n",
      "4.0     16866\n",
      "7.0     13097\n",
      "8.0      7619\n",
      "3.0      7601\n",
      "9.0      3839\n",
      "2.0      2538\n",
      "10.0     2360\n",
      "11.0     1090\n",
      "12.0      798\n",
      "1.0       524\n",
      "13.0      390\n",
      "14.0      258\n",
      "15.0      182\n",
      "16.0       88\n",
      "17.0       47\n",
      "18.0       47\n",
      "20.0       28\n",
      "19.0       22\n",
      "22.0       13\n",
      "21.0        9\n",
      "23.0        5\n",
      "25.0        5\n",
      "24.0        3\n",
      "26.0        2\n",
      "28.0        2\n",
      "27.0        1\n",
      "Name: 2Quantidade de Cômodos, dtype: int64 \n",
      "\n",
      "Freq relativa:\n",
      " 5.0     28.7\n",
      "6.0     19.8\n",
      "4.0     15.1\n",
      "7.0     11.7\n",
      "8.0      6.8\n",
      "3.0      6.8\n",
      "9.0      3.4\n",
      "2.0      2.3\n",
      "10.0     2.1\n",
      "11.0     1.0\n",
      "12.0     0.7\n",
      "1.0      0.5\n",
      "13.0     0.3\n",
      "14.0     0.2\n",
      "15.0     0.2\n",
      "16.0     0.1\n",
      "17.0     0.0\n",
      "18.0     0.0\n",
      "20.0     0.0\n",
      "19.0     0.0\n",
      "22.0     0.0\n",
      "21.0     0.0\n",
      "23.0     0.0\n",
      "25.0     0.0\n",
      "24.0     0.0\n",
      "26.0     0.0\n",
      "28.0     0.0\n",
      "27.0     0.0\n",
      "Name: 2Quantidade de Cômodos, dtype: float64\n"
     ]
    }
   ],
   "source": [
    "#Freq absoluta e relativa da quantidade e cômodos de 2011\n",
    "\n",
    "comodos_absoluto = dados2[\"2Quantidade de Cômodos\"].value_counts()\n",
    "print(\"Freq absoluta:\\n\", comodos_absoluto, '\\n')\n",
    "\n",
    "\n",
    "comodos_relativo = (dados2[\"2Quantidade de Cômodos\"].value_counts(True)*100).round(decimals=1)\n",
    "print(\"Freq relativa:\\n\", comodos_relativo)"
   ]
  },
  {
   "cell_type": "code",
   "execution_count": 126,
   "metadata": {
    "collapsed": false
   },
   "outputs": [
    {
     "name": "stdout",
     "output_type": "stream",
     "text": [
      "Freq absoluta:\n",
      " Próprio(pago)            79156\n",
      "Alugado                  19012\n",
      "Cedido de outra forma     5832\n",
      "Próprio(pagando)          4820\n",
      "Cedido por empregador     2230\n",
      "Outras condições           560\n",
      "Name: 2Condição de ocupação, dtype: int64 \n",
      "\n",
      "Freq relativa:\n",
      " Próprio(pago)            70.9\n",
      "Alugado                  17.0\n",
      "Cedido de outra forma     5.2\n",
      "Próprio(pagando)          4.3\n",
      "Cedido por empregador     2.0\n",
      "Outras condições          0.5\n",
      "Name: 2Condição de ocupação, dtype: float64\n"
     ]
    }
   ],
   "source": [
    "#Freq absoluta e relativa da condição de ocupação de 201\n",
    "\n",
    "ocupacao_absoluto = dados2[\"2Condição de ocupação\"].value_counts()\n",
    "print(\"Freq absoluta:\\n\", ocupacao_absoluto, '\\n')\n",
    "\n",
    "\n",
    "ocupacao_relativo = (dados2[\"2Condição de ocupação\"].value_counts(True)*100).round(decimals=1)\n",
    "print(\"Freq relativa:\\n\", ocupacao_relativo)"
   ]
  },
  {
   "cell_type": "code",
   "execution_count": null,
   "metadata": {
    "collapsed": true
   },
   "outputs": [],
   "source": [
    "#DADOS DE 2015"
   ]
  },
  {
   "cell_type": "code",
   "execution_count": 134,
   "metadata": {
    "collapsed": false
   },
   "outputs": [
    {
     "name": "stdout",
     "output_type": "stream",
     "text": [
      "Tabela Cruzada por total GERAL (em %):\n"
     ]
    },
    {
     "data": {
      "text/html": [
       "<div>\n",
       "<table border=\"1\" class=\"dataframe\">\n",
       "  <thead>\n",
       "    <tr style=\"text-align: right;\">\n",
       "      <th>Condição de ocupação</th>\n",
       "      <th>Próprio(pago)</th>\n",
       "      <th>Próprio(pagando)</th>\n",
       "      <th>Alugado</th>\n",
       "      <th>Cedido por empregador</th>\n",
       "      <th>Cedido de outra forma</th>\n",
       "      <th>Outras condições</th>\n",
       "    </tr>\n",
       "    <tr>\n",
       "      <th>Domicílio</th>\n",
       "      <th></th>\n",
       "      <th></th>\n",
       "      <th></th>\n",
       "      <th></th>\n",
       "      <th></th>\n",
       "      <th></th>\n",
       "    </tr>\n",
       "  </thead>\n",
       "  <tbody>\n",
       "    <tr>\n",
       "      <th>Casa</th>\n",
       "      <td>64.706047</td>\n",
       "      <td>3.034115</td>\n",
       "      <td>13.612517</td>\n",
       "      <td>1.836683</td>\n",
       "      <td>4.543718</td>\n",
       "      <td>0.428653</td>\n",
       "    </tr>\n",
       "    <tr>\n",
       "      <th>Apartamento</th>\n",
       "      <td>5.939635</td>\n",
       "      <td>1.430395</td>\n",
       "      <td>3.627706</td>\n",
       "      <td>0.101572</td>\n",
       "      <td>0.364355</td>\n",
       "      <td>0.032615</td>\n",
       "    </tr>\n",
       "    <tr>\n",
       "      <th>Cômodo</th>\n",
       "      <td>0.077344</td>\n",
       "      <td>0.003727</td>\n",
       "      <td>0.198485</td>\n",
       "      <td>0.010250</td>\n",
       "      <td>0.046593</td>\n",
       "      <td>0.005591</td>\n",
       "    </tr>\n",
       "  </tbody>\n",
       "</table>\n",
       "</div>"
      ],
      "text/plain": [
       "Condição de ocupação  Próprio(pago)  Próprio(pagando)    Alugado  \\\n",
       "Domicílio                                                          \n",
       "Casa                      64.706047          3.034115  13.612517   \n",
       "Apartamento                5.939635          1.430395   3.627706   \n",
       "Cômodo                     0.077344          0.003727   0.198485   \n",
       "\n",
       "Condição de ocupação  Cedido por empregador  Cedido de outra forma  \\\n",
       "Domicílio                                                            \n",
       "Casa                               1.836683               4.543718   \n",
       "Apartamento                        0.101572               0.364355   \n",
       "Cômodo                             0.010250               0.046593   \n",
       "\n",
       "Condição de ocupação  Outras condições  \n",
       "Domicílio                               \n",
       "Casa                          0.428653  \n",
       "Apartamento                   0.032615  \n",
       "Cômodo                        0.005591  "
      ]
     },
     "execution_count": 134,
     "metadata": {},
     "output_type": "execute_result"
    }
   ],
   "source": [
    "#Tabela cruzada de domicílios com sua condição de ocupação de 2015\n",
    "\n",
    "c2=pd.crosstab(dados[\"Domicílio\"],dados[\"Condição de ocupação\"],normalize=(True))\n",
    "print('Tabela Cruzada por total GERAL (em %):')\n",
    "c22=c2*100\n",
    "c22"
   ]
  },
  {
   "cell_type": "code",
   "execution_count": 14,
   "metadata": {
    "collapsed": false
   },
   "outputs": [
    {
     "data": {
      "image/png": "[encoded data removed]",
      "text/plain": [
       "<matplotlib.figure.Figure at 0x194cfc460b8>"
      ]
     },
     "metadata": {},
     "output_type": "display_data"
    }
   ],
   "source": [
    "plot = c22.plot(kind=\"bar\", stacked=True)"
   ]
  },
  {
   "cell_type": "code",
   "execution_count": 111,
   "metadata": {
    "collapsed": false
   },
   "outputs": [
    {
     "data": {
      "text/html": [
       "<div>\n",
       "<table border=\"1\" class=\"dataframe\">\n",
       "  <thead>\n",
       "    <tr style=\"text-align: right;\">\n",
       "      <th>Quantidade de Cômodos</th>\n",
       "      <th>2.0</th>\n",
       "      <th>3.0</th>\n",
       "      <th>4.0</th>\n",
       "      <th>5.0</th>\n",
       "      <th>6.0</th>\n",
       "      <th>7.0</th>\n",
       "      <th>8.0</th>\n",
       "      <th>9.0</th>\n",
       "      <th>10.0</th>\n",
       "      <th>11.0</th>\n",
       "      <th>...</th>\n",
       "      <th>19.0</th>\n",
       "      <th>20.0</th>\n",
       "      <th>21.0</th>\n",
       "      <th>22.0</th>\n",
       "      <th>23.0</th>\n",
       "      <th>24.0</th>\n",
       "      <th>25.0</th>\n",
       "      <th>26.0</th>\n",
       "      <th>27.0</th>\n",
       "      <th>28.0</th>\n",
       "    </tr>\n",
       "    <tr>\n",
       "      <th>Condição de ocupação</th>\n",
       "      <th></th>\n",
       "      <th></th>\n",
       "      <th></th>\n",
       "      <th></th>\n",
       "      <th></th>\n",
       "      <th></th>\n",
       "      <th></th>\n",
       "      <th></th>\n",
       "      <th></th>\n",
       "      <th></th>\n",
       "      <th></th>\n",
       "      <th></th>\n",
       "      <th></th>\n",
       "      <th></th>\n",
       "      <th></th>\n",
       "      <th></th>\n",
       "      <th></th>\n",
       "      <th></th>\n",
       "      <th></th>\n",
       "      <th></th>\n",
       "      <th></th>\n",
       "    </tr>\n",
       "  </thead>\n",
       "  <tbody>\n",
       "    <tr>\n",
       "      <th>Próprio(pago)</th>\n",
       "      <td>982</td>\n",
       "      <td>3704</td>\n",
       "      <td>9839</td>\n",
       "      <td>21385</td>\n",
       "      <td>16185</td>\n",
       "      <td>10045</td>\n",
       "      <td>6063</td>\n",
       "      <td>3138</td>\n",
       "      <td>1981</td>\n",
       "      <td>911</td>\n",
       "      <td>...</td>\n",
       "      <td>21</td>\n",
       "      <td>25</td>\n",
       "      <td>6</td>\n",
       "      <td>12</td>\n",
       "      <td>5</td>\n",
       "      <td>2</td>\n",
       "      <td>4</td>\n",
       "      <td>2</td>\n",
       "      <td>1</td>\n",
       "      <td>2</td>\n",
       "    </tr>\n",
       "    <tr>\n",
       "      <th>Próprio(pagando)</th>\n",
       "      <td>25</td>\n",
       "      <td>143</td>\n",
       "      <td>533</td>\n",
       "      <td>1763</td>\n",
       "      <td>920</td>\n",
       "      <td>647</td>\n",
       "      <td>341</td>\n",
       "      <td>180</td>\n",
       "      <td>100</td>\n",
       "      <td>63</td>\n",
       "      <td>...</td>\n",
       "      <td>0</td>\n",
       "      <td>1</td>\n",
       "      <td>1</td>\n",
       "      <td>1</td>\n",
       "      <td>0</td>\n",
       "      <td>0</td>\n",
       "      <td>0</td>\n",
       "      <td>0</td>\n",
       "      <td>0</td>\n",
       "      <td>0</td>\n",
       "    </tr>\n",
       "    <tr>\n",
       "      <th>Alugado</th>\n",
       "      <td>673</td>\n",
       "      <td>2236</td>\n",
       "      <td>3876</td>\n",
       "      <td>5625</td>\n",
       "      <td>3186</td>\n",
       "      <td>1556</td>\n",
       "      <td>815</td>\n",
       "      <td>368</td>\n",
       "      <td>195</td>\n",
       "      <td>77</td>\n",
       "      <td>...</td>\n",
       "      <td>1</td>\n",
       "      <td>1</td>\n",
       "      <td>1</td>\n",
       "      <td>0</td>\n",
       "      <td>0</td>\n",
       "      <td>1</td>\n",
       "      <td>0</td>\n",
       "      <td>0</td>\n",
       "      <td>0</td>\n",
       "      <td>0</td>\n",
       "    </tr>\n",
       "    <tr>\n",
       "      <th>Cedido por empregador</th>\n",
       "      <td>41</td>\n",
       "      <td>122</td>\n",
       "      <td>302</td>\n",
       "      <td>716</td>\n",
       "      <td>461</td>\n",
       "      <td>249</td>\n",
       "      <td>113</td>\n",
       "      <td>37</td>\n",
       "      <td>24</td>\n",
       "      <td>7</td>\n",
       "      <td>...</td>\n",
       "      <td>0</td>\n",
       "      <td>1</td>\n",
       "      <td>0</td>\n",
       "      <td>0</td>\n",
       "      <td>0</td>\n",
       "      <td>0</td>\n",
       "      <td>1</td>\n",
       "      <td>0</td>\n",
       "      <td>0</td>\n",
       "      <td>0</td>\n",
       "    </tr>\n",
       "    <tr>\n",
       "      <th>Cedido de outra forma</th>\n",
       "      <td>163</td>\n",
       "      <td>601</td>\n",
       "      <td>1173</td>\n",
       "      <td>1704</td>\n",
       "      <td>880</td>\n",
       "      <td>401</td>\n",
       "      <td>217</td>\n",
       "      <td>83</td>\n",
       "      <td>46</td>\n",
       "      <td>23</td>\n",
       "      <td>...</td>\n",
       "      <td>0</td>\n",
       "      <td>0</td>\n",
       "      <td>1</td>\n",
       "      <td>0</td>\n",
       "      <td>0</td>\n",
       "      <td>0</td>\n",
       "      <td>0</td>\n",
       "      <td>0</td>\n",
       "      <td>0</td>\n",
       "      <td>0</td>\n",
       "    </tr>\n",
       "    <tr>\n",
       "      <th>Outras condições</th>\n",
       "      <td>20</td>\n",
       "      <td>49</td>\n",
       "      <td>90</td>\n",
       "      <td>166</td>\n",
       "      <td>91</td>\n",
       "      <td>46</td>\n",
       "      <td>17</td>\n",
       "      <td>9</td>\n",
       "      <td>4</td>\n",
       "      <td>5</td>\n",
       "      <td>...</td>\n",
       "      <td>0</td>\n",
       "      <td>0</td>\n",
       "      <td>0</td>\n",
       "      <td>0</td>\n",
       "      <td>0</td>\n",
       "      <td>0</td>\n",
       "      <td>0</td>\n",
       "      <td>0</td>\n",
       "      <td>0</td>\n",
       "      <td>0</td>\n",
       "    </tr>\n",
       "  </tbody>\n",
       "</table>\n",
       "<p>6 rows × 27 columns</p>\n",
       "</div>"
      ],
      "text/plain": [
       "Quantidade de Cômodos  2.0   3.0   4.0    5.0    6.0    7.0   8.0   9.0   \\\n",
       "Condição de ocupação                                                       \n",
       "Próprio(pago)           982  3704  9839  21385  16185  10045  6063  3138   \n",
       "Próprio(pagando)         25   143   533   1763    920    647   341   180   \n",
       "Alugado                 673  2236  3876   5625   3186   1556   815   368   \n",
       "Cedido por empregador    41   122   302    716    461    249   113    37   \n",
       "Cedido de outra forma   163   601  1173   1704    880    401   217    83   \n",
       "Outras condições         20    49    90    166     91     46    17     9   \n",
       "\n",
       "Quantidade de Cômodos  10.0  11.0  ...   19.0  20.0  21.0  22.0  23.0  24.0  \\\n",
       "Condição de ocupação               ...                                        \n",
       "Próprio(pago)          1981   911  ...     21    25     6    12     5     2   \n",
       "Próprio(pagando)        100    63  ...      0     1     1     1     0     0   \n",
       "Alugado                 195    77  ...      1     1     1     0     0     1   \n",
       "Cedido por empregador    24     7  ...      0     1     0     0     0     0   \n",
       "Cedido de outra forma    46    23  ...      0     0     1     0     0     0   \n",
       "Outras condições          4     5  ...      0     0     0     0     0     0   \n",
       "\n",
       "Quantidade de Cômodos  25.0  26.0  27.0  28.0  \n",
       "Condição de ocupação                           \n",
       "Próprio(pago)             4     2     1     2  \n",
       "Próprio(pagando)          0     0     0     0  \n",
       "Alugado                   0     0     0     0  \n",
       "Cedido por empregador     1     0     0     0  \n",
       "Cedido de outra forma     0     0     0     0  \n",
       "Outras condições          0     0     0     0  \n",
       "\n",
       "[6 rows x 27 columns]"
      ]
     },
     "execution_count": 111,
     "metadata": {},
     "output_type": "execute_result"
    }
   ],
   "source": [
    "c3 = pd.crosstab(dados[\"Condição de ocupação\"], dados[\"Quantidade de Cômodos\"]) #Cômodos[quant_comodos] #[Cômodos])\n",
    "c3"
   ]
  },
  {
   "cell_type": "code",
   "execution_count": 16,
   "metadata": {
    "collapsed": false
   },
   "outputs": [
    {
     "data": {
      "text/plain": [
       "<matplotlib.text.Text at 0x194d0cb4160>"
      ]
     },
     "execution_count": 16,
     "metadata": {},
     "output_type": "execute_result"
    },
    {
     "data": {
      "image/png": "[encoded data removed]",
      "text/plain": [
       "<matplotlib.figure.Figure at 0x194d059c940>"
      ]
     },
     "metadata": {},
     "output_type": "display_data"
    }
   ],
   "source": [
    "c33 = (c3/c3.sum().sum()*100).round(decimals=0)\n",
    "plot = c33.plot(kind='bar')\n",
    "plt.ylabel('Frequência Relativa (em %)')"
   ]
  },
  {
   "cell_type": "code",
   "execution_count": 140,
   "metadata": {
    "collapsed": false
   },
   "outputs": [
    {
     "data": {
      "text/plain": [
       "<matplotlib.text.Text at 0x194cff7d4a8>"
      ]
     },
     "execution_count": 140,
     "metadata": {},
     "output_type": "execute_result"
    },
    {
     "data": {
      "image/png": "[encoded data removed]",
      "text/plain": [
       "<matplotlib.figure.Figure at 0x194cfeb9fd0>"
      ]
     },
     "metadata": {},
     "output_type": "display_data"
    }
   ],
   "source": [
    "dados.boxplot(column='Quantidade de Cômodos', by=\"Domicílio\")\n",
    "plt.ylabel(\"Quantidade de Cômodos\")\n",
    "plt.xlabel(\"Domicílio\")"
   ]
  },
  {
   "cell_type": "code",
   "execution_count": 156,
   "metadata": {
    "collapsed": false
   },
   "outputs": [
    {
     "name": "stdout",
     "output_type": "stream",
     "text": [
      "Tabela Cruzada por total GERAL (em %):\n"
     ]
    },
    {
     "data": {
      "text/html": [
       "<div>\n",
       "<table border=\"1\" class=\"dataframe\">\n",
       "  <thead>\n",
       "    <tr style=\"text-align: right;\">\n",
       "      <th>Material predominante das paredes do domicílio</th>\n",
       "      <th>Alvenaria</th>\n",
       "      <th>Madeira aparelhada</th>\n",
       "      <th>Taipa não revestida</th>\n",
       "      <th>Madeira aproveitada</th>\n",
       "      <th>Palha</th>\n",
       "      <th>Outro material</th>\n",
       "    </tr>\n",
       "    <tr>\n",
       "      <th>Domicílio</th>\n",
       "      <th></th>\n",
       "      <th></th>\n",
       "      <th></th>\n",
       "      <th></th>\n",
       "      <th></th>\n",
       "      <th></th>\n",
       "    </tr>\n",
       "  </thead>\n",
       "  <tbody>\n",
       "    <tr>\n",
       "      <th>Casa</th>\n",
       "      <td>80.065646</td>\n",
       "      <td>6.815418</td>\n",
       "      <td>0.596934</td>\n",
       "      <td>0.349487</td>\n",
       "      <td>0.027211</td>\n",
       "      <td>0.168366</td>\n",
       "    </tr>\n",
       "    <tr>\n",
       "      <th>Apartamento</th>\n",
       "      <td>11.615547</td>\n",
       "      <td>0.046768</td>\n",
       "      <td>0.000000</td>\n",
       "      <td>0.000000</td>\n",
       "      <td>0.000000</td>\n",
       "      <td>0.005952</td>\n",
       "    </tr>\n",
       "    <tr>\n",
       "      <th>Cômodo</th>\n",
       "      <td>0.244896</td>\n",
       "      <td>0.046768</td>\n",
       "      <td>0.001701</td>\n",
       "      <td>0.012755</td>\n",
       "      <td>0.000850</td>\n",
       "      <td>0.001701</td>\n",
       "    </tr>\n",
       "  </tbody>\n",
       "</table>\n",
       "</div>"
      ],
      "text/plain": [
       "Material predominante das paredes do domicílio  Alvenaria  Madeira aparelhada  \\\n",
       "Domicílio                                                                       \n",
       "Casa                                            80.065646            6.815418   \n",
       "Apartamento                                     11.615547            0.046768   \n",
       "Cômodo                                           0.244896            0.046768   \n",
       "\n",
       "Material predominante das paredes do domicílio  Taipa não revestida  \\\n",
       "Domicílio                                                             \n",
       "Casa                                                       0.596934   \n",
       "Apartamento                                                0.000000   \n",
       "Cômodo                                                     0.001701   \n",
       "\n",
       "Material predominante das paredes do domicílio  Madeira aproveitada     Palha  \\\n",
       "Domicílio                                                                       \n",
       "Casa                                                       0.349487  0.027211   \n",
       "Apartamento                                                0.000000  0.000000   \n",
       "Cômodo                                                     0.012755  0.000850   \n",
       "\n",
       "Material predominante das paredes do domicílio  Outro material  \n",
       "Domicílio                                                       \n",
       "Casa                                                  0.168366  \n",
       "Apartamento                                           0.005952  \n",
       "Cômodo                                                0.001701  "
      ]
     },
     "execution_count": 156,
     "metadata": {},
     "output_type": "execute_result"
    }
   ],
   "source": [
    "c4=pd.crosstab(dados[\"Domicílio\"],dados[\"Material predominante das paredes do domicílio\"],normalize=(True))\n",
    "print('Tabela Cruzada por total GERAL (em %):')\n",
    "c44=c4*100\n",
    "c44"
   ]
  },
  {
   "cell_type": "code",
   "execution_count": 76,
   "metadata": {
    "collapsed": false
   },
   "outputs": [
    {
     "data": {
      "text/plain": [
       "<matplotlib.text.Text at 0x194d10cae48>"
      ]
     },
     "execution_count": 76,
     "metadata": {},
     "output_type": "execute_result"
    },
    {
     "data": {
      "image/png": "[encoded data removed]",
      "text/plain": [
       "<matplotlib.figure.Figure at 0x194d138afd0>"
      ]
     },
     "metadata": {},
     "output_type": "display_data"
    }
   ],
   "source": [
    "c4 = pd.crosstab(dados[\"Domicílio\"],dados[\"Material predominante das paredes do domicílio\"], rownames=[\"Domicílio\"], colnames=[\"Materiais ultilizados\"])\n",
    "c4 = (c4/len(dados)*100).round(decimals=0)\n",
    "plot = c4.plot(kind='bar')\n",
    "plt.ylabel(\"Frequencia relativa (em %)\")"
   ]
  },
  {
   "cell_type": "code",
   "execution_count": 158,
   "metadata": {
    "collapsed": false
   },
   "outputs": [
    {
     "name": "stdout",
     "output_type": "stream",
     "text": [
      "Tabela Cruzada por total GERAL (em %):\n"
     ]
    },
    {
     "data": {
      "text/html": [
       "<div>\n",
       "<table border=\"1\" class=\"dataframe\">\n",
       "  <thead>\n",
       "    <tr style=\"text-align: right;\">\n",
       "      <th>Material predominante na cobertura do domicílio</th>\n",
       "      <th>Telha</th>\n",
       "      <th>Laje de concreto</th>\n",
       "      <th>Madeira aparelhada</th>\n",
       "      <th>Zinco</th>\n",
       "      <th>Madeira aproveitada</th>\n",
       "      <th>Palha</th>\n",
       "      <th>Outro material</th>\n",
       "    </tr>\n",
       "    <tr>\n",
       "      <th>Domicílio</th>\n",
       "      <th></th>\n",
       "      <th></th>\n",
       "      <th></th>\n",
       "      <th></th>\n",
       "      <th></th>\n",
       "      <th></th>\n",
       "      <th></th>\n",
       "    </tr>\n",
       "  </thead>\n",
       "  <tbody>\n",
       "    <tr>\n",
       "      <th>Casa</th>\n",
       "      <td>71.59718</td>\n",
       "      <td>14.129132</td>\n",
       "      <td>0.276358</td>\n",
       "      <td>1.376689</td>\n",
       "      <td>0.026360</td>\n",
       "      <td>0.297617</td>\n",
       "      <td>0.319725</td>\n",
       "    </tr>\n",
       "    <tr>\n",
       "      <th>Apartamento</th>\n",
       "      <td>1.83927</td>\n",
       "      <td>9.756720</td>\n",
       "      <td>0.009354</td>\n",
       "      <td>0.042517</td>\n",
       "      <td>0.000850</td>\n",
       "      <td>0.000000</td>\n",
       "      <td>0.019558</td>\n",
       "    </tr>\n",
       "    <tr>\n",
       "      <th>Cômodo</th>\n",
       "      <td>0.22959</td>\n",
       "      <td>0.054421</td>\n",
       "      <td>0.003401</td>\n",
       "      <td>0.006803</td>\n",
       "      <td>0.001701</td>\n",
       "      <td>0.010204</td>\n",
       "      <td>0.002551</td>\n",
       "    </tr>\n",
       "  </tbody>\n",
       "</table>\n",
       "</div>"
      ],
      "text/plain": [
       "Material predominante na cobertura do domicílio     Telha  Laje de concreto  \\\n",
       "Domicílio                                                                     \n",
       "Casa                                             71.59718         14.129132   \n",
       "Apartamento                                       1.83927          9.756720   \n",
       "Cômodo                                            0.22959          0.054421   \n",
       "\n",
       "Material predominante na cobertura do domicílio  Madeira aparelhada     Zinco  \\\n",
       "Domicílio                                                                       \n",
       "Casa                                                       0.276358  1.376689   \n",
       "Apartamento                                                0.009354  0.042517   \n",
       "Cômodo                                                     0.003401  0.006803   \n",
       "\n",
       "Material predominante na cobertura do domicílio  Madeira aproveitada  \\\n",
       "Domicílio                                                              \n",
       "Casa                                                        0.026360   \n",
       "Apartamento                                                 0.000850   \n",
       "Cômodo                                                      0.001701   \n",
       "\n",
       "Material predominante na cobertura do domicílio     Palha  Outro material  \n",
       "Domicílio                                                                  \n",
       "Casa                                             0.297617        0.319725  \n",
       "Apartamento                                      0.000000        0.019558  \n",
       "Cômodo                                           0.010204        0.002551  "
      ]
     },
     "execution_count": 158,
     "metadata": {},
     "output_type": "execute_result"
    }
   ],
   "source": [
    "c5=pd.crosstab(dados[\"Domicílio\"],dados[\"Material predominante na cobertura do domicílio\"],normalize=(True))\n",
    "print('Tabela Cruzada por total GERAL (em %):')\n",
    "c55=c5*100\n",
    "c55"
   ]
  },
  {
   "cell_type": "code",
   "execution_count": 159,
   "metadata": {
    "collapsed": false
   },
   "outputs": [
    {
     "data": {
      "text/plain": [
       "<matplotlib.text.Text at 0x194da986d68>"
      ]
     },
     "execution_count": 159,
     "metadata": {},
     "output_type": "execute_result"
    },
    {
     "data": {
      "image/png": "[encoded data removed]",
      "text/plain": [
       "<matplotlib.figure.Figure at 0x194d0fc2d68>"
      ]
     },
     "metadata": {},
     "output_type": "display_data"
    }
   ],
   "source": [
    "c5 = pd.crosstab(dados[\"Domicílio\"],dados[\"Material predominante na cobertura do domicílio\"], rownames=[\"Domicílio\"], colnames=[\"Materiais ultilizados\"])\n",
    "c5 = (c5/len(dados)*100).round(decimals=0)\n",
    "plot = c5.plot(kind='bar')\n",
    "plt.ylabel(\"Frequencia relativa (em %)\")"
   ]
  },
  {
   "cell_type": "code",
   "execution_count": null,
   "metadata": {
    "collapsed": true
   },
   "outputs": [],
   "source": [
    "#DADOS DE 2011"
   ]
  },
  {
   "cell_type": "code",
   "execution_count": 141,
   "metadata": {
    "collapsed": false
   },
   "outputs": [
    {
     "name": "stdout",
     "output_type": "stream",
     "text": [
      "Tabela Cruzada por total GERAL (em %):\n"
     ]
    },
    {
     "data": {
      "text/html": [
       "<div>\n",
       "<table border=\"1\" class=\"dataframe\">\n",
       "  <thead>\n",
       "    <tr style=\"text-align: right;\">\n",
       "      <th>2Condição de ocupação</th>\n",
       "      <th>Próprio(pago)</th>\n",
       "      <th>Próprio(pagando)</th>\n",
       "      <th>Alugado</th>\n",
       "      <th>Cedido por empregador</th>\n",
       "      <th>Cedido de outra forma</th>\n",
       "      <th>Outras condições</th>\n",
       "    </tr>\n",
       "    <tr>\n",
       "      <th>2Domicílio</th>\n",
       "      <th></th>\n",
       "      <th></th>\n",
       "      <th></th>\n",
       "      <th></th>\n",
       "      <th></th>\n",
       "      <th></th>\n",
       "    </tr>\n",
       "  </thead>\n",
       "  <tbody>\n",
       "    <tr>\n",
       "      <th>Casa</th>\n",
       "      <td>65.081086</td>\n",
       "      <td>2.938805</td>\n",
       "      <td>13.267628</td>\n",
       "      <td>1.886928</td>\n",
       "      <td>4.797061</td>\n",
       "      <td>0.453364</td>\n",
       "    </tr>\n",
       "    <tr>\n",
       "      <th>Apartamento</th>\n",
       "      <td>5.727085</td>\n",
       "      <td>1.376221</td>\n",
       "      <td>3.515814</td>\n",
       "      <td>0.098557</td>\n",
       "      <td>0.358391</td>\n",
       "      <td>0.032255</td>\n",
       "    </tr>\n",
       "    <tr>\n",
       "      <th>Cômodo</th>\n",
       "      <td>0.113789</td>\n",
       "      <td>0.003584</td>\n",
       "      <td>0.250874</td>\n",
       "      <td>0.012544</td>\n",
       "      <td>0.069886</td>\n",
       "      <td>0.016128</td>\n",
       "    </tr>\n",
       "  </tbody>\n",
       "</table>\n",
       "</div>"
      ],
      "text/plain": [
       "2Condição de ocupação  Próprio(pago)  Próprio(pagando)    Alugado  \\\n",
       "2Domicílio                                                          \n",
       "Casa                       65.081086          2.938805  13.267628   \n",
       "Apartamento                 5.727085          1.376221   3.515814   \n",
       "Cômodo                      0.113789          0.003584   0.250874   \n",
       "\n",
       "2Condição de ocupação  Cedido por empregador  Cedido de outra forma  \\\n",
       "2Domicílio                                                            \n",
       "Casa                                1.886928               4.797061   \n",
       "Apartamento                         0.098557               0.358391   \n",
       "Cômodo                              0.012544               0.069886   \n",
       "\n",
       "2Condição de ocupação  Outras condições  \n",
       "2Domicílio                               \n",
       "Casa                           0.453364  \n",
       "Apartamento                    0.032255  \n",
       "Cômodo                         0.016128  "
      ]
     },
     "execution_count": 141,
     "metadata": {},
     "output_type": "execute_result"
    }
   ],
   "source": [
    "#Tabela cruzada de domicílios com sua condição de ocupação de 2011\n",
    "\n",
    "c21=pd.crosstab(dados2[\"2Domicílio\"],dados2[\"2Condição de ocupação\"],normalize=(True))\n",
    "print('Tabela Cruzada por total GERAL (em %):')\n",
    "c221=c21*100\n",
    "c221"
   ]
  },
  {
   "cell_type": "code",
   "execution_count": 142,
   "metadata": {
    "collapsed": false
   },
   "outputs": [
    {
     "data": {
      "image/png": "[encoded data removed]",
      "text/plain": [
       "<matplotlib.figure.Figure at 0x194cff4a518>"
      ]
     },
     "metadata": {},
     "output_type": "display_data"
    }
   ],
   "source": [
    "plot = c221.plot(kind=\"bar\", stacked=True)"
   ]
  },
  {
   "cell_type": "code",
   "execution_count": 143,
   "metadata": {
    "collapsed": false
   },
   "outputs": [
    {
     "data": {
      "text/html": [
       "<div>\n",
       "<table border=\"1\" class=\"dataframe\">\n",
       "  <thead>\n",
       "    <tr style=\"text-align: right;\">\n",
       "      <th>2Quantidade de Cômodos</th>\n",
       "      <th>1.0</th>\n",
       "      <th>2.0</th>\n",
       "      <th>3.0</th>\n",
       "      <th>4.0</th>\n",
       "      <th>5.0</th>\n",
       "      <th>6.0</th>\n",
       "      <th>7.0</th>\n",
       "      <th>8.0</th>\n",
       "      <th>9.0</th>\n",
       "      <th>10.0</th>\n",
       "      <th>...</th>\n",
       "      <th>19.0</th>\n",
       "      <th>20.0</th>\n",
       "      <th>21.0</th>\n",
       "      <th>22.0</th>\n",
       "      <th>23.0</th>\n",
       "      <th>24.0</th>\n",
       "      <th>25.0</th>\n",
       "      <th>26.0</th>\n",
       "      <th>27.0</th>\n",
       "      <th>28.0</th>\n",
       "    </tr>\n",
       "    <tr>\n",
       "      <th>2Condição de ocupação</th>\n",
       "      <th></th>\n",
       "      <th></th>\n",
       "      <th></th>\n",
       "      <th></th>\n",
       "      <th></th>\n",
       "      <th></th>\n",
       "      <th></th>\n",
       "      <th></th>\n",
       "      <th></th>\n",
       "      <th></th>\n",
       "      <th></th>\n",
       "      <th></th>\n",
       "      <th></th>\n",
       "      <th></th>\n",
       "      <th></th>\n",
       "      <th></th>\n",
       "      <th></th>\n",
       "      <th></th>\n",
       "      <th></th>\n",
       "      <th></th>\n",
       "      <th></th>\n",
       "    </tr>\n",
       "  </thead>\n",
       "  <tbody>\n",
       "    <tr>\n",
       "      <th>Próprio(pago)</th>\n",
       "      <td>290</td>\n",
       "      <td>1414</td>\n",
       "      <td>4265</td>\n",
       "      <td>10679</td>\n",
       "      <td>21963</td>\n",
       "      <td>16533</td>\n",
       "      <td>10175</td>\n",
       "      <td>6109</td>\n",
       "      <td>3158</td>\n",
       "      <td>1991</td>\n",
       "      <td>...</td>\n",
       "      <td>21</td>\n",
       "      <td>25</td>\n",
       "      <td>6</td>\n",
       "      <td>12</td>\n",
       "      <td>5</td>\n",
       "      <td>2</td>\n",
       "      <td>4</td>\n",
       "      <td>2</td>\n",
       "      <td>1</td>\n",
       "      <td>2</td>\n",
       "    </tr>\n",
       "    <tr>\n",
       "      <th>Próprio(pagando)</th>\n",
       "      <td>3</td>\n",
       "      <td>27</td>\n",
       "      <td>146</td>\n",
       "      <td>540</td>\n",
       "      <td>1768</td>\n",
       "      <td>924</td>\n",
       "      <td>648</td>\n",
       "      <td>341</td>\n",
       "      <td>180</td>\n",
       "      <td>100</td>\n",
       "      <td>...</td>\n",
       "      <td>0</td>\n",
       "      <td>1</td>\n",
       "      <td>1</td>\n",
       "      <td>1</td>\n",
       "      <td>0</td>\n",
       "      <td>0</td>\n",
       "      <td>0</td>\n",
       "      <td>0</td>\n",
       "      <td>0</td>\n",
       "      <td>0</td>\n",
       "    </tr>\n",
       "    <tr>\n",
       "      <th>Alugado</th>\n",
       "      <td>111</td>\n",
       "      <td>741</td>\n",
       "      <td>2276</td>\n",
       "      <td>3918</td>\n",
       "      <td>5644</td>\n",
       "      <td>3198</td>\n",
       "      <td>1558</td>\n",
       "      <td>817</td>\n",
       "      <td>370</td>\n",
       "      <td>195</td>\n",
       "      <td>...</td>\n",
       "      <td>1</td>\n",
       "      <td>1</td>\n",
       "      <td>1</td>\n",
       "      <td>0</td>\n",
       "      <td>0</td>\n",
       "      <td>1</td>\n",
       "      <td>0</td>\n",
       "      <td>0</td>\n",
       "      <td>0</td>\n",
       "      <td>0</td>\n",
       "    </tr>\n",
       "    <tr>\n",
       "      <th>Cedido por empregador</th>\n",
       "      <td>6</td>\n",
       "      <td>57</td>\n",
       "      <td>153</td>\n",
       "      <td>345</td>\n",
       "      <td>730</td>\n",
       "      <td>476</td>\n",
       "      <td>258</td>\n",
       "      <td>116</td>\n",
       "      <td>39</td>\n",
       "      <td>24</td>\n",
       "      <td>...</td>\n",
       "      <td>0</td>\n",
       "      <td>1</td>\n",
       "      <td>0</td>\n",
       "      <td>0</td>\n",
       "      <td>0</td>\n",
       "      <td>0</td>\n",
       "      <td>1</td>\n",
       "      <td>0</td>\n",
       "      <td>0</td>\n",
       "      <td>0</td>\n",
       "    </tr>\n",
       "    <tr>\n",
       "      <th>Cedido de outra forma</th>\n",
       "      <td>97</td>\n",
       "      <td>266</td>\n",
       "      <td>708</td>\n",
       "      <td>1281</td>\n",
       "      <td>1763</td>\n",
       "      <td>909</td>\n",
       "      <td>411</td>\n",
       "      <td>219</td>\n",
       "      <td>83</td>\n",
       "      <td>46</td>\n",
       "      <td>...</td>\n",
       "      <td>0</td>\n",
       "      <td>0</td>\n",
       "      <td>1</td>\n",
       "      <td>0</td>\n",
       "      <td>0</td>\n",
       "      <td>0</td>\n",
       "      <td>0</td>\n",
       "      <td>0</td>\n",
       "      <td>0</td>\n",
       "      <td>0</td>\n",
       "    </tr>\n",
       "    <tr>\n",
       "      <th>Outras condições</th>\n",
       "      <td>17</td>\n",
       "      <td>33</td>\n",
       "      <td>53</td>\n",
       "      <td>103</td>\n",
       "      <td>176</td>\n",
       "      <td>92</td>\n",
       "      <td>47</td>\n",
       "      <td>17</td>\n",
       "      <td>9</td>\n",
       "      <td>4</td>\n",
       "      <td>...</td>\n",
       "      <td>0</td>\n",
       "      <td>0</td>\n",
       "      <td>0</td>\n",
       "      <td>0</td>\n",
       "      <td>0</td>\n",
       "      <td>0</td>\n",
       "      <td>0</td>\n",
       "      <td>0</td>\n",
       "      <td>0</td>\n",
       "      <td>0</td>\n",
       "    </tr>\n",
       "  </tbody>\n",
       "</table>\n",
       "<p>6 rows × 28 columns</p>\n",
       "</div>"
      ],
      "text/plain": [
       "2Quantidade de Cômodos  1.0   2.0   3.0    4.0    5.0    6.0    7.0   8.0   \\\n",
       "2Condição de ocupação                                                        \n",
       "Próprio(pago)            290  1414  4265  10679  21963  16533  10175  6109   \n",
       "Próprio(pagando)           3    27   146    540   1768    924    648   341   \n",
       "Alugado                  111   741  2276   3918   5644   3198   1558   817   \n",
       "Cedido por empregador      6    57   153    345    730    476    258   116   \n",
       "Cedido de outra forma     97   266   708   1281   1763    909    411   219   \n",
       "Outras condições          17    33    53    103    176     92     47    17   \n",
       "\n",
       "2Quantidade de Cômodos  9.0   10.0  ...   19.0  20.0  21.0  22.0  23.0  24.0  \\\n",
       "2Condição de ocupação               ...                                        \n",
       "Próprio(pago)           3158  1991  ...     21    25     6    12     5     2   \n",
       "Próprio(pagando)         180   100  ...      0     1     1     1     0     0   \n",
       "Alugado                  370   195  ...      1     1     1     0     0     1   \n",
       "Cedido por empregador     39    24  ...      0     1     0     0     0     0   \n",
       "Cedido de outra forma     83    46  ...      0     0     1     0     0     0   \n",
       "Outras condições           9     4  ...      0     0     0     0     0     0   \n",
       "\n",
       "2Quantidade de Cômodos  25.0  26.0  27.0  28.0  \n",
       "2Condição de ocupação                           \n",
       "Próprio(pago)              4     2     1     2  \n",
       "Próprio(pagando)           0     0     0     0  \n",
       "Alugado                    0     0     0     0  \n",
       "Cedido por empregador      1     0     0     0  \n",
       "Cedido de outra forma      0     0     0     0  \n",
       "Outras condições           0     0     0     0  \n",
       "\n",
       "[6 rows x 28 columns]"
      ]
     },
     "execution_count": 143,
     "metadata": {},
     "output_type": "execute_result"
    }
   ],
   "source": [
    "c3 = pd.crosstab(dados2[\"2Condição de ocupação\"], dados2[\"2Quantidade de Cômodos\"])\n",
    "c3"
   ]
  },
  {
   "cell_type": "code",
   "execution_count": 99,
   "metadata": {
    "collapsed": false
   },
   "outputs": [
    {
     "data": {
      "text/plain": [
       "<matplotlib.text.Text at 0x194cfd70ef0>"
      ]
     },
     "execution_count": 99,
     "metadata": {},
     "output_type": "execute_result"
    },
    {
     "data": {
      "image/png": "[encoded data removed]",
      "text/plain": [
       "<matplotlib.figure.Figure at 0x194d0833828>"
      ]
     },
     "metadata": {},
     "output_type": "display_data"
    }
   ],
   "source": [
    "c33 = (c3/c3.sum().sum()*100).round(decimals=0)\n",
    "plot = c33.plot(kind='bar')\n",
    "plt.ylabel('Frequência Relativa (em %)')"
   ]
  },
  {
   "cell_type": "code",
   "execution_count": 169,
   "metadata": {
    "collapsed": true
   },
   "outputs": [
    {
     "ename": "KeyError",
     "evalue": "'domi'",
     "output_type": "error",
     "traceback": [
      "\u001b[1;31m---------------------------------------------------------------------------\u001b[0m",
      "\u001b[1;31mKeyError\u001b[0m                                  Traceback (most recent call last)",
      "\u001b[1;32mC:\\Users\\Bruno Dratcu\\Anaconda3\\lib\\site-packages\\pandas\\indexes\\base.py\u001b[0m in \u001b[0;36mget_loc\u001b[1;34m(self, key, method, tolerance)\u001b[0m\n\u001b[0;32m   1944\u001b[0m             \u001b[1;32mtry\u001b[0m\u001b[1;33m:\u001b[0m\u001b[1;33m\u001b[0m\u001b[0m\n\u001b[1;32m-> 1945\u001b[1;33m                 \u001b[1;32mreturn\u001b[0m \u001b[0mself\u001b[0m\u001b[1;33m.\u001b[0m\u001b[0m_engine\u001b[0m\u001b[1;33m.\u001b[0m\u001b[0mget_loc\u001b[0m\u001b[1;33m(\u001b[0m\u001b[0mkey\u001b[0m\u001b[1;33m)\u001b[0m\u001b[1;33m\u001b[0m\u001b[0m\n\u001b[0m\u001b[0;32m   1946\u001b[0m             \u001b[1;32mexcept\u001b[0m \u001b[0mKeyError\u001b[0m\u001b[1;33m:\u001b[0m\u001b[1;33m\u001b[0m\u001b[0m\n",
      "\u001b[1;32mpandas\\index.pyx\u001b[0m in \u001b[0;36mpandas.index.IndexEngine.get_loc (pandas\\index.c:4154)\u001b[1;34m()\u001b[0m\n",
      "\u001b[1;32mpandas\\index.pyx\u001b[0m in \u001b[0;36mpandas.index.IndexEngine.get_loc (pandas\\index.c:4018)\u001b[1;34m()\u001b[0m\n",
      "\u001b[1;32mpandas\\hashtable.pyx\u001b[0m in \u001b[0;36mpandas.hashtable.PyObjectHashTable.get_item (pandas\\hashtable.c:12368)\u001b[1;34m()\u001b[0m\n",
      "\u001b[1;32mpandas\\hashtable.pyx\u001b[0m in \u001b[0;36mpandas.hashtable.PyObjectHashTable.get_item (pandas\\hashtable.c:12322)\u001b[1;34m()\u001b[0m\n",
      "\u001b[1;31mKeyError\u001b[0m: 'domi'",
      "\nDuring handling of the above exception, another exception occurred:\n",
      "\u001b[1;31mKeyError\u001b[0m                                  Traceback (most recent call last)",
      "\u001b[1;32m<ipython-input-169-a141544caef6>\u001b[0m in \u001b[0;36m<module>\u001b[1;34m()\u001b[0m\n\u001b[0;32m      1\u001b[0m \u001b[0mdomi\u001b[0m \u001b[1;33m=\u001b[0m \u001b[0mdados2\u001b[0m\u001b[1;33m[\u001b[0m\u001b[1;34m\"2Domicílio\"\u001b[0m\u001b[1;33m]\u001b[0m\u001b[1;33m\u001b[0m\u001b[0m\n\u001b[1;32m----> 2\u001b[1;33m \u001b[0mdados\u001b[0m\u001b[1;33m.\u001b[0m\u001b[0mboxplot\u001b[0m\u001b[1;33m(\u001b[0m\u001b[0mcolumn\u001b[0m\u001b[1;33m=\u001b[0m\u001b[1;34m\"dados2['2Quantidade de Cômodos']\"\u001b[0m\u001b[1;33m,\u001b[0m \u001b[0mby\u001b[0m\u001b[1;33m=\u001b[0m\u001b[1;34m'domi'\u001b[0m\u001b[1;33m)\u001b[0m\u001b[1;33m\u001b[0m\u001b[0m\n\u001b[0m\u001b[0;32m      3\u001b[0m \u001b[0mplt\u001b[0m\u001b[1;33m.\u001b[0m\u001b[0mylabel\u001b[0m\u001b[1;33m(\u001b[0m\u001b[1;34m\"Quantidade de Cômodos\"\u001b[0m\u001b[1;33m)\u001b[0m\u001b[1;33m\u001b[0m\u001b[0m\n\u001b[0;32m      4\u001b[0m \u001b[0mplt\u001b[0m\u001b[1;33m.\u001b[0m\u001b[0mxlabel\u001b[0m\u001b[1;33m(\u001b[0m\u001b[1;34m\"Domicílio\"\u001b[0m\u001b[1;33m)\u001b[0m\u001b[1;33m\u001b[0m\u001b[0m\n",
      "\u001b[1;32mC:\\Users\\Bruno Dratcu\\Anaconda3\\lib\\site-packages\\pandas\\core\\frame.py\u001b[0m in \u001b[0;36mboxplot\u001b[1;34m(self, column, by, ax, fontsize, rot, grid, figsize, layout, return_type, **kwds)\u001b[0m\n\u001b[0;32m   5579\u001b[0m     ax = plots.boxplot(self, column=column, by=by, ax=ax, fontsize=fontsize,\n\u001b[0;32m   5580\u001b[0m                        \u001b[0mgrid\u001b[0m\u001b[1;33m=\u001b[0m\u001b[0mgrid\u001b[0m\u001b[1;33m,\u001b[0m \u001b[0mrot\u001b[0m\u001b[1;33m=\u001b[0m\u001b[0mrot\u001b[0m\u001b[1;33m,\u001b[0m \u001b[0mfigsize\u001b[0m\u001b[1;33m=\u001b[0m\u001b[0mfigsize\u001b[0m\u001b[1;33m,\u001b[0m \u001b[0mlayout\u001b[0m\u001b[1;33m=\u001b[0m\u001b[0mlayout\u001b[0m\u001b[1;33m,\u001b[0m\u001b[1;33m\u001b[0m\u001b[0m\n\u001b[1;32m-> 5581\u001b[1;33m                        return_type=return_type, **kwds)\n\u001b[0m\u001b[0;32m   5582\u001b[0m     \u001b[0mplt\u001b[0m\u001b[1;33m.\u001b[0m\u001b[0mdraw_if_interactive\u001b[0m\u001b[1;33m(\u001b[0m\u001b[1;33m)\u001b[0m\u001b[1;33m\u001b[0m\u001b[0m\n\u001b[0;32m   5583\u001b[0m     \u001b[1;32mreturn\u001b[0m \u001b[0max\u001b[0m\u001b[1;33m\u001b[0m\u001b[0m\n",
      "\u001b[1;32mC:\\Users\\Bruno Dratcu\\Anaconda3\\lib\\site-packages\\pandas\\tools\\plotting.py\u001b[0m in \u001b[0;36mboxplot\u001b[1;34m(data, column, by, ax, fontsize, rot, grid, figsize, layout, return_type, **kwds)\u001b[0m\n\u001b[0;32m   2745\u001b[0m                                          \u001b[0mby\u001b[0m\u001b[1;33m=\u001b[0m\u001b[0mby\u001b[0m\u001b[1;33m,\u001b[0m \u001b[0mgrid\u001b[0m\u001b[1;33m=\u001b[0m\u001b[0mgrid\u001b[0m\u001b[1;33m,\u001b[0m \u001b[0mfigsize\u001b[0m\u001b[1;33m=\u001b[0m\u001b[0mfigsize\u001b[0m\u001b[1;33m,\u001b[0m\u001b[1;33m\u001b[0m\u001b[0m\n\u001b[0;32m   2746\u001b[0m                                          \u001b[0max\u001b[0m\u001b[1;33m=\u001b[0m\u001b[0max\u001b[0m\u001b[1;33m,\u001b[0m \u001b[0mlayout\u001b[0m\u001b[1;33m=\u001b[0m\u001b[0mlayout\u001b[0m\u001b[1;33m,\u001b[0m\u001b[1;33m\u001b[0m\u001b[0m\n\u001b[1;32m-> 2747\u001b[1;33m                                          return_type=return_type)\n\u001b[0m\u001b[0;32m   2748\u001b[0m     \u001b[1;32melse\u001b[0m\u001b[1;33m:\u001b[0m\u001b[1;33m\u001b[0m\u001b[0m\n\u001b[0;32m   2749\u001b[0m         \u001b[1;32mif\u001b[0m \u001b[0mlayout\u001b[0m \u001b[1;32mis\u001b[0m \u001b[1;32mnot\u001b[0m \u001b[1;32mNone\u001b[0m\u001b[1;33m:\u001b[0m\u001b[1;33m\u001b[0m\u001b[0m\n",
      "\u001b[1;32mC:\\Users\\Bruno Dratcu\\Anaconda3\\lib\\site-packages\\pandas\\tools\\plotting.py\u001b[0m in \u001b[0;36m_grouped_plot_by_column\u001b[1;34m(plotf, data, columns, by, numeric_only, grid, figsize, ax, layout, return_type, **kwargs)\u001b[0m\n\u001b[0;32m   3137\u001b[0m                             \u001b[0mfigsize\u001b[0m\u001b[1;33m=\u001b[0m\u001b[1;32mNone\u001b[0m\u001b[1;33m,\u001b[0m \u001b[0max\u001b[0m\u001b[1;33m=\u001b[0m\u001b[1;32mNone\u001b[0m\u001b[1;33m,\u001b[0m \u001b[0mlayout\u001b[0m\u001b[1;33m=\u001b[0m\u001b[1;32mNone\u001b[0m\u001b[1;33m,\u001b[0m\u001b[1;33m\u001b[0m\u001b[0m\n\u001b[0;32m   3138\u001b[0m                             return_type=None, **kwargs):\n\u001b[1;32m-> 3139\u001b[1;33m     \u001b[0mgrouped\u001b[0m \u001b[1;33m=\u001b[0m \u001b[0mdata\u001b[0m\u001b[1;33m.\u001b[0m\u001b[0mgroupby\u001b[0m\u001b[1;33m(\u001b[0m\u001b[0mby\u001b[0m\u001b[1;33m)\u001b[0m\u001b[1;33m\u001b[0m\u001b[0m\n\u001b[0m\u001b[0;32m   3140\u001b[0m     \u001b[1;32mif\u001b[0m \u001b[0mcolumns\u001b[0m \u001b[1;32mis\u001b[0m \u001b[1;32mNone\u001b[0m\u001b[1;33m:\u001b[0m\u001b[1;33m\u001b[0m\u001b[0m\n\u001b[0;32m   3141\u001b[0m         \u001b[1;32mif\u001b[0m \u001b[1;32mnot\u001b[0m \u001b[0misinstance\u001b[0m\u001b[1;33m(\u001b[0m\u001b[0mby\u001b[0m\u001b[1;33m,\u001b[0m \u001b[1;33m(\u001b[0m\u001b[0mlist\u001b[0m\u001b[1;33m,\u001b[0m \u001b[0mtuple\u001b[0m\u001b[1;33m)\u001b[0m\u001b[1;33m)\u001b[0m\u001b[1;33m:\u001b[0m\u001b[1;33m\u001b[0m\u001b[0m\n",
      "\u001b[1;32mC:\\Users\\Bruno Dratcu\\Anaconda3\\lib\\site-packages\\pandas\\core\\generic.py\u001b[0m in \u001b[0;36mgroupby\u001b[1;34m(self, by, axis, level, as_index, sort, group_keys, squeeze, **kwargs)\u001b[0m\n\u001b[0;32m   3776\u001b[0m         return groupby(self, by=by, axis=axis, level=level, as_index=as_index,\n\u001b[0;32m   3777\u001b[0m                        \u001b[0msort\u001b[0m\u001b[1;33m=\u001b[0m\u001b[0msort\u001b[0m\u001b[1;33m,\u001b[0m \u001b[0mgroup_keys\u001b[0m\u001b[1;33m=\u001b[0m\u001b[0mgroup_keys\u001b[0m\u001b[1;33m,\u001b[0m \u001b[0msqueeze\u001b[0m\u001b[1;33m=\u001b[0m\u001b[0msqueeze\u001b[0m\u001b[1;33m,\u001b[0m\u001b[1;33m\u001b[0m\u001b[0m\n\u001b[1;32m-> 3778\u001b[1;33m                        **kwargs)\n\u001b[0m\u001b[0;32m   3779\u001b[0m \u001b[1;33m\u001b[0m\u001b[0m\n\u001b[0;32m   3780\u001b[0m     \u001b[1;32mdef\u001b[0m \u001b[0masfreq\u001b[0m\u001b[1;33m(\u001b[0m\u001b[0mself\u001b[0m\u001b[1;33m,\u001b[0m \u001b[0mfreq\u001b[0m\u001b[1;33m,\u001b[0m \u001b[0mmethod\u001b[0m\u001b[1;33m=\u001b[0m\u001b[1;32mNone\u001b[0m\u001b[1;33m,\u001b[0m \u001b[0mhow\u001b[0m\u001b[1;33m=\u001b[0m\u001b[1;32mNone\u001b[0m\u001b[1;33m,\u001b[0m \u001b[0mnormalize\u001b[0m\u001b[1;33m=\u001b[0m\u001b[1;32mFalse\u001b[0m\u001b[1;33m)\u001b[0m\u001b[1;33m:\u001b[0m\u001b[1;33m\u001b[0m\u001b[0m\n",
      "\u001b[1;32mC:\\Users\\Bruno Dratcu\\Anaconda3\\lib\\site-packages\\pandas\\core\\groupby.py\u001b[0m in \u001b[0;36mgroupby\u001b[1;34m(obj, by, **kwds)\u001b[0m\n\u001b[0;32m   1425\u001b[0m         \u001b[1;32mraise\u001b[0m \u001b[0mTypeError\u001b[0m\u001b[1;33m(\u001b[0m\u001b[1;34m'invalid type: %s'\u001b[0m \u001b[1;33m%\u001b[0m \u001b[0mtype\u001b[0m\u001b[1;33m(\u001b[0m\u001b[0mobj\u001b[0m\u001b[1;33m)\u001b[0m\u001b[1;33m)\u001b[0m\u001b[1;33m\u001b[0m\u001b[0m\n\u001b[0;32m   1426\u001b[0m \u001b[1;33m\u001b[0m\u001b[0m\n\u001b[1;32m-> 1427\u001b[1;33m     \u001b[1;32mreturn\u001b[0m \u001b[0mklass\u001b[0m\u001b[1;33m(\u001b[0m\u001b[0mobj\u001b[0m\u001b[1;33m,\u001b[0m \u001b[0mby\u001b[0m\u001b[1;33m,\u001b[0m \u001b[1;33m**\u001b[0m\u001b[0mkwds\u001b[0m\u001b[1;33m)\u001b[0m\u001b[1;33m\u001b[0m\u001b[0m\n\u001b[0m\u001b[0;32m   1428\u001b[0m \u001b[1;33m\u001b[0m\u001b[0m\n\u001b[0;32m   1429\u001b[0m \u001b[1;33m\u001b[0m\u001b[0m\n",
      "\u001b[1;32mC:\\Users\\Bruno Dratcu\\Anaconda3\\lib\\site-packages\\pandas\\core\\groupby.py\u001b[0m in \u001b[0;36m__init__\u001b[1;34m(self, obj, keys, axis, level, grouper, exclusions, selection, as_index, sort, group_keys, squeeze, **kwargs)\u001b[0m\n\u001b[0;32m    352\u001b[0m                                                     \u001b[0mlevel\u001b[0m\u001b[1;33m=\u001b[0m\u001b[0mlevel\u001b[0m\u001b[1;33m,\u001b[0m\u001b[1;33m\u001b[0m\u001b[0m\n\u001b[0;32m    353\u001b[0m                                                     \u001b[0msort\u001b[0m\u001b[1;33m=\u001b[0m\u001b[0msort\u001b[0m\u001b[1;33m,\u001b[0m\u001b[1;33m\u001b[0m\u001b[0m\n\u001b[1;32m--> 354\u001b[1;33m                                                     mutated=self.mutated)\n\u001b[0m\u001b[0;32m    355\u001b[0m \u001b[1;33m\u001b[0m\u001b[0m\n\u001b[0;32m    356\u001b[0m         \u001b[0mself\u001b[0m\u001b[1;33m.\u001b[0m\u001b[0mobj\u001b[0m \u001b[1;33m=\u001b[0m \u001b[0mobj\u001b[0m\u001b[1;33m\u001b[0m\u001b[0m\n",
      "\u001b[1;32mC:\\Users\\Bruno Dratcu\\Anaconda3\\lib\\site-packages\\pandas\\core\\groupby.py\u001b[0m in \u001b[0;36m_get_grouper\u001b[1;34m(obj, key, axis, level, sort, mutated)\u001b[0m\n\u001b[0;32m   2381\u001b[0m \u001b[1;33m\u001b[0m\u001b[0m\n\u001b[0;32m   2382\u001b[0m         \u001b[1;32melif\u001b[0m \u001b[0mis_in_axis\u001b[0m\u001b[1;33m(\u001b[0m\u001b[0mgpr\u001b[0m\u001b[1;33m)\u001b[0m\u001b[1;33m:\u001b[0m  \u001b[1;31m# df.groupby('name')\u001b[0m\u001b[1;33m\u001b[0m\u001b[0m\n\u001b[1;32m-> 2383\u001b[1;33m             \u001b[0min_axis\u001b[0m\u001b[1;33m,\u001b[0m \u001b[0mname\u001b[0m\u001b[1;33m,\u001b[0m \u001b[0mgpr\u001b[0m \u001b[1;33m=\u001b[0m \u001b[1;32mTrue\u001b[0m\u001b[1;33m,\u001b[0m \u001b[0mgpr\u001b[0m\u001b[1;33m,\u001b[0m \u001b[0mobj\u001b[0m\u001b[1;33m[\u001b[0m\u001b[0mgpr\u001b[0m\u001b[1;33m]\u001b[0m\u001b[1;33m\u001b[0m\u001b[0m\n\u001b[0m\u001b[0;32m   2384\u001b[0m             \u001b[0mexclusions\u001b[0m\u001b[1;33m.\u001b[0m\u001b[0mappend\u001b[0m\u001b[1;33m(\u001b[0m\u001b[0mname\u001b[0m\u001b[1;33m)\u001b[0m\u001b[1;33m\u001b[0m\u001b[0m\n\u001b[0;32m   2385\u001b[0m \u001b[1;33m\u001b[0m\u001b[0m\n",
      "\u001b[1;32mC:\\Users\\Bruno Dratcu\\Anaconda3\\lib\\site-packages\\pandas\\core\\frame.py\u001b[0m in \u001b[0;36m__getitem__\u001b[1;34m(self, key)\u001b[0m\n\u001b[0;32m   1995\u001b[0m             \u001b[1;32mreturn\u001b[0m \u001b[0mself\u001b[0m\u001b[1;33m.\u001b[0m\u001b[0m_getitem_multilevel\u001b[0m\u001b[1;33m(\u001b[0m\u001b[0mkey\u001b[0m\u001b[1;33m)\u001b[0m\u001b[1;33m\u001b[0m\u001b[0m\n\u001b[0;32m   1996\u001b[0m         \u001b[1;32melse\u001b[0m\u001b[1;33m:\u001b[0m\u001b[1;33m\u001b[0m\u001b[0m\n\u001b[1;32m-> 1997\u001b[1;33m             \u001b[1;32mreturn\u001b[0m \u001b[0mself\u001b[0m\u001b[1;33m.\u001b[0m\u001b[0m_getitem_column\u001b[0m\u001b[1;33m(\u001b[0m\u001b[0mkey\u001b[0m\u001b[1;33m)\u001b[0m\u001b[1;33m\u001b[0m\u001b[0m\n\u001b[0m\u001b[0;32m   1998\u001b[0m \u001b[1;33m\u001b[0m\u001b[0m\n\u001b[0;32m   1999\u001b[0m     \u001b[1;32mdef\u001b[0m \u001b[0m_getitem_column\u001b[0m\u001b[1;33m(\u001b[0m\u001b[0mself\u001b[0m\u001b[1;33m,\u001b[0m \u001b[0mkey\u001b[0m\u001b[1;33m)\u001b[0m\u001b[1;33m:\u001b[0m\u001b[1;33m\u001b[0m\u001b[0m\n",
      "\u001b[1;32mC:\\Users\\Bruno Dratcu\\Anaconda3\\lib\\site-packages\\pandas\\core\\frame.py\u001b[0m in \u001b[0;36m_getitem_column\u001b[1;34m(self, key)\u001b[0m\n\u001b[0;32m   2002\u001b[0m         \u001b[1;31m# get column\u001b[0m\u001b[1;33m\u001b[0m\u001b[1;33m\u001b[0m\u001b[0m\n\u001b[0;32m   2003\u001b[0m         \u001b[1;32mif\u001b[0m \u001b[0mself\u001b[0m\u001b[1;33m.\u001b[0m\u001b[0mcolumns\u001b[0m\u001b[1;33m.\u001b[0m\u001b[0mis_unique\u001b[0m\u001b[1;33m:\u001b[0m\u001b[1;33m\u001b[0m\u001b[0m\n\u001b[1;32m-> 2004\u001b[1;33m             \u001b[1;32mreturn\u001b[0m \u001b[0mself\u001b[0m\u001b[1;33m.\u001b[0m\u001b[0m_get_item_cache\u001b[0m\u001b[1;33m(\u001b[0m\u001b[0mkey\u001b[0m\u001b[1;33m)\u001b[0m\u001b[1;33m\u001b[0m\u001b[0m\n\u001b[0m\u001b[0;32m   2005\u001b[0m \u001b[1;33m\u001b[0m\u001b[0m\n\u001b[0;32m   2006\u001b[0m         \u001b[1;31m# duplicate columns & possible reduce dimensionality\u001b[0m\u001b[1;33m\u001b[0m\u001b[1;33m\u001b[0m\u001b[0m\n",
      "\u001b[1;32mC:\\Users\\Bruno Dratcu\\Anaconda3\\lib\\site-packages\\pandas\\core\\generic.py\u001b[0m in \u001b[0;36m_get_item_cache\u001b[1;34m(self, item)\u001b[0m\n\u001b[0;32m   1348\u001b[0m         \u001b[0mres\u001b[0m \u001b[1;33m=\u001b[0m \u001b[0mcache\u001b[0m\u001b[1;33m.\u001b[0m\u001b[0mget\u001b[0m\u001b[1;33m(\u001b[0m\u001b[0mitem\u001b[0m\u001b[1;33m)\u001b[0m\u001b[1;33m\u001b[0m\u001b[0m\n\u001b[0;32m   1349\u001b[0m         \u001b[1;32mif\u001b[0m \u001b[0mres\u001b[0m \u001b[1;32mis\u001b[0m \u001b[1;32mNone\u001b[0m\u001b[1;33m:\u001b[0m\u001b[1;33m\u001b[0m\u001b[0m\n\u001b[1;32m-> 1350\u001b[1;33m             \u001b[0mvalues\u001b[0m \u001b[1;33m=\u001b[0m \u001b[0mself\u001b[0m\u001b[1;33m.\u001b[0m\u001b[0m_data\u001b[0m\u001b[1;33m.\u001b[0m\u001b[0mget\u001b[0m\u001b[1;33m(\u001b[0m\u001b[0mitem\u001b[0m\u001b[1;33m)\u001b[0m\u001b[1;33m\u001b[0m\u001b[0m\n\u001b[0m\u001b[0;32m   1351\u001b[0m             \u001b[0mres\u001b[0m \u001b[1;33m=\u001b[0m \u001b[0mself\u001b[0m\u001b[1;33m.\u001b[0m\u001b[0m_box_item_values\u001b[0m\u001b[1;33m(\u001b[0m\u001b[0mitem\u001b[0m\u001b[1;33m,\u001b[0m \u001b[0mvalues\u001b[0m\u001b[1;33m)\u001b[0m\u001b[1;33m\u001b[0m\u001b[0m\n\u001b[0;32m   1352\u001b[0m             \u001b[0mcache\u001b[0m\u001b[1;33m[\u001b[0m\u001b[0mitem\u001b[0m\u001b[1;33m]\u001b[0m \u001b[1;33m=\u001b[0m \u001b[0mres\u001b[0m\u001b[1;33m\u001b[0m\u001b[0m\n",
      "\u001b[1;32mC:\\Users\\Bruno Dratcu\\Anaconda3\\lib\\site-packages\\pandas\\core\\internals.py\u001b[0m in \u001b[0;36mget\u001b[1;34m(self, item, fastpath)\u001b[0m\n\u001b[0;32m   3288\u001b[0m \u001b[1;33m\u001b[0m\u001b[0m\n\u001b[0;32m   3289\u001b[0m             \u001b[1;32mif\u001b[0m \u001b[1;32mnot\u001b[0m \u001b[0misnull\u001b[0m\u001b[1;33m(\u001b[0m\u001b[0mitem\u001b[0m\u001b[1;33m)\u001b[0m\u001b[1;33m:\u001b[0m\u001b[1;33m\u001b[0m\u001b[0m\n\u001b[1;32m-> 3290\u001b[1;33m                 \u001b[0mloc\u001b[0m \u001b[1;33m=\u001b[0m \u001b[0mself\u001b[0m\u001b[1;33m.\u001b[0m\u001b[0mitems\u001b[0m\u001b[1;33m.\u001b[0m\u001b[0mget_loc\u001b[0m\u001b[1;33m(\u001b[0m\u001b[0mitem\u001b[0m\u001b[1;33m)\u001b[0m\u001b[1;33m\u001b[0m\u001b[0m\n\u001b[0m\u001b[0;32m   3291\u001b[0m             \u001b[1;32melse\u001b[0m\u001b[1;33m:\u001b[0m\u001b[1;33m\u001b[0m\u001b[0m\n\u001b[0;32m   3292\u001b[0m                 \u001b[0mindexer\u001b[0m \u001b[1;33m=\u001b[0m \u001b[0mnp\u001b[0m\u001b[1;33m.\u001b[0m\u001b[0marange\u001b[0m\u001b[1;33m(\u001b[0m\u001b[0mlen\u001b[0m\u001b[1;33m(\u001b[0m\u001b[0mself\u001b[0m\u001b[1;33m.\u001b[0m\u001b[0mitems\u001b[0m\u001b[1;33m)\u001b[0m\u001b[1;33m)\u001b[0m\u001b[1;33m[\u001b[0m\u001b[0misnull\u001b[0m\u001b[1;33m(\u001b[0m\u001b[0mself\u001b[0m\u001b[1;33m.\u001b[0m\u001b[0mitems\u001b[0m\u001b[1;33m)\u001b[0m\u001b[1;33m]\u001b[0m\u001b[1;33m\u001b[0m\u001b[0m\n",
      "\u001b[1;32mC:\\Users\\Bruno Dratcu\\Anaconda3\\lib\\site-packages\\pandas\\indexes\\base.py\u001b[0m in \u001b[0;36mget_loc\u001b[1;34m(self, key, method, tolerance)\u001b[0m\n\u001b[0;32m   1945\u001b[0m                 \u001b[1;32mreturn\u001b[0m \u001b[0mself\u001b[0m\u001b[1;33m.\u001b[0m\u001b[0m_engine\u001b[0m\u001b[1;33m.\u001b[0m\u001b[0mget_loc\u001b[0m\u001b[1;33m(\u001b[0m\u001b[0mkey\u001b[0m\u001b[1;33m)\u001b[0m\u001b[1;33m\u001b[0m\u001b[0m\n\u001b[0;32m   1946\u001b[0m             \u001b[1;32mexcept\u001b[0m \u001b[0mKeyError\u001b[0m\u001b[1;33m:\u001b[0m\u001b[1;33m\u001b[0m\u001b[0m\n\u001b[1;32m-> 1947\u001b[1;33m                 \u001b[1;32mreturn\u001b[0m \u001b[0mself\u001b[0m\u001b[1;33m.\u001b[0m\u001b[0m_engine\u001b[0m\u001b[1;33m.\u001b[0m\u001b[0mget_loc\u001b[0m\u001b[1;33m(\u001b[0m\u001b[0mself\u001b[0m\u001b[1;33m.\u001b[0m\u001b[0m_maybe_cast_indexer\u001b[0m\u001b[1;33m(\u001b[0m\u001b[0mkey\u001b[0m\u001b[1;33m)\u001b[0m\u001b[1;33m)\u001b[0m\u001b[1;33m\u001b[0m\u001b[0m\n\u001b[0m\u001b[0;32m   1948\u001b[0m \u001b[1;33m\u001b[0m\u001b[0m\n\u001b[0;32m   1949\u001b[0m         \u001b[0mindexer\u001b[0m \u001b[1;33m=\u001b[0m \u001b[0mself\u001b[0m\u001b[1;33m.\u001b[0m\u001b[0mget_indexer\u001b[0m\u001b[1;33m(\u001b[0m\u001b[1;33m[\u001b[0m\u001b[0mkey\u001b[0m\u001b[1;33m]\u001b[0m\u001b[1;33m,\u001b[0m \u001b[0mmethod\u001b[0m\u001b[1;33m=\u001b[0m\u001b[0mmethod\u001b[0m\u001b[1;33m,\u001b[0m \u001b[0mtolerance\u001b[0m\u001b[1;33m=\u001b[0m\u001b[0mtolerance\u001b[0m\u001b[1;33m)\u001b[0m\u001b[1;33m\u001b[0m\u001b[0m\n",
      "\u001b[1;32mpandas\\index.pyx\u001b[0m in \u001b[0;36mpandas.index.IndexEngine.get_loc (pandas\\index.c:4154)\u001b[1;34m()\u001b[0m\n",
      "\u001b[1;32mpandas\\index.pyx\u001b[0m in \u001b[0;36mpandas.index.IndexEngine.get_loc (pandas\\index.c:4018)\u001b[1;34m()\u001b[0m\n",
      "\u001b[1;32mpandas\\hashtable.pyx\u001b[0m in \u001b[0;36mpandas.hashtable.PyObjectHashTable.get_item (pandas\\hashtable.c:12368)\u001b[1;34m()\u001b[0m\n",
      "\u001b[1;32mpandas\\hashtable.pyx\u001b[0m in \u001b[0;36mpandas.hashtable.PyObjectHashTable.get_item (pandas\\hashtable.c:12322)\u001b[1;34m()\u001b[0m\n",
      "\u001b[1;31mKeyError\u001b[0m: 'domi'"
     ]
    }
   ],
   "source": [
    "domi = dados2[\"2Domicílio\"]\n",
    "dados.boxplot(column=\"dados2['2Quantidade de Cômodos']\", by='domi')\n",
    "plt.ylabel(\"Quantidade de Cômodos\")\n",
    "plt.xlabel(\"Domicílio\")"
   ]
  },
  {
   "cell_type": "code",
   "execution_count": 162,
   "metadata": {
    "collapsed": false
   },
   "outputs": [
    {
     "name": "stdout",
     "output_type": "stream",
     "text": [
      "Tabela Cruzada por total GERAL (em %):\n"
     ]
    },
    {
     "data": {
      "text/html": [
       "<div>\n",
       "<table border=\"1\" class=\"dataframe\">\n",
       "  <thead>\n",
       "    <tr style=\"text-align: right;\">\n",
       "      <th>2Material predominante das paredes do domicílio</th>\n",
       "      <th>Alvenaria</th>\n",
       "      <th>Madeira aparelhada</th>\n",
       "      <th>Taipa não revestida</th>\n",
       "      <th>Madeira aproveitada</th>\n",
       "      <th>Palha</th>\n",
       "      <th>Outro material</th>\n",
       "    </tr>\n",
       "    <tr>\n",
       "      <th>2Domicílio</th>\n",
       "      <th></th>\n",
       "      <th></th>\n",
       "      <th></th>\n",
       "      <th></th>\n",
       "      <th></th>\n",
       "      <th></th>\n",
       "    </tr>\n",
       "  </thead>\n",
       "  <tbody>\n",
       "    <tr>\n",
       "      <th>Casa</th>\n",
       "      <td>78.487591</td>\n",
       "      <td>8.267180</td>\n",
       "      <td>0.897769</td>\n",
       "      <td>0.517875</td>\n",
       "      <td>0.026879</td>\n",
       "      <td>0.227578</td>\n",
       "    </tr>\n",
       "    <tr>\n",
       "      <th>Apartamento</th>\n",
       "      <td>11.050981</td>\n",
       "      <td>0.054655</td>\n",
       "      <td>0.000000</td>\n",
       "      <td>0.000000</td>\n",
       "      <td>0.000000</td>\n",
       "      <td>0.002688</td>\n",
       "    </tr>\n",
       "    <tr>\n",
       "      <th>Cômodo</th>\n",
       "      <td>0.391542</td>\n",
       "      <td>0.043007</td>\n",
       "      <td>0.009856</td>\n",
       "      <td>0.017920</td>\n",
       "      <td>0.001792</td>\n",
       "      <td>0.002688</td>\n",
       "    </tr>\n",
       "  </tbody>\n",
       "</table>\n",
       "</div>"
      ],
      "text/plain": [
       "2Material predominante das paredes do domicílio  Alvenaria  \\\n",
       "2Domicílio                                                   \n",
       "Casa                                             78.487591   \n",
       "Apartamento                                      11.050981   \n",
       "Cômodo                                            0.391542   \n",
       "\n",
       "2Material predominante das paredes do domicílio  Madeira aparelhada  \\\n",
       "2Domicílio                                                            \n",
       "Casa                                                       8.267180   \n",
       "Apartamento                                                0.054655   \n",
       "Cômodo                                                     0.043007   \n",
       "\n",
       "2Material predominante das paredes do domicílio  Taipa não revestida  \\\n",
       "2Domicílio                                                             \n",
       "Casa                                                        0.897769   \n",
       "Apartamento                                                 0.000000   \n",
       "Cômodo                                                      0.009856   \n",
       "\n",
       "2Material predominante das paredes do domicílio  Madeira aproveitada  \\\n",
       "2Domicílio                                                             \n",
       "Casa                                                        0.517875   \n",
       "Apartamento                                                 0.000000   \n",
       "Cômodo                                                      0.017920   \n",
       "\n",
       "2Material predominante das paredes do domicílio     Palha  Outro material  \n",
       "2Domicílio                                                                 \n",
       "Casa                                             0.026879        0.227578  \n",
       "Apartamento                                      0.000000        0.002688  \n",
       "Cômodo                                           0.001792        0.002688  "
      ]
     },
     "execution_count": 162,
     "metadata": {},
     "output_type": "execute_result"
    }
   ],
   "source": [
    "c4=pd.crosstab(dados2[\"2Domicílio\"],dados2[\"2Material predominante das paredes do domicílio\"],normalize=(True))\n",
    "print('Tabela Cruzada por total GERAL (em %):')\n",
    "c44=c4*100\n",
    "c44"
   ]
  },
  {
   "cell_type": "code",
   "execution_count": 163,
   "metadata": {
    "collapsed": false
   },
   "outputs": [
    {
     "data": {
      "text/plain": [
       "<matplotlib.text.Text at 0x194d91b9630>"
      ]
     },
     "execution_count": 163,
     "metadata": {},
     "output_type": "execute_result"
    },
    {
     "data": {
      "image/png": "[encoded data removed]",
      "text/plain": [
       "<matplotlib.figure.Figure at 0x194d9183320>"
      ]
     },
     "metadata": {},
     "output_type": "display_data"
    }
   ],
   "source": [
    "c4 = pd.crosstab(dados2[\"2Domicílio\"],dados2[\"2Material predominante das paredes do domicílio\"], rownames=[\"Domicílio\"], colnames=[\"Materiais ultilizados\"])\n",
    "c4 = (c4/len(dados)*100).round(decimals=0)\n",
    "plot = c4.plot(kind='bar')\n",
    "plt.ylabel(\"Frequencia relativa (em %)\")"
   ]
  },
  {
   "cell_type": "code",
   "execution_count": 164,
   "metadata": {
    "collapsed": false
   },
   "outputs": [
    {
     "name": "stdout",
     "output_type": "stream",
     "text": [
      "Tabela Cruzada por total GERAL (em %):\n"
     ]
    },
    {
     "data": {
      "text/html": [
       "<div>\n",
       "<table border=\"1\" class=\"dataframe\">\n",
       "  <thead>\n",
       "    <tr style=\"text-align: right;\">\n",
       "      <th>2Material predominante na cobertura do domicílio</th>\n",
       "      <th>Telha</th>\n",
       "      <th>Laje de concreto</th>\n",
       "      <th>Madeira aparelhada</th>\n",
       "      <th>Zinco</th>\n",
       "      <th>Madeira aproveitada</th>\n",
       "      <th>Palha</th>\n",
       "      <th>Outro material</th>\n",
       "    </tr>\n",
       "    <tr>\n",
       "      <th>2Domicílio</th>\n",
       "      <th></th>\n",
       "      <th></th>\n",
       "      <th></th>\n",
       "      <th></th>\n",
       "      <th></th>\n",
       "      <th></th>\n",
       "      <th></th>\n",
       "    </tr>\n",
       "  </thead>\n",
       "  <tbody>\n",
       "    <tr>\n",
       "      <th>Casa</th>\n",
       "      <td>72.773945</td>\n",
       "      <td>13.000627</td>\n",
       "      <td>0.157692</td>\n",
       "      <td>1.543768</td>\n",
       "      <td>0.034047</td>\n",
       "      <td>0.505331</td>\n",
       "      <td>0.409462</td>\n",
       "    </tr>\n",
       "    <tr>\n",
       "      <th>Apartamento</th>\n",
       "      <td>1.916495</td>\n",
       "      <td>9.107607</td>\n",
       "      <td>0.014336</td>\n",
       "      <td>0.059134</td>\n",
       "      <td>0.000000</td>\n",
       "      <td>0.000000</td>\n",
       "      <td>0.010752</td>\n",
       "    </tr>\n",
       "    <tr>\n",
       "      <th>Cômodo</th>\n",
       "      <td>0.370039</td>\n",
       "      <td>0.068990</td>\n",
       "      <td>0.004480</td>\n",
       "      <td>0.015232</td>\n",
       "      <td>0.000000</td>\n",
       "      <td>0.004480</td>\n",
       "      <td>0.003584</td>\n",
       "    </tr>\n",
       "  </tbody>\n",
       "</table>\n",
       "</div>"
      ],
      "text/plain": [
       "2Material predominante na cobertura do domicílio      Telha  Laje de concreto  \\\n",
       "2Domicílio                                                                      \n",
       "Casa                                              72.773945         13.000627   \n",
       "Apartamento                                        1.916495          9.107607   \n",
       "Cômodo                                             0.370039          0.068990   \n",
       "\n",
       "2Material predominante na cobertura do domicílio  Madeira aparelhada  \\\n",
       "2Domicílio                                                             \n",
       "Casa                                                        0.157692   \n",
       "Apartamento                                                 0.014336   \n",
       "Cômodo                                                      0.004480   \n",
       "\n",
       "2Material predominante na cobertura do domicílio     Zinco  \\\n",
       "2Domicílio                                                   \n",
       "Casa                                              1.543768   \n",
       "Apartamento                                       0.059134   \n",
       "Cômodo                                            0.015232   \n",
       "\n",
       "2Material predominante na cobertura do domicílio  Madeira aproveitada  \\\n",
       "2Domicílio                                                              \n",
       "Casa                                                         0.034047   \n",
       "Apartamento                                                  0.000000   \n",
       "Cômodo                                                       0.000000   \n",
       "\n",
       "2Material predominante na cobertura do domicílio     Palha  Outro material  \n",
       "2Domicílio                                                                  \n",
       "Casa                                              0.505331        0.409462  \n",
       "Apartamento                                       0.000000        0.010752  \n",
       "Cômodo                                            0.004480        0.003584  "
      ]
     },
     "execution_count": 164,
     "metadata": {},
     "output_type": "execute_result"
    }
   ],
   "source": [
    "c5=pd.crosstab(dados2[\"2Domicílio\"],dados2[\"2Material predominante na cobertura do domicílio\"],normalize=(True))\n",
    "print('Tabela Cruzada por total GERAL (em %):')\n",
    "c55=c5*100\n",
    "c55"
   ]
  },
  {
   "cell_type": "code",
   "execution_count": 165,
   "metadata": {
    "collapsed": false
   },
   "outputs": [
    {
     "data": {
      "text/plain": [
       "<matplotlib.text.Text at 0x194d939e358>"
      ]
     },
     "execution_count": 165,
     "metadata": {},
     "output_type": "execute_result"
    },
    {
     "data": {
      "image/png": "[encoded data removed]",
      "text/plain": [
       "<matplotlib.figure.Figure at 0x194d934ffd0>"
      ]
     },
     "metadata": {},
     "output_type": "display_data"
    }
   ],
   "source": [
    "c5 = pd.crosstab(dados2[\"2Domicílio\"],dados2[\"2Material predominante na cobertura do domicílio\"], rownames=[\"Domicílio\"], colnames=[\"Materiais ultilizados\"])\n",
    "c5 = (c5/len(dados)*100).round(decimals=0)\n",
    "plot = c5.plot(kind='bar')\n",
    "plt.ylabel(\"Frequencia relativa (em %)\")"
   ]
  },
  {
   "cell_type": "code",
   "execution_count": null,
   "metadata": {
    "collapsed": true
   },
   "outputs": [],
   "source": []
  },
  {
   "cell_type": "code",
   "execution_count": null,
   "metadata": {
    "collapsed": true
   },
   "outputs": [],
   "source": []
  },
  {
   "cell_type": "code",
   "execution_count": 171,
   "metadata": {
    "collapsed": false
   },
   "outputs": [
    {
     "ename": "TypeError",
     "evalue": "unsupported operand type(s) for /: 'str' and 'int'",
     "output_type": "error",
     "traceback": [
      "\u001b[1;31m---------------------------------------------------------------------------\u001b[0m",
      "\u001b[1;31mTypeError\u001b[0m                                 Traceback (most recent call last)",
      "\u001b[1;32m<ipython-input-171-9c5a39289daf>\u001b[0m in \u001b[0;36m<module>\u001b[1;34m()\u001b[0m\n\u001b[1;32m----> 1\u001b[1;33m \u001b[0mdados\u001b[0m\u001b[1;33m.\u001b[0m\u001b[0mboxplot\u001b[0m\u001b[1;33m(\u001b[0m\u001b[0mcolumn\u001b[0m \u001b[1;33m=\u001b[0m \u001b[1;34m\"Material predominante das paredes do domicílio\"\u001b[0m\u001b[1;33m,\u001b[0m \u001b[0mby\u001b[0m \u001b[1;33m=\u001b[0m \u001b[1;34m'Quantidade de Cômodos'\u001b[0m\u001b[1;33m)\u001b[0m\u001b[1;33m\u001b[0m\u001b[0m\n\u001b[0m",
      "\u001b[1;32mC:\\Users\\Bruno Dratcu\\Anaconda3\\lib\\site-packages\\pandas\\core\\frame.py\u001b[0m in \u001b[0;36mboxplot\u001b[1;34m(self, column, by, ax, fontsize, rot, grid, figsize, layout, return_type, **kwds)\u001b[0m\n\u001b[0;32m   5579\u001b[0m     ax = plots.boxplot(self, column=column, by=by, ax=ax, fontsize=fontsize,\n\u001b[0;32m   5580\u001b[0m                        \u001b[0mgrid\u001b[0m\u001b[1;33m=\u001b[0m\u001b[0mgrid\u001b[0m\u001b[1;33m,\u001b[0m \u001b[0mrot\u001b[0m\u001b[1;33m=\u001b[0m\u001b[0mrot\u001b[0m\u001b[1;33m,\u001b[0m \u001b[0mfigsize\u001b[0m\u001b[1;33m=\u001b[0m\u001b[0mfigsize\u001b[0m\u001b[1;33m,\u001b[0m \u001b[0mlayout\u001b[0m\u001b[1;33m=\u001b[0m\u001b[0mlayout\u001b[0m\u001b[1;33m,\u001b[0m\u001b[1;33m\u001b[0m\u001b[0m\n\u001b[1;32m-> 5581\u001b[1;33m                        return_type=return_type, **kwds)\n\u001b[0m\u001b[0;32m   5582\u001b[0m     \u001b[0mplt\u001b[0m\u001b[1;33m.\u001b[0m\u001b[0mdraw_if_interactive\u001b[0m\u001b[1;33m(\u001b[0m\u001b[1;33m)\u001b[0m\u001b[1;33m\u001b[0m\u001b[0m\n\u001b[0;32m   5583\u001b[0m     \u001b[1;32mreturn\u001b[0m \u001b[0max\u001b[0m\u001b[1;33m\u001b[0m\u001b[0m\n",
      "\u001b[1;32mC:\\Users\\Bruno Dratcu\\Anaconda3\\lib\\site-packages\\pandas\\tools\\plotting.py\u001b[0m in \u001b[0;36mboxplot\u001b[1;34m(data, column, by, ax, fontsize, rot, grid, figsize, layout, return_type, **kwds)\u001b[0m\n\u001b[0;32m   2745\u001b[0m                                          \u001b[0mby\u001b[0m\u001b[1;33m=\u001b[0m\u001b[0mby\u001b[0m\u001b[1;33m,\u001b[0m \u001b[0mgrid\u001b[0m\u001b[1;33m=\u001b[0m\u001b[0mgrid\u001b[0m\u001b[1;33m,\u001b[0m \u001b[0mfigsize\u001b[0m\u001b[1;33m=\u001b[0m\u001b[0mfigsize\u001b[0m\u001b[1;33m,\u001b[0m\u001b[1;33m\u001b[0m\u001b[0m\n\u001b[0;32m   2746\u001b[0m                                          \u001b[0max\u001b[0m\u001b[1;33m=\u001b[0m\u001b[0max\u001b[0m\u001b[1;33m,\u001b[0m \u001b[0mlayout\u001b[0m\u001b[1;33m=\u001b[0m\u001b[0mlayout\u001b[0m\u001b[1;33m,\u001b[0m\u001b[1;33m\u001b[0m\u001b[0m\n\u001b[1;32m-> 2747\u001b[1;33m                                          return_type=return_type)\n\u001b[0m\u001b[0;32m   2748\u001b[0m     \u001b[1;32melse\u001b[0m\u001b[1;33m:\u001b[0m\u001b[1;33m\u001b[0m\u001b[0m\n\u001b[0;32m   2749\u001b[0m         \u001b[1;32mif\u001b[0m \u001b[0mlayout\u001b[0m \u001b[1;32mis\u001b[0m \u001b[1;32mnot\u001b[0m \u001b[1;32mNone\u001b[0m\u001b[1;33m:\u001b[0m\u001b[1;33m\u001b[0m\u001b[0m\n",
      "\u001b[1;32mC:\\Users\\Bruno Dratcu\\Anaconda3\\lib\\site-packages\\pandas\\tools\\plotting.py\u001b[0m in \u001b[0;36m_grouped_plot_by_column\u001b[1;34m(plotf, data, columns, by, numeric_only, grid, figsize, ax, layout, return_type, **kwargs)\u001b[0m\n\u001b[0;32m   3153\u001b[0m         \u001b[0mgp_col\u001b[0m \u001b[1;33m=\u001b[0m \u001b[0mgrouped\u001b[0m\u001b[1;33m[\u001b[0m\u001b[0mcol\u001b[0m\u001b[1;33m]\u001b[0m\u001b[1;33m\u001b[0m\u001b[0m\n\u001b[0;32m   3154\u001b[0m         \u001b[0mkeys\u001b[0m\u001b[1;33m,\u001b[0m \u001b[0mvalues\u001b[0m \u001b[1;33m=\u001b[0m \u001b[0mzip\u001b[0m\u001b[1;33m(\u001b[0m\u001b[1;33m*\u001b[0m\u001b[0mgp_col\u001b[0m\u001b[1;33m)\u001b[0m\u001b[1;33m\u001b[0m\u001b[0m\n\u001b[1;32m-> 3155\u001b[1;33m         \u001b[0mre_plotf\u001b[0m \u001b[1;33m=\u001b[0m \u001b[0mplotf\u001b[0m\u001b[1;33m(\u001b[0m\u001b[0mkeys\u001b[0m\u001b[1;33m,\u001b[0m \u001b[0mvalues\u001b[0m\u001b[1;33m,\u001b[0m \u001b[0max\u001b[0m\u001b[1;33m,\u001b[0m \u001b[1;33m**\u001b[0m\u001b[0mkwargs\u001b[0m\u001b[1;33m)\u001b[0m\u001b[1;33m\u001b[0m\u001b[0m\n\u001b[0m\u001b[0;32m   3156\u001b[0m         \u001b[0max\u001b[0m\u001b[1;33m.\u001b[0m\u001b[0mset_title\u001b[0m\u001b[1;33m(\u001b[0m\u001b[0mcol\u001b[0m\u001b[1;33m)\u001b[0m\u001b[1;33m\u001b[0m\u001b[0m\n\u001b[0;32m   3157\u001b[0m         \u001b[0max\u001b[0m\u001b[1;33m.\u001b[0m\u001b[0mset_xlabel\u001b[0m\u001b[1;33m(\u001b[0m\u001b[0mpprint_thing\u001b[0m\u001b[1;33m(\u001b[0m\u001b[0mby\u001b[0m\u001b[1;33m)\u001b[0m\u001b[1;33m)\u001b[0m\u001b[1;33m\u001b[0m\u001b[0m\n",
      "\u001b[1;32mC:\\Users\\Bruno Dratcu\\Anaconda3\\lib\\site-packages\\pandas\\tools\\plotting.py\u001b[0m in \u001b[0;36mplot_group\u001b[1;34m(keys, values, ax)\u001b[0m\n\u001b[0;32m   2717\u001b[0m         \u001b[0mkeys\u001b[0m \u001b[1;33m=\u001b[0m \u001b[1;33m[\u001b[0m\u001b[0mpprint_thing\u001b[0m\u001b[1;33m(\u001b[0m\u001b[0mx\u001b[0m\u001b[1;33m)\u001b[0m \u001b[1;32mfor\u001b[0m \u001b[0mx\u001b[0m \u001b[1;32min\u001b[0m \u001b[0mkeys\u001b[0m\u001b[1;33m]\u001b[0m\u001b[1;33m\u001b[0m\u001b[0m\n\u001b[0;32m   2718\u001b[0m         \u001b[0mvalues\u001b[0m \u001b[1;33m=\u001b[0m \u001b[1;33m[\u001b[0m\u001b[0mremove_na\u001b[0m\u001b[1;33m(\u001b[0m\u001b[0mv\u001b[0m\u001b[1;33m)\u001b[0m \u001b[1;32mfor\u001b[0m \u001b[0mv\u001b[0m \u001b[1;32min\u001b[0m \u001b[0mvalues\u001b[0m\u001b[1;33m]\u001b[0m\u001b[1;33m\u001b[0m\u001b[0m\n\u001b[1;32m-> 2719\u001b[1;33m         \u001b[0mbp\u001b[0m \u001b[1;33m=\u001b[0m \u001b[0max\u001b[0m\u001b[1;33m.\u001b[0m\u001b[0mboxplot\u001b[0m\u001b[1;33m(\u001b[0m\u001b[0mvalues\u001b[0m\u001b[1;33m,\u001b[0m \u001b[1;33m**\u001b[0m\u001b[0mkwds\u001b[0m\u001b[1;33m)\u001b[0m\u001b[1;33m\u001b[0m\u001b[0m\n\u001b[0m\u001b[0;32m   2720\u001b[0m         \u001b[1;32mif\u001b[0m \u001b[0mkwds\u001b[0m\u001b[1;33m.\u001b[0m\u001b[0mget\u001b[0m\u001b[1;33m(\u001b[0m\u001b[1;34m'vert'\u001b[0m\u001b[1;33m,\u001b[0m \u001b[1;36m1\u001b[0m\u001b[1;33m)\u001b[0m\u001b[1;33m:\u001b[0m\u001b[1;33m\u001b[0m\u001b[0m\n\u001b[0;32m   2721\u001b[0m             \u001b[0max\u001b[0m\u001b[1;33m.\u001b[0m\u001b[0mset_xticklabels\u001b[0m\u001b[1;33m(\u001b[0m\u001b[0mkeys\u001b[0m\u001b[1;33m,\u001b[0m \u001b[0mrotation\u001b[0m\u001b[1;33m=\u001b[0m\u001b[0mrot\u001b[0m\u001b[1;33m,\u001b[0m \u001b[0mfontsize\u001b[0m\u001b[1;33m=\u001b[0m\u001b[0mfontsize\u001b[0m\u001b[1;33m)\u001b[0m\u001b[1;33m\u001b[0m\u001b[0m\n",
      "\u001b[1;32mC:\\Users\\Bruno Dratcu\\Anaconda3\\lib\\site-packages\\matplotlib\\__init__.py\u001b[0m in \u001b[0;36minner\u001b[1;34m(ax, *args, **kwargs)\u001b[0m\n\u001b[0;32m   1809\u001b[0m                     warnings.warn(msg % (label_namer, func.__name__),\n\u001b[0;32m   1810\u001b[0m                                   RuntimeWarning, stacklevel=2)\n\u001b[1;32m-> 1811\u001b[1;33m             \u001b[1;32mreturn\u001b[0m \u001b[0mfunc\u001b[0m\u001b[1;33m(\u001b[0m\u001b[0max\u001b[0m\u001b[1;33m,\u001b[0m \u001b[1;33m*\u001b[0m\u001b[0margs\u001b[0m\u001b[1;33m,\u001b[0m \u001b[1;33m**\u001b[0m\u001b[0mkwargs\u001b[0m\u001b[1;33m)\u001b[0m\u001b[1;33m\u001b[0m\u001b[0m\n\u001b[0m\u001b[0;32m   1812\u001b[0m         \u001b[0mpre_doc\u001b[0m \u001b[1;33m=\u001b[0m \u001b[0minner\u001b[0m\u001b[1;33m.\u001b[0m\u001b[0m__doc__\u001b[0m\u001b[1;33m\u001b[0m\u001b[0m\n\u001b[0;32m   1813\u001b[0m         \u001b[1;32mif\u001b[0m \u001b[0mpre_doc\u001b[0m \u001b[1;32mis\u001b[0m \u001b[1;32mNone\u001b[0m\u001b[1;33m:\u001b[0m\u001b[1;33m\u001b[0m\u001b[0m\n",
      "\u001b[1;32mC:\\Users\\Bruno Dratcu\\Anaconda3\\lib\\site-packages\\matplotlib\\axes\\_axes.py\u001b[0m in \u001b[0;36mboxplot\u001b[1;34m(self, x, notch, sym, vert, whis, positions, widths, patch_artist, bootstrap, usermedians, conf_intervals, meanline, showmeans, showcaps, showbox, showfliers, boxprops, labels, flierprops, medianprops, meanprops, capprops, whiskerprops, manage_xticks)\u001b[0m\n\u001b[0;32m   3210\u001b[0m             \u001b[0mbootstrap\u001b[0m \u001b[1;33m=\u001b[0m \u001b[0mrcParams\u001b[0m\u001b[1;33m[\u001b[0m\u001b[1;34m'boxplot.bootstrap'\u001b[0m\u001b[1;33m]\u001b[0m\u001b[1;33m\u001b[0m\u001b[0m\n\u001b[0;32m   3211\u001b[0m         bxpstats = cbook.boxplot_stats(x, whis=whis, bootstrap=bootstrap,\n\u001b[1;32m-> 3212\u001b[1;33m                                        labels=labels)\n\u001b[0m\u001b[0;32m   3213\u001b[0m         \u001b[1;32mif\u001b[0m \u001b[0mnotch\u001b[0m \u001b[1;32mis\u001b[0m \u001b[1;32mNone\u001b[0m\u001b[1;33m:\u001b[0m\u001b[1;33m\u001b[0m\u001b[0m\n\u001b[0;32m   3214\u001b[0m             \u001b[0mnotch\u001b[0m \u001b[1;33m=\u001b[0m \u001b[0mrcParams\u001b[0m\u001b[1;33m[\u001b[0m\u001b[1;34m'boxplot.notch'\u001b[0m\u001b[1;33m]\u001b[0m\u001b[1;33m\u001b[0m\u001b[0m\n",
      "\u001b[1;32mC:\\Users\\Bruno Dratcu\\Anaconda3\\lib\\site-packages\\matplotlib\\cbook.py\u001b[0m in \u001b[0;36mboxplot_stats\u001b[1;34m(X, whis, bootstrap, labels)\u001b[0m\n\u001b[0;32m   2018\u001b[0m \u001b[1;33m\u001b[0m\u001b[0m\n\u001b[0;32m   2019\u001b[0m         \u001b[1;31m# arithmetic mean\u001b[0m\u001b[1;33m\u001b[0m\u001b[1;33m\u001b[0m\u001b[0m\n\u001b[1;32m-> 2020\u001b[1;33m         \u001b[0mstats\u001b[0m\u001b[1;33m[\u001b[0m\u001b[1;34m'mean'\u001b[0m\u001b[1;33m]\u001b[0m \u001b[1;33m=\u001b[0m \u001b[0mnp\u001b[0m\u001b[1;33m.\u001b[0m\u001b[0mmean\u001b[0m\u001b[1;33m(\u001b[0m\u001b[0mx\u001b[0m\u001b[1;33m)\u001b[0m\u001b[1;33m\u001b[0m\u001b[0m\n\u001b[0m\u001b[0;32m   2021\u001b[0m \u001b[1;33m\u001b[0m\u001b[0m\n\u001b[0;32m   2022\u001b[0m         \u001b[1;31m# medians and quartiles\u001b[0m\u001b[1;33m\u001b[0m\u001b[1;33m\u001b[0m\u001b[0m\n",
      "\u001b[1;32mC:\\Users\\Bruno Dratcu\\Anaconda3\\lib\\site-packages\\numpy\\core\\fromnumeric.py\u001b[0m in \u001b[0;36mmean\u001b[1;34m(a, axis, dtype, out, keepdims)\u001b[0m\n\u001b[0;32m   2876\u001b[0m \u001b[1;33m\u001b[0m\u001b[0m\n\u001b[0;32m   2877\u001b[0m     return _methods._mean(a, axis=axis, dtype=dtype,\n\u001b[1;32m-> 2878\u001b[1;33m                           out=out, keepdims=keepdims)\n\u001b[0m\u001b[0;32m   2879\u001b[0m \u001b[1;33m\u001b[0m\u001b[0m\n\u001b[0;32m   2880\u001b[0m \u001b[1;33m\u001b[0m\u001b[0m\n",
      "\u001b[1;32mC:\\Users\\Bruno Dratcu\\Anaconda3\\lib\\site-packages\\numpy\\core\\_methods.py\u001b[0m in \u001b[0;36m_mean\u001b[1;34m(a, axis, dtype, out, keepdims)\u001b[0m\n\u001b[0;32m     70\u001b[0m         \u001b[0mret\u001b[0m \u001b[1;33m=\u001b[0m \u001b[0mret\u001b[0m\u001b[1;33m.\u001b[0m\u001b[0mdtype\u001b[0m\u001b[1;33m.\u001b[0m\u001b[0mtype\u001b[0m\u001b[1;33m(\u001b[0m\u001b[0mret\u001b[0m \u001b[1;33m/\u001b[0m \u001b[0mrcount\u001b[0m\u001b[1;33m)\u001b[0m\u001b[1;33m\u001b[0m\u001b[0m\n\u001b[0;32m     71\u001b[0m     \u001b[1;32melse\u001b[0m\u001b[1;33m:\u001b[0m\u001b[1;33m\u001b[0m\u001b[0m\n\u001b[1;32m---> 72\u001b[1;33m         \u001b[0mret\u001b[0m \u001b[1;33m=\u001b[0m \u001b[0mret\u001b[0m \u001b[1;33m/\u001b[0m \u001b[0mrcount\u001b[0m\u001b[1;33m\u001b[0m\u001b[0m\n\u001b[0m\u001b[0;32m     73\u001b[0m \u001b[1;33m\u001b[0m\u001b[0m\n\u001b[0;32m     74\u001b[0m     \u001b[1;32mreturn\u001b[0m \u001b[0mret\u001b[0m\u001b[1;33m\u001b[0m\u001b[0m\n",
      "\u001b[1;31mTypeError\u001b[0m: unsupported operand type(s) for /: 'str' and 'int'"
     ]
    },
    {
     "data": {
      "image/png": "[encoded data removed]",
      "text/plain": [
       "<matplotlib.figure.Figure at 0x194db0dc710>"
      ]
     },
     "metadata": {},
     "output_type": "display_data"
    }
   ],
   "source": [
    "dados.boxplot(column = \"Material predominante das paredes do domicílio\", by = 'Quantidade de Cômodos')"
   ]
  },
  {
   "cell_type": "code",
   "execution_count": 78,
   "metadata": {
    "collapsed": false
   },
   "outputs": [
    {
     "data": {
      "image/png": "[encoded data removed]",
      "text/plain": [
       "<matplotlib.figure.Figure at 0x194d109ca58>"
      ]
     },
     "metadata": {},
     "output_type": "display_data"
    }
   ],
   "source": [
    "matriz = plt.figure(figsize=(10,10))\n",
    "\n",
    "plt.subplot(311)\n",
    "plt.scatter(dados[\"Rendimento mensal\"], dados[\"Quantidade de Cômodos\"], c=\"g\", alpha=0.9)\n",
    "plt.title(\"Renda por cômodos\")\n",
    "plt.xlabel(\"Cômodo\")\n",
    "plt.ylabel(\"Salario (em reais)\")\n",
    "\n",
    "plt.subplot(312)\n",
    "plt.scatter(dados[\"Rendimento mensal\"], dados[\"Quantidade de banheiros\"], c=\"r\", alpha=0.5)\n",
    "plt.title(\"Renda por banheiros\")\n",
    "plt.xlabel(\"Banheiros\")\n",
    "plt.ylabel(\"Salario (em reais)\")\n",
    "\n",
    "plt.subplot(313)\n",
    "plt.scatter(dados[\"Quantidade de banheiros\"], dados[\"Quantidade de Cômodos\"], c=\"b\", alpha=0.8)\n",
    "plt.title(\"Cômodos por banheiros\")\n",
    "plt.xlabel(\"Banheiros\")\n",
    "plt.ylabel(\"Cômodos\")\n",
    "\n",
    "plt.tight_layout()\n",
    "plt.show()"
   ]
  },
  {
   "cell_type": "code",
   "execution_count": 68,
   "metadata": {
    "collapsed": false
   },
   "outputs": [
    {
     "data": {
      "image/png": "[encoded data removed]",
      "text/plain": [
       "<matplotlib.figure.Figure at 0x194d109b4e0>"
      ]
     },
     "metadata": {},
     "output_type": "display_data"
    }
   ],
   "source": [
    "#faixa = arange(0,6000,200)\n",
    "\n",
    "plot = renda_norte.plot.hist(bins=10, normed=1, color=\"c\")\n",
    "plt.title(\"Renda do Norte\")\n",
    "plt.xlabel(\"Renda (em Reais)\")\n",
    "plt.ylabel(\"Frequência relativa\")\n",
    "plt.show()"
   ]
  },
  {
   "cell_type": "code",
   "execution_count": null,
   "metadata": {
    "collapsed": true
   },
   "outputs": [],
   "source": []
  },
  {
   "cell_type": "code",
   "execution_count": null,
   "metadata": {
    "collapsed": true
   },
   "outputs": [],
   "source": []
  },
  {
   "cell_type": "code",
   "execution_count": null,
   "metadata": {
    "collapsed": true
   },
   "outputs": [],
   "source": []
  },
  {
   "cell_type": "code",
   "execution_count": null,
   "metadata": {
    "collapsed": true
   },
   "outputs": [],
   "source": []
  },
  {
   "cell_type": "code",
   "execution_count": null,
   "metadata": {
    "collapsed": true
   },
   "outputs": [],
   "source": []
  },
  {
   "cell_type": "markdown",
   "metadata": {
    "collapsed": false
   },
   "source": [
    "___\n",
    "## Conclusão "
   ]
  },
  {
   "cell_type": "markdown",
   "metadata": {
    "collapsed": true
   },
   "source": [
    "Descreva aqui suas conclusões!"
   ]
  },
  {
   "cell_type": "code",
   "execution_count": null,
   "metadata": {
    "collapsed": true
   },
   "outputs": [],
   "source": []
  }
 ],
 "metadata": {
  "anaconda-cloud": {},
  "kernelspec": {
   "display_name": "Python 3",
   "language": "python",
   "name": "python3"
  },
  "language_info": {
   "codemirror_mode": {
    "name": "ipython",
    "version": 3
   },
   "file_extension": ".py",
   "mimetype": "text/x-python",
   "name": "python",
   "nbconvert_exporter": "python",
   "pygments_lexer": "ipython3",
   "version": "3.5.2"
  }
 },
 "nbformat": 4,
 "nbformat_minor": 0
}
