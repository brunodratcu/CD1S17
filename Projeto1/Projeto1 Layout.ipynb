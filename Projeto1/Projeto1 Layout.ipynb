{
 "cells": [
  {
   "cell_type": "markdown",
   "metadata": {},
   "source": [
    "___\n",
    "# PROJETO 1"
   ]
  },
  {
   "cell_type": "markdown",
   "metadata": {},
   "source": [
    "## Bruno Dratcu\n",
    "___"
   ]
  },
  {
   "cell_type": "markdown",
   "metadata": {},
   "source": [
    "## TÍTULO DO SEU PROJETO"
   ]
  },
  {
   "cell_type": "markdown",
   "metadata": {},
   "source": [
    "___\n",
    "## Introdução\n",
    "\n",
    "Descreva aqui o que pretende analisar!\n",
    "\n",
    "Capriche no português!! \n",
    "Se quiser pode utilizar pesquisas semelhantes publicadas em sites confiáveis!!\n"
   ]
  },
  {
   "cell_type": "code",
   "execution_count": 1,
   "metadata": {
    "collapsed": false
   },
   "outputs": [
    {
     "ename": "SyntaxError",
     "evalue": "invalid syntax (<ipython-input-1-c74504a897c6>, line 1)",
     "output_type": "error",
     "traceback": [
      "\u001b[1;36m  File \u001b[1;32m\"<ipython-input-1-c74504a897c6>\"\u001b[1;36m, line \u001b[1;32m1\u001b[0m\n\u001b[1;33m    UF = unidade de federação\u001b[0m\n\u001b[1;37m                  ^\u001b[0m\n\u001b[1;31mSyntaxError\u001b[0m\u001b[1;31m:\u001b[0m invalid syntax\n"
     ]
    }
   ],
   "source": [
    "UF = unidade de federação \n",
    "\n",
    "V0202 = tipo do domicilio (2 = casa, 4 = apartamento, 6 = comodo)\n",
    "V0205 = numero de comodos do domicilio\n",
    "V4620 = numero de componentes do domicilio\n",
    "\n",
    "V0207 = condição de ocupação do domicilio (1=proprio-ja pago, 2=proprio-ainda pagando, 3=alugado, 4=cedido por empregador, 5=cedido de outra forma, 6=outra condição)\n",
    "V4621 = rendimento mensal domiciliar per capita\n",
    "\n",
    "V02322 = tem acesso a internet no proprio domicilio (2 = sim, 4 = nao)\n",
    "\n",
    "V0215 = tem banheiro no domicilio (1=sim, 3=nao)\n",
    "V2016 = numero de banheiros \n",
    "V0217 = forma de escoadouro do banheiro\n",
    "V0212 = proveniencia da agua canalizada (2=rede de distribuição, 4=poço ou nascente, 6=outros)\n",
    "\n",
    "\n",
    "\n"
   ]
  },
  {
   "cell_type": "markdown",
   "metadata": {},
   "source": [
    "___\n",
    "## Análise e Resultados"
   ]
  },
  {
   "cell_type": "code",
   "execution_count": 1,
   "metadata": {
    "collapsed": true
   },
   "outputs": [],
   "source": [
    "%matplotlib inline\n",
    "import pandas as pd\n",
    "import matplotlib.pyplot as plt\n",
    "import numpy as np\n",
    "import os"
   ]
  },
  {
   "cell_type": "code",
   "execution_count": 2,
   "metadata": {
    "collapsed": false
   },
   "outputs": [
    {
     "name": "stdout",
     "output_type": "stream",
     "text": [
      "Esperamos trabalhar no diretório\n",
      "C:\\Users\\Bruno Dratcu\\Desktop\\2o DP\\CD\\CD1S17\\Projeto1\n"
     ]
    }
   ],
   "source": [
    "print('Esperamos trabalhar no diretório')\n",
    "print(os.getcwd())"
   ]
  },
  {
   "cell_type": "code",
   "execution_count": 3,
   "metadata": {
    "collapsed": true
   },
   "outputs": [],
   "source": [
    "dados2015=pd.read_csv('DOM2015.csv',sep=',')"
   ]
  },
  {
   "cell_type": "code",
   "execution_count": 4,
   "metadata": {
    "collapsed": false
   },
   "outputs": [
    {
     "data": {
      "text/html": [
       "<div>\n",
       "<table border=\"1\" class=\"dataframe\">\n",
       "  <thead>\n",
       "    <tr style=\"text-align: right;\">\n",
       "      <th></th>\n",
       "      <th>Unnamed: 0</th>\n",
       "      <th>V0101</th>\n",
       "      <th>UF</th>\n",
       "      <th>V0102</th>\n",
       "      <th>V0103</th>\n",
       "      <th>V0104</th>\n",
       "      <th>V0105</th>\n",
       "      <th>V0106</th>\n",
       "      <th>V0201</th>\n",
       "      <th>V0202</th>\n",
       "      <th>...</th>\n",
       "      <th>V4611</th>\n",
       "      <th>V4614</th>\n",
       "      <th>UPA</th>\n",
       "      <th>V4617</th>\n",
       "      <th>V4618</th>\n",
       "      <th>V4620</th>\n",
       "      <th>V4621</th>\n",
       "      <th>V4622</th>\n",
       "      <th>V4624</th>\n",
       "      <th>V9992</th>\n",
       "    </tr>\n",
       "  </thead>\n",
       "  <tbody>\n",
       "    <tr>\n",
       "      <th>0</th>\n",
       "      <td>0</td>\n",
       "      <td>2015</td>\n",
       "      <td>11</td>\n",
       "      <td>15</td>\n",
       "      <td>1</td>\n",
       "      <td>1</td>\n",
       "      <td>1.0</td>\n",
       "      <td>1.0</td>\n",
       "      <td>1.0</td>\n",
       "      <td>4.0</td>\n",
       "      <td>...</td>\n",
       "      <td>270.0</td>\n",
       "      <td>800.0</td>\n",
       "      <td>191</td>\n",
       "      <td>110001</td>\n",
       "      <td>1</td>\n",
       "      <td>1.0</td>\n",
       "      <td>800.0</td>\n",
       "      <td>4.0</td>\n",
       "      <td>1.0</td>\n",
       "      <td>20161104</td>\n",
       "    </tr>\n",
       "    <tr>\n",
       "      <th>1</th>\n",
       "      <td>1</td>\n",
       "      <td>2015</td>\n",
       "      <td>11</td>\n",
       "      <td>15</td>\n",
       "      <td>2</td>\n",
       "      <td>6</td>\n",
       "      <td>NaN</td>\n",
       "      <td>NaN</td>\n",
       "      <td>NaN</td>\n",
       "      <td>NaN</td>\n",
       "      <td>...</td>\n",
       "      <td>NaN</td>\n",
       "      <td>NaN</td>\n",
       "      <td>191</td>\n",
       "      <td>110001</td>\n",
       "      <td>1</td>\n",
       "      <td>NaN</td>\n",
       "      <td>NaN</td>\n",
       "      <td>NaN</td>\n",
       "      <td>NaN</td>\n",
       "      <td>20161104</td>\n",
       "    </tr>\n",
       "    <tr>\n",
       "      <th>2</th>\n",
       "      <td>2</td>\n",
       "      <td>2015</td>\n",
       "      <td>11</td>\n",
       "      <td>15</td>\n",
       "      <td>3</td>\n",
       "      <td>1</td>\n",
       "      <td>1.0</td>\n",
       "      <td>1.0</td>\n",
       "      <td>1.0</td>\n",
       "      <td>4.0</td>\n",
       "      <td>...</td>\n",
       "      <td>270.0</td>\n",
       "      <td>1150.0</td>\n",
       "      <td>191</td>\n",
       "      <td>110001</td>\n",
       "      <td>1</td>\n",
       "      <td>1.0</td>\n",
       "      <td>1150.0</td>\n",
       "      <td>4.0</td>\n",
       "      <td>1.0</td>\n",
       "      <td>20161104</td>\n",
       "    </tr>\n",
       "    <tr>\n",
       "      <th>3</th>\n",
       "      <td>3</td>\n",
       "      <td>2015</td>\n",
       "      <td>11</td>\n",
       "      <td>15</td>\n",
       "      <td>4</td>\n",
       "      <td>1</td>\n",
       "      <td>6.0</td>\n",
       "      <td>4.0</td>\n",
       "      <td>1.0</td>\n",
       "      <td>2.0</td>\n",
       "      <td>...</td>\n",
       "      <td>270.0</td>\n",
       "      <td>4760.0</td>\n",
       "      <td>191</td>\n",
       "      <td>110001</td>\n",
       "      <td>1</td>\n",
       "      <td>6.0</td>\n",
       "      <td>793.0</td>\n",
       "      <td>4.0</td>\n",
       "      <td>2.0</td>\n",
       "      <td>20161104</td>\n",
       "    </tr>\n",
       "    <tr>\n",
       "      <th>4</th>\n",
       "      <td>4</td>\n",
       "      <td>2015</td>\n",
       "      <td>11</td>\n",
       "      <td>15</td>\n",
       "      <td>5</td>\n",
       "      <td>1</td>\n",
       "      <td>2.0</td>\n",
       "      <td>2.0</td>\n",
       "      <td>1.0</td>\n",
       "      <td>2.0</td>\n",
       "      <td>...</td>\n",
       "      <td>271.0</td>\n",
       "      <td>5800.0</td>\n",
       "      <td>191</td>\n",
       "      <td>110001</td>\n",
       "      <td>1</td>\n",
       "      <td>2.0</td>\n",
       "      <td>2900.0</td>\n",
       "      <td>6.0</td>\n",
       "      <td>2.0</td>\n",
       "      <td>20161104</td>\n",
       "    </tr>\n",
       "  </tbody>\n",
       "</table>\n",
       "<p>5 rows × 81 columns</p>\n",
       "</div>"
      ],
      "text/plain": [
       "   Unnamed: 0  V0101  UF  V0102  V0103  V0104  V0105  V0106  V0201  V0202  \\\n",
       "0           0   2015  11     15      1      1    1.0    1.0    1.0    4.0   \n",
       "1           1   2015  11     15      2      6    NaN    NaN    NaN    NaN   \n",
       "2           2   2015  11     15      3      1    1.0    1.0    1.0    4.0   \n",
       "3           3   2015  11     15      4      1    6.0    4.0    1.0    2.0   \n",
       "4           4   2015  11     15      5      1    2.0    2.0    1.0    2.0   \n",
       "\n",
       "     ...     V4611   V4614  UPA     V4617  V4618  V4620   V4621  V4622  V4624  \\\n",
       "0    ...     270.0   800.0    191  110001      1    1.0   800.0    4.0    1.0   \n",
       "1    ...       NaN     NaN    191  110001      1    NaN     NaN    NaN    NaN   \n",
       "2    ...     270.0  1150.0    191  110001      1    1.0  1150.0    4.0    1.0   \n",
       "3    ...     270.0  4760.0    191  110001      1    6.0   793.0    4.0    2.0   \n",
       "4    ...     271.0  5800.0    191  110001      1    2.0  2900.0    6.0    2.0   \n",
       "\n",
       "      V9992  \n",
       "0  20161104  \n",
       "1  20161104  \n",
       "2  20161104  \n",
       "3  20161104  \n",
       "4  20161104  \n",
       "\n",
       "[5 rows x 81 columns]"
      ]
     },
     "execution_count": 4,
     "metadata": {},
     "output_type": "execute_result"
    }
   ],
   "source": [
    "dados2015.head()"
   ]
  },
  {
   "cell_type": "code",
   "execution_count": null,
   "metadata": {
    "collapsed": true
   },
   "outputs": [],
   "source": [
    "dados = dados2015.iloc[:,[\"UF\",\"V0202\",\"V0205\",\n",
    "                          \"V0207\",\"V4621\",\"V2015\",\n",
    "                          \"V0216\",\"V0217\",\"V0212\"]]"
   ]
  },
  {
   "cell_type": "code",
   "execution_count": 6,
   "metadata": {
    "collapsed": false
   },
   "outputs": [],
   "source": [
    "dados = pd.DataFrame()\n",
    "\n",
    "dados[\"Domicílio\"] = dados2015.V0202\n",
    "dados[\"Quantidade de Cômodos\"] = dados2015.V0205\n",
    "dados[\"Condição de ocupação\"] = dados2015.V0207\n",
    "dados[\"Rendimento mensal\"] = dados2015.V4621\n",
    "dados[\"Banheiro/sanitário?\"] = dados2015.V0215\n",
    "dados[\"Quantidade de banheiros\"] = dados2015.V2016\n",
    "dados[\"Forma de escoamento\"] = dados2015.V0217\n",
    "dados[\"Proveniência da água canalizada\"] = dados2015.V0212\n",
    "\n",
    "#dados"
   ]
  },
  {
   "cell_type": "code",
   "execution_count": 36,
   "metadata": {
    "collapsed": false
   },
   "outputs": [],
   "source": [
    "#Filtrando regiões\n",
    "dados[\"Regiões\"] = dados2015[\"UF\"]\n",
    "Norte = dados.Regiões[(dados2015.UF>=11) & (dados2015.UF<=17)]\n",
    "Nordeste = dados.Regiões[(dados2015.UF>=21) & (dados2015.UF<=29)]\n",
    "Sudeste = dados.Regiões[(dados2015.UF>=31) & (dados2015.UF<=35)]\n",
    "Sul = dados.Regiões[(dados2015.UF>=41) & (dados2015.UF<=43)]\n",
    "CentroOeste = dados.Regiões[(dados2015.UF>=50) & (dados2015.UF<=53)]\n",
    "\n",
    "#Filtrando renda\n",
    "dados[\"Rendimento mensal\"] = dados[\"Rendimento mensal\"][dados2015.V4621<=100000000]"
   ]
  },
  {
   "cell_type": "code",
   "execution_count": 59,
   "metadata": {
    "collapsed": false
   },
   "outputs": [],
   "source": [
    "dados[\"Regiões\"] = dados[\"Regiões\"].astype('category')\n",
    "dados[\"Regiões\"].cat.categories = ('Rondônia', 'Acre', 'Amazonas', 'Roraima', 'Pará',\n",
    "                              'Amapá', 'Tocantins', 'Maranhão','Piauí', 'Ceará',\n",
    "                              'Rio Grande do Norte','Paraíba', 'Pernambuco', 'Alagoas', \n",
    "                              'Sergipe', 'Bahia', 'Minas Gerais', 'Espírito Santo', \n",
    "                              'Rio de Janeiro', 'São Paulo', 'Paraná', 'Santa Catarina', \n",
    "                              'Rio Grande do Sul','Mato Grosso do Sul', 'Mato Grosso', 'Goiás', \n",
    "                              'Distrito Federal')\n",
    "\n",
    "dados[\"Domicílio\"] = dados[\"Domicílio\"].astype('category')\n",
    "dados[\"Domicílio\"].cat.categories = ('Casa', 'Apartamento', 'Cômodo')\n",
    "\n",
    "dados[\"Quantidade de Cômodos\"] = dados[\"Quantidade de Cômodos\"].astype('float')\n",
    "\n",
    "dados[\"Condição de ocupação\"] = dados[\"Condição de ocupação\"].astype('category')\n",
    "dados[\"Condição de ocupação\"].cat.categories = ('Próprio(pago)', 'Próprio(pagando)', 'Alugado',\n",
    "                                                'Cedido por empregador', 'Cedido de outra forma',\n",
    "                                                'Outras condições')\n",
    "\n",
    "dados[\"Rendimento mensal\"] = dados[\"Rendimento mensal\"].astype('float')\n",
    "\n",
    "dados[\"Banheiro/sanitário?\"] = dados[\"Banheiro/sanitário?\"].astype('category')\n",
    "dados[\"Banheiro/sanitário?\"].cat.categories = ('Sim','Não')\n",
    "\n",
    "dados[\"Quantidade de banheiros\"] = dados[\"Quantidade de banheiros\"].astype('float')\n",
    "\n",
    "dados[\"Forma de escoamento\"] = dados[\"Forma de escoamento\"].astype('category')\n",
    "dados[\"Forma de escoamento\"].cat.categories = ('Rede de esgoto', 'Fossa séptica ligada a rede coletora', \n",
    "                                               'Fossa séptica não ligada a rede coletora', 'Fossa rudimentar', 'Vala', \n",
    "                                               'Direto para rios/lagos/mar', 'Outra forma')\n",
    "\n",
    "dados[\"Proveniência da água canalizada\"] = dados[\"Proveniência da água canalizada\"].astype('category')\n",
    "dados[\"Proveniência da água canalizada\"].cat.categories = ('Rede geral de distribuição',\n",
    "                                                           'Poço ou nascente', 'Outra proveniência')\n"
   ]
  },
  {
   "cell_type": "code",
   "execution_count": 46,
   "metadata": {
    "collapsed": false
   },
   "outputs": [],
   "source": [
    "#Tirando NaN das colunas -> dados.dropna(subset = ['coluna_1', 'coluna_2'])\n",
    "dados = dados.dropna()"
   ]
  },
  {
   "cell_type": "code",
   "execution_count": 58,
   "metadata": {
    "collapsed": false
   },
   "outputs": [
    {
     "name": "stdout",
     "output_type": "stream",
     "text": [
      "Freq absoluta:\n",
      " Casa           95436\n",
      "Apartamento    13202\n",
      "Cômodo           246\n",
      "Name: Domicílio, dtype: int64 \n",
      "\n",
      "Freq relativa:\n",
      " Casa           87.6\n",
      "Apartamento    12.1\n",
      "Cômodo          0.2\n",
      "Name: Domicílio, dtype: float64\n"
     ]
    }
   ],
   "source": [
    "domicilio_absoluto = dados[\"Domicílio\"].value_counts()\n",
    "print(\"Freq absoluta:\\n\", domicilio_absoluto, '\\n')\n",
    "\n",
    "\n",
    "domicilio_relativo = (dados[\"Domicílio\"].value_counts(True)*100).round(decimals=1)\n",
    "print(\"Freq relativa:\\n\", domicilio_relativo)"
   ]
  },
  {
   "cell_type": "code",
   "execution_count": 60,
   "metadata": {
    "collapsed": false
   },
   "outputs": [
    {
     "name": "stdout",
     "output_type": "stream",
     "text": [
      "Freq absoluta:\n",
      " 5.0     32611\n",
      "6.0     22937\n",
      "4.0     15190\n",
      "7.0     13692\n",
      "8.0      7940\n",
      "3.0      6091\n",
      "9.0      3822\n",
      "10.0     2343\n",
      "2.0      1422\n",
      "11.0     1087\n",
      "12.0      775\n",
      "13.0      322\n",
      "14.0      234\n",
      "15.0      159\n",
      "16.0       87\n",
      "18.0       48\n",
      "17.0       43\n",
      "20.0       27\n",
      "19.0       22\n",
      "22.0       12\n",
      "23.0        9\n",
      "21.0        4\n",
      "25.0        2\n",
      "28.0        2\n",
      "27.0        1\n",
      "24.0        1\n",
      "26.0        1\n",
      "Name: Quantidade de Cômodos, dtype: int64 \n",
      "\n",
      "Freq relativa:\n",
      " 5.0     30.0\n",
      "6.0     21.1\n",
      "4.0     14.0\n",
      "7.0     12.6\n",
      "8.0      7.3\n",
      "3.0      5.6\n",
      "9.0      3.5\n",
      "10.0     2.2\n",
      "2.0      1.3\n",
      "11.0     1.0\n",
      "12.0     0.7\n",
      "13.0     0.3\n",
      "14.0     0.2\n",
      "15.0     0.1\n",
      "16.0     0.1\n",
      "18.0     0.0\n",
      "17.0     0.0\n",
      "20.0     0.0\n",
      "19.0     0.0\n",
      "22.0     0.0\n",
      "23.0     0.0\n",
      "21.0     0.0\n",
      "25.0     0.0\n",
      "28.0     0.0\n",
      "27.0     0.0\n",
      "24.0     0.0\n",
      "26.0     0.0\n",
      "Name: Quantidade de Cômodos, dtype: float64\n"
     ]
    }
   ],
   "source": [
    "comodos_absoluto = dados[\"Quantidade de Cômodos\"].value_counts()\n",
    "print(\"Freq absoluta:\\n\", comodos_absoluto, '\\n')\n",
    "\n",
    "\n",
    "comodos_relativo = (dados[\"Quantidade de Cômodos\"].value_counts(True)*100).round(decimals=1)\n",
    "print(\"Freq relativa:\\n\", comodos_relativo)"
   ]
  },
  {
   "cell_type": "code",
   "execution_count": 62,
   "metadata": {
    "collapsed": false
   },
   "outputs": [
    {
     "name": "stdout",
     "output_type": "stream",
     "text": [
      "Freq absoluta:\n",
      " Próprio(pago)            76359\n",
      "Alugado                  20084\n",
      "Próprio(pagando)          5117\n",
      "Cedido de outra forma     5113\n",
      "Cedido por empregador     1940\n",
      "Outras condições           271\n",
      "Name: Condição de ocupação, dtype: int64 \n",
      "\n",
      "Freq relativa:\n",
      " Próprio(pago)            70.1\n",
      "Alugado                  18.4\n",
      "Próprio(pagando)          4.7\n",
      "Cedido de outra forma     4.7\n",
      "Cedido por empregador     1.8\n",
      "Outras condições          0.2\n",
      "Name: Condição de ocupação, dtype: float64\n"
     ]
    }
   ],
   "source": [
    "ocupacao_absoluto = dados[\"Condição de ocupação\"].value_counts()\n",
    "print(\"Freq absoluta:\\n\", ocupacao_absoluto, '\\n')\n",
    "\n",
    "\n",
    "ocupacao_relativo = (dados[\"Condição de ocupação\"].value_counts(True)*100).round(decimals=1)\n",
    "print(\"Freq relativa:\\n\", ocupacao_relativo)"
   ]
  },
  {
   "cell_type": "code",
   "execution_count": 63,
   "metadata": {
    "collapsed": false
   },
   "outputs": [
    {
     "name": "stdout",
     "output_type": "stream",
     "text": [
      "Freq absoluta:\n",
      " Sim    108884\n",
      "Não         0\n",
      "Name: Banheiro/sanitário?, dtype: int64 \n",
      "\n",
      "Freq relativa:\n",
      " Sim    100.0\n",
      "Não      0.0\n",
      "Name: Banheiro/sanitário?, dtype: float64\n"
     ]
    }
   ],
   "source": [
    "banheiro_absoluto = dados[\"Banheiro/sanitário?\"].value_counts()\n",
    "print(\"Freq absoluta:\\n\", banheiro_absoluto, '\\n')\n",
    "\n",
    "\n",
    "banheiro_relativo = (dados[\"Banheiro/sanitário?\"].value_counts(True)*100).round(decimals=1)\n",
    "print(\"Freq relativa:\\n\", banheiro_relativo)"
   ]
  },
  {
   "cell_type": "code",
   "execution_count": 64,
   "metadata": {
    "collapsed": false
   },
   "outputs": [
    {
     "name": "stdout",
     "output_type": "stream",
     "text": [
      "Freq absoluta:\n",
      " 1.0     80395\n",
      "2.0     21361\n",
      "3.0      5031\n",
      "4.0      1353\n",
      "5.0       503\n",
      "6.0       178\n",
      "7.0        49\n",
      "8.0        12\n",
      "10.0        1\n",
      "9.0         1\n",
      "Name: Quantidade de banheiros, dtype: int64 \n",
      "\n",
      "Freq relativa:\n",
      " 1.0     73.8\n",
      "2.0     19.6\n",
      "3.0      4.6\n",
      "4.0      1.2\n",
      "5.0      0.5\n",
      "6.0      0.2\n",
      "7.0      0.0\n",
      "8.0      0.0\n",
      "10.0     0.0\n",
      "9.0      0.0\n",
      "Name: Quantidade de banheiros, dtype: float64\n"
     ]
    }
   ],
   "source": [
    "quatbanheiro_absoluto = dados[\"Quantidade de banheiros\"].value_counts()\n",
    "print(\"Freq absoluta:\\n\", quatbanheiro_absoluto, '\\n')\n",
    "\n",
    "\n",
    "quatbanheiro_relativo = (dados[\"Quantidade de banheiros\"].value_counts(True)*100).round(decimals=1)\n",
    "print(\"Freq relativa:\\n\", quatbanheiro_relativo)"
   ]
  },
  {
   "cell_type": "code",
   "execution_count": 65,
   "metadata": {
    "collapsed": false
   },
   "outputs": [
    {
     "name": "stdout",
     "output_type": "stream",
     "text": [
      "Freq absoluta:\n",
      " Rede de esgoto                              61852\n",
      "Fossa séptica não ligada a rede coletora    19124\n",
      "Fossa rudimentar                            16574\n",
      "Fossa séptica ligada a rede coletora         8423\n",
      "Direto para rios/lagos/mar                   1613\n",
      "Vala                                         1196\n",
      "Outra forma                                   102\n",
      "Name: Forma de escoamento, dtype: int64 \n",
      "\n",
      "Freq relativa:\n",
      " Rede de esgoto                              56.8\n",
      "Fossa séptica não ligada a rede coletora    17.6\n",
      "Fossa rudimentar                            15.2\n",
      "Fossa séptica ligada a rede coletora         7.7\n",
      "Direto para rios/lagos/mar                   1.5\n",
      "Vala                                         1.1\n",
      "Outra forma                                  0.1\n",
      "Name: Forma de escoamento, dtype: float64\n"
     ]
    }
   ],
   "source": [
    "escoamento_absoluto = dados[\"Forma de escoamento\"].value_counts()\n",
    "print(\"Freq absoluta:\\n\", escoamento_absoluto, '\\n')\n",
    "\n",
    "\n",
    "escoamento_relativo = (dados[\"Forma de escoamento\"].value_counts(True)*100).round(decimals=1)\n",
    "print(\"Freq relativa:\\n\", escoamento_relativo)"
   ]
  },
  {
   "cell_type": "code",
   "execution_count": 66,
   "metadata": {
    "collapsed": false
   },
   "outputs": [
    {
     "name": "stdout",
     "output_type": "stream",
     "text": [
      "Freq absoluta:\n",
      " Rede geral de distribuição    95053\n",
      "Poço ou nascente              13354\n",
      "Outra proveniência              477\n",
      "Name: Proveniência da água canalizada, dtype: int64 \n",
      "\n",
      "Freq relativa:\n",
      " Rede geral de distribuição    87.3\n",
      "Poço ou nascente              12.3\n",
      "Outra proveniência             0.4\n",
      "Name: Proveniência da água canalizada, dtype: float64\n"
     ]
    }
   ],
   "source": [
    "prov_absoluto = dados[\"Proveniência da água canalizada\"].value_counts()\n",
    "print(\"Freq absoluta:\\n\", prov_absoluto, '\\n')\n",
    "\n",
    "\n",
    "prov_relativo = (dados[\"Proveniência da água canalizada\"].value_counts(True)*100).round(decimals=1)\n",
    "print(\"Freq relativa:\\n\", prov_relativo)"
   ]
  },
  {
   "cell_type": "code",
   "execution_count": null,
   "metadata": {
    "collapsed": true
   },
   "outputs": [],
   "source": []
  },
  {
   "cell_type": "code",
   "execution_count": null,
   "metadata": {
    "collapsed": true
   },
   "outputs": [],
   "source": []
  },
  {
   "cell_type": "code",
   "execution_count": null,
   "metadata": {
    "collapsed": true
   },
   "outputs": [],
   "source": []
  },
  {
   "cell_type": "code",
   "execution_count": null,
   "metadata": {
    "collapsed": true
   },
   "outputs": [],
   "source": []
  },
  {
   "cell_type": "code",
   "execution_count": null,
   "metadata": {
    "collapsed": true
   },
   "outputs": [],
   "source": []
  },
  {
   "cell_type": "code",
   "execution_count": null,
   "metadata": {
    "collapsed": true
   },
   "outputs": [],
   "source": []
  },
  {
   "cell_type": "code",
   "execution_count": null,
   "metadata": {
    "collapsed": true
   },
   "outputs": [],
   "source": []
  },
  {
   "cell_type": "code",
   "execution_count": null,
   "metadata": {
    "collapsed": true
   },
   "outputs": [],
   "source": []
  },
  {
   "cell_type": "code",
   "execution_count": null,
   "metadata": {
    "collapsed": true
   },
   "outputs": [],
   "source": []
  },
  {
   "cell_type": "code",
   "execution_count": null,
   "metadata": {
    "collapsed": true
   },
   "outputs": [],
   "source": []
  },
  {
   "cell_type": "code",
   "execution_count": null,
   "metadata": {
    "collapsed": true
   },
   "outputs": [],
   "source": []
  },
  {
   "cell_type": "code",
   "execution_count": null,
   "metadata": {
    "collapsed": true
   },
   "outputs": [],
   "source": []
  },
  {
   "cell_type": "markdown",
   "metadata": {
    "collapsed": false
   },
   "source": [
    "___\n",
    "## Conclusão "
   ]
  },
  {
   "cell_type": "markdown",
   "metadata": {
    "collapsed": true
   },
   "source": [
    "Descreva aqui suas conclusões!"
   ]
  },
  {
   "cell_type": "code",
   "execution_count": null,
   "metadata": {
    "collapsed": true
   },
   "outputs": [],
   "source": []
  }
 ],
 "metadata": {
  "anaconda-cloud": {},
  "kernelspec": {
   "display_name": "Python 3",
   "language": "python",
   "name": "python3"
  },
  "language_info": {
   "codemirror_mode": {
    "name": "ipython",
    "version": 3
   },
   "file_extension": ".py",
   "mimetype": "text/x-python",
   "name": "python",
   "nbconvert_exporter": "python",
   "pygments_lexer": "ipython3",
   "version": "3.5.2"
  }
 },
 "nbformat": 4,
 "nbformat_minor": 0
}
